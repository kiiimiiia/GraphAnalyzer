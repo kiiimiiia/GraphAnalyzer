{
 "cells": [
  {
   "cell_type": "code",
   "execution_count": null,
   "metadata": {
    "scrolled": true,
    "pycharm": {
     "is_executing": true
    }
   },
   "outputs": [],
   "source": [
    "!git clone https://github.com/gotec/git2net-tutorials\n",
    "import os\n",
    "os.chdir('git2net-tutorials')\n",
    "!pip install -r requirements.txt\n",
    "os.chdir('..')\n",
    "!git clone https://github.com/gotec/git2net git2net4analysis"
   ]
  },
  {
   "cell_type": "code",
   "execution_count": 17,
   "metadata": {},
   "outputs": [],
   "source": [
    "# Analyse cloned repo\n",
    "\n",
    "import git2net\n",
    "import os\n",
    "import sqlite3\n",
    "from collections import Counter\n",
    "import pandas as pd\n",
    "from collections import defaultdict\n",
    "import pathpy as pp\n",
    "\n",
    "db_filename = 'git2net4analysis.db'\n",
    "\n",
    "def mine_cloned_repo(repo_folder, repo_db):\n",
    "    # We assume a clone of git2net's repository exists in the folder below following the first tutorial.\n",
    "    git_repo_dir = repo_folder\n",
    "\n",
    "    # Here, we specify the database in which we will store the results of the mining process.\n",
    "    sqlite_db_file = repo_db\n",
    "\n",
    "    # Remove database if exists\n",
    "    if os.path.exists(sqlite_db_file):\n",
    "        os.remove(sqlite_db_file)\n",
    "\n",
    "    git2net.mine_git_repo(git_repo_dir, sqlite_db_file)\n",
    "\n",
    "# mine_cloned_repo('git2net4analysis', 'git2net4analysis.db')\n"
   ]
  },
  {
   "cell_type": "code",
   "execution_count": 18,
   "metadata": {},
   "outputs": [
    {
     "name": "stderr",
     "output_type": "stream",
     "text": [
      "author identity disambiguation: 100%|██████████| 66/66 [00:00<00:00, 11915.12it/s]\n"
     ]
    }
   ],
   "source": [
    "# disambiguate author aliases\n",
    "def disambiguate_aliases(db_filename):\n",
    "    git2net.disambiguate_aliases_db(db_filename)\n",
    "\n",
    "    with sqlite3.connect(db_filename) as con:\n",
    "        authors = pd.read_sql(\"\"\"SELECT author_name, author_email, author_id FROM commits\"\"\", con)\n",
    "\n",
    "    Counter(['{} --- {}, <{}>'.format(row.author_id, row.author_name, row.author_email)\n",
    "             for idx, row in authors.iterrows()])\n",
    "\n",
    "disambiguate_aliases(db_filename)"
   ]
  },
  {
   "attachments": {},
   "cell_type": "markdown",
   "metadata": {},
   "source": [
    "A co-editing network represents the collaboration relationships between contributors based on their interactions in the project, such as code commits or file changes.\n",
    "\n",
    "In both the temporal and aggregated network, a node represents an author, whereas edges point from the person changing a line of code to the person who was the original author."
   ]
  },
  {
   "cell_type": "code",
   "execution_count": 19,
   "metadata": {},
   "outputs": [],
   "source": [
    "# The function returns a pathpy temporal network object and two dictionaries containing properties of nodes and edges.\n",
    "# dictionaries are not implemented yet\n",
    "\n",
    "def make_coediting_net(db_filename):\n",
    "    t, node_info, edge_info = git2net.get_bipartite_network(db_filename)\n",
    "    n = pp.Network.from_temporal_network(t)\n",
    "    return (n, node_info, edge_info)\n",
    "\n",
    "n, node_info, edge_info = make_coediting_net(db_filename)\n",
    "\n",
    "# res.adjacency_matrix() # it works only after using func from_temporal_network\n"
   ]
  },
  {
   "cell_type": "code",
   "execution_count": 20,
   "metadata": {
    "scrolled": false
   },
   "outputs": [
    {
     "data": {
      "text/html": [
       "<style>\n",
       "    text.label_zZutkwMo {\n",
       "        text-anchor: middle;\n",
       "        font-size: 8px;\n",
       "        font-family: Arial, Helvetica, sans-serif;\n",
       "        fill: #999999;\n",
       "        stroke: #ffffff;\n",
       "        stroke-width: 0.1px;\n",
       "        opacity: 1.0;\n",
       "    }\n",
       "    .links_zZutkwMo line {\n",
       "    stroke-opacity: 1.0;\n",
       "    }\n",
       "    .arrows svg:path {\n",
       "        stroke: #666;\n",
       "    }\n",
       "    .nodes_zZutkwMo circle {\n",
       "    stroke: #fff;\n",
       "    stroke-width: 0.5px;\n",
       "    }\n",
       "</style>\n",
       "\n",
       "<svg width=\"400\" height=\"400\" id=\"zZutkwMo\">        \n",
       "    <text x=\"20\" y=\"20\" font-family=\"sans-serif\" font-size=\"14px\" fill=\"#666\" style=\"cursor: pointer\"\n",
       "        id='zZutkwMo_svg_txt'>[save svg]</text>\n",
       "</svg>\n",
       "\n",
       "<script charset=\"utf-8\" src=\"https://d3js.org/d3.v4.min.js\"></script>\n",
       "<script charset=\"utf-8\">\n",
       "\n",
       "// Load via requireJS if available (jupyter notebook environment)\n",
       "try {\n",
       "    // Problem: require.config will raise an exception when called for the second time \n",
       "    require.config({\n",
       "        paths: {\n",
       "            //d3: \"https://d3js.org/d3.v4.min\"\n",
       "            d3: \"https://d3js.org/d3.v4.min.js\".replace(\".js\", \"\")\n",
       "        }\n",
       "    });\n",
       "    console.log(\"Detected requireJS\");\n",
       "}\n",
       "catch(err){\n",
       "    // a reference error indicates that requireJS does not exist. \n",
       "    // other errors may occur due to multiple calls to config\n",
       "    if (err instanceof ReferenceError){\n",
       "        console.log(\"Detected no requireJS\");\n",
       "\n",
       "        // Helper function that waits for d3js to be loaded\n",
       "        require = function require(symbols, callback) {\n",
       "            var ms = 5;\n",
       "            window.setTimeout(function(t) {\n",
       "                if (window[symbols[0]])\n",
       "                    callback(window[symbols[0]]);\n",
       "                else \n",
       "                    window.setTimeout(arguments.callee, ms);\n",
       "            }, ms);\n",
       "        }\n",
       "    }\n",
       "}\n",
       "\n",
       "// wait until d3js has been loaded\n",
       "require([\"d3\"], function(d3) {\n",
       "    var svg = d3.select(\"#\"+\"zZutkwMo\"), radius = 6, width = +svg.attr(\"width\"), height = +svg.attr(\"height\");\n",
       "\n",
       "    var color = d3.scaleOrdinal(d3.schemeCategory20);\n",
       "\n",
       "    var graph = {\"links\": [{\"source\": \"n_3\", \"target\": \"test.py\", \"color\": \"#999999\", \"width\": 0.5, \"weight\": 1.0}, {\"source\": \"n_3\", \"target\": \"pyce.py\", \"color\": \"#999999\", \"width\": 0.5, \"weight\": 0.3}, {\"source\": \"n_3\", \"target\": \"ignore\", \"color\": \"#999999\", \"width\": 0.5, \"weight\": 0.3333333333333333}, {\"source\": \"n_2\", \"target\": \"pyce.py\", \"color\": \"#999999\", \"width\": 0.5, \"weight\": 0.7272727272727273}, {\"source\": \"n_2\", \"target\": \"ignore\", \"color\": \"#999999\", \"width\": 0.5, \"weight\": 0.6666666666666666}, {\"source\": \"n_3\", \"target\": \"anonymize.py\", \"color\": \"#999999\", \"width\": 0.5, \"weight\": 0.5}, {\"source\": \"n_2\", \"target\": \"git2net.py\", \"color\": \"#999999\", \"width\": 0.5, \"weight\": 1.0}, {\"source\": \"n_2\", \"target\": \".gitignore\", \"color\": \"#999999\", \"width\": 0.5, \"weight\": 1.0}, {\"source\": \"n_2\", \"target\": \"test_visualisation.py\", \"color\": \"#999999\", \"width\": 0.5, \"weight\": 1.0}, {\"source\": \"n_2\", \"target\": \"test_extract_coedits.py\", \"color\": \"#999999\", \"width\": 0.5, \"weight\": 1.0}, {\"source\": \"n_2\", \"target\": \"test_git2net.py\", \"color\": \"#999999\", \"width\": 0.5, \"weight\": 1.0}, {\"source\": \"n_2\", \"target\": \"test_identify_edits.py\", \"color\": \"#999999\", \"width\": 0.5, \"weight\": 1.0}, {\"source\": \"n_2\", \"target\": \"test_extract_edits.py\", \"color\": \"#999999\", \"width\": 0.5, \"weight\": 1.0}, {\"source\": \"n_2\", \"target\": \"test_extract_editing_paths.py\", \"color\": \"#999999\", \"width\": 0.5, \"weight\": 1.0}, {\"source\": \"n_2\", \"target\": \"test_get_original_line_number.py\", \"color\": \"#999999\", \"width\": 0.5, \"weight\": 1.0}, {\"source\": \"n_2\", \"target\": \"get_previous_names.py\", \"color\": \"#999999\", \"width\": 0.5, \"weight\": 1.0}, {\"source\": \"n_2\", \"target\": \"test_get_unified_changes.py\", \"color\": \"#999999\", \"width\": 0.5, \"weight\": 1.0}, {\"source\": \"n_2\", \"target\": \"test_identify_file_renaming.py\", \"color\": \"#999999\", \"width\": 0.5, \"weight\": 1.0}, {\"source\": \"n_2\", \"target\": \"test_get_path_to_origin.py\", \"color\": \"#999999\", \"width\": 0.5, \"weight\": 1.0}, {\"source\": \"n_2\", \"target\": \"test_get_paths_to_origin.py\", \"color\": \"#999999\", \"width\": 0.5, \"weight\": 1.0}, {\"source\": \"n_2\", \"target\": \"get_original_line_number.md\", \"color\": \"#999999\", \"width\": 0.5, \"weight\": 1.0}, {\"source\": \"n_2\", \"target\": \"README.md\", \"color\": \"#999999\", \"width\": 0.5, \"weight\": 0.8}, {\"source\": \"n_2\", \"target\": \"__init__.py\", \"color\": \"#999999\", \"width\": 0.5, \"weight\": 1.0}, {\"source\": \"n_2\", \"target\": \"setup.py\", \"color\": \"#999999\", \"width\": 0.5, \"weight\": 1.0}, {\"source\": \"n_2\", \"target\": \"test_functions.py\", \"color\": \"#999999\", \"width\": 0.5, \"weight\": 1.0}, {\"source\": \"n_2\", \"target\": \"test_repo_1.zip\", \"color\": \"#999999\", \"width\": 0.5, \"weight\": 1.0}, {\"source\": \"n_2\", \"target\": \"anonymize.py\", \"color\": \"#999999\", \"width\": 0.5, \"weight\": 0.5}, {\"source\": \"n_2\", \"target\": \"requirements.txt\", \"color\": \"#999999\", \"width\": 0.5, \"weight\": 0.7777777777777778}, {\"source\": \"n_2\", \"target\": \"LICENSE.txt\", \"color\": \"#999999\", \"width\": 0.5, \"weight\": 1.0}, {\"source\": \"n_2\", \"target\": \"bug_report.md\", \"color\": \"#999999\", \"width\": 0.5, \"weight\": 1.0}, {\"source\": \"n_2\", \"target\": \"feature_request.md\", \"color\": \"#999999\", \"width\": 0.5, \"weight\": 1.0}, {\"source\": \"n_2\", \"target\": \"extraction.py\", \"color\": \"#999999\", \"width\": 0.5, \"weight\": 0.9411764705882353}, {\"source\": \"n_2\", \"target\": \"_test_extract_editing_paths.py\", \"color\": \"#999999\", \"width\": 0.5, \"weight\": 1.0}, {\"source\": \"n_2\", \"target\": \"_test_extract_edits.py\", \"color\": \"#999999\", \"width\": 0.5, \"weight\": 1.0}, {\"source\": \"n_2\", \"target\": \"_test_get_original_line_number.py\", \"color\": \"#999999\", \"width\": 0.5, \"weight\": 1.0}, {\"source\": \"n_2\", \"target\": \"_test_get_paths_to_origin.py\", \"color\": \"#999999\", \"width\": 0.5, \"weight\": 1.0}, {\"source\": \"n_2\", \"target\": \"_test_get_unified_changes.py\", \"color\": \"#999999\", \"width\": 0.5, \"weight\": 1.0}, {\"source\": \"n_2\", \"target\": \"_test_git2net.py\", \"color\": \"#999999\", \"width\": 0.5, \"weight\": 1.0}, {\"source\": \"n_2\", \"target\": \"_test_identify_edits.py\", \"color\": \"#999999\", \"width\": 0.5, \"weight\": 1.0}, {\"source\": \"n_2\", \"target\": \"_test_identify_file_renaming.py\", \"color\": \"#999999\", \"width\": 0.5, \"weight\": 1.0}, {\"source\": \"n_2\", \"target\": \"_test_visualisation.py\", \"color\": \"#999999\", \"width\": 0.5, \"weight\": 1.0}, {\"source\": \"n_2\", \"target\": \"visualisation.py\", \"color\": \"#999999\", \"width\": 0.5, \"weight\": 1.0}, {\"source\": \"n_2\", \"target\": \".gitmodules\", \"color\": \"#999999\", \"width\": 0.5, \"weight\": 1.0}, {\"source\": \"n_2\", \"target\": \"TUTORIAL.ipynb\", \"color\": \"#999999\", \"width\": 0.5, \"weight\": 0.8}, {\"source\": \"n_4\", \"target\": \"extraction.py\", \"color\": \"#999999\", \"width\": 0.5, \"weight\": 1.0}, {\"source\": \"n_2\", \"target\": \".editorconfig\", \"color\": \"#999999\", \"width\": 0.5, \"weight\": 1.0}, {\"source\": \"n_2\", \"target\": \".gitattributes\", \"color\": \"#999999\", \"width\": 0.5, \"weight\": 1.0}, {\"source\": \"n_2\", \"target\": \"funding.yml\", \"color\": \"#999999\", \"width\": 0.5, \"weight\": 1.0}, {\"source\": \"n_2\", \"target\": \"security.md\", \"color\": \"#999999\", \"width\": 0.5, \"weight\": 1.0}, {\"source\": \"n_2\", \"target\": \".npmrc\", \"color\": \"#999999\", \"width\": 0.5, \"weight\": 1.0}, {\"source\": \"n_2\", \"target\": \".travis.yml\", \"color\": \"#999999\", \"width\": 0.5, \"weight\": 1.0}, {\"source\": \"n_2\", \"target\": \"binary-extensions.json\", \"color\": \"#999999\", \"width\": 0.5, \"weight\": 1.0}, {\"source\": \"n_2\", \"target\": \"binary-extensions.json.d.ts\", \"color\": \"#999999\", \"width\": 0.5, \"weight\": 1.0}, {\"source\": \"n_2\", \"target\": \"index.d.ts\", \"color\": \"#999999\", \"width\": 0.5, \"weight\": 1.0}, {\"source\": \"n_2\", \"target\": \"index.js\", \"color\": \"#999999\", \"width\": 0.5, \"weight\": 1.0}, {\"source\": \"n_2\", \"target\": \"index.test-d.ts\", \"color\": \"#999999\", \"width\": 0.5, \"weight\": 1.0}, {\"source\": \"n_2\", \"target\": \"license\", \"color\": \"#999999\", \"width\": 0.5, \"weight\": 1.0}, {\"source\": \"n_2\", \"target\": \"package.json\", \"color\": \"#999999\", \"width\": 0.5, \"weight\": 1.0}, {\"source\": \"n_2\", \"target\": \"readme.md\", \"color\": \"#999999\", \"width\": 0.5, \"weight\": 1.0}, {\"source\": \"n_2\", \"target\": \"test.js\", \"color\": \"#999999\", \"width\": 0.5, \"weight\": 1.0}, {\"source\": \"n_2\", \"target\": \"command_line.py\", \"color\": \"#999999\", \"width\": 0.5, \"weight\": 0.9}, {\"source\": \"n_6\", \"target\": \"TUTORIAL.ipynb\", \"color\": \"#999999\", \"width\": 0.5, \"weight\": 1.0}, {\"source\": \"n_5\", \"target\": \"extraction.py\", \"color\": \"#999999\", \"width\": 0.5, \"weight\": 1.0}, {\"source\": \"n_1\", \"target\": \"command_line.py\", \"color\": \"#999999\", \"width\": 0.5, \"weight\": 1.0}, {\"source\": \"n_2\", \"target\": \"disambiguation.py\", \"color\": \"#999999\", \"width\": 0.5, \"weight\": 0.7142857142857143}, {\"source\": \"n_2\", \"target\": \"pyproject.toml\", \"color\": \"#999999\", \"width\": 0.5, \"weight\": 1.0}, {\"source\": \"n_2\", \"target\": \"setup.cfg\", \"color\": \"#999999\", \"width\": 0.5, \"weight\": 1.0}, {\"source\": \"n_0\", \"target\": \"README.md\", \"color\": \"#999999\", \"width\": 0.5, \"weight\": 0.45454545454545453}, {\"source\": \"n_0\", \"target\": \"requirements.txt\", \"color\": \"#999999\", \"width\": 0.5, \"weight\": 0.36363636363636365}, {\"source\": \"n_0\", \"target\": \"TUTORIAL.ipynb\", \"color\": \"#999999\", \"width\": 0.5, \"weight\": 0.18181818181818182}, {\"source\": \"n_2\", \"target\": \"python-app.yml\", \"color\": \"#999999\", \"width\": 0.5, \"weight\": 1.0}, {\"source\": \"n_2\", \"target\": \"python-publish.yml\", \"color\": \"#999999\", \"width\": 0.5, \"weight\": 1.0}, {\"source\": \"n_2\", \"target\": \"Makefile\", \"color\": \"#999999\", \"width\": 0.5, \"weight\": 1.0}, {\"source\": \"n_2\", \"target\": \"make.bat\", \"color\": \"#999999\", \"width\": 0.5, \"weight\": 1.0}, {\"source\": \"n_2\", \"target\": \"conf.py\", \"color\": \"#999999\", \"width\": 0.5, \"weight\": 1.0}, {\"source\": \"n_2\", \"target\": \"git2net.rst\", \"color\": \"#999999\", \"width\": 0.5, \"weight\": 1.0}, {\"source\": \"n_2\", \"target\": \"index.rst\", \"color\": \"#999999\", \"width\": 0.5, \"weight\": 1.0}, {\"source\": \"n_2\", \"target\": \"getting_started.rst\", \"color\": \"#999999\", \"width\": 0.5, \"weight\": 1.0}, {\"source\": \"n_2\", \"target\": \"modules.rst\", \"color\": \"#999999\", \"width\": 0.5, \"weight\": 1.0}, {\"source\": \"n_2\", \"target\": \"index.html\", \"color\": \"#999999\", \"width\": 0.5, \"weight\": 1.0}, {\"source\": \"n_2\", \"target\": \"api_reference.rst\", \"color\": \"#999999\", \"width\": 0.5, \"weight\": 1.0}, {\"source\": \"n_2\", \"target\": \"overview_installation.rst\", \"color\": \"#999999\", \"width\": 0.5, \"weight\": 1.0}, {\"source\": \"n_2\", \"target\": \"complexity.py\", \"color\": \"#999999\", \"width\": 0.5, \"weight\": 1.0}, {\"source\": \"n_9\", \"target\": \"extraction.py\", \"color\": \"#999999\", \"width\": 0.5, \"weight\": 1.0}, {\"source\": \"n_8\", \"target\": \"extraction.py\", \"color\": \"#999999\", \"width\": 0.5, \"weight\": 1.0}, {\"source\": \"n_7\", \"target\": \"extraction.py\", \"color\": \"#999999\", \"width\": 0.5, \"weight\": 0.5}, {\"source\": \"n_7\", \"target\": \"disambiguation.py\", \"color\": \"#999999\", \"width\": 0.5, \"weight\": 0.5}], \"nodes\": [{\"id\": \"n_3\", \"text\": \"n_3\", \"color\": \"#73D2DE\", \"size\": 5.0}, {\"id\": \"test.py\", \"text\": \"test.py\", \"color\": \"#2E5EAA\", \"size\": 5.0}, {\"id\": \"pyce.py\", \"text\": \"pyce.py\", \"color\": \"#2E5EAA\", \"size\": 5.0}, {\"id\": \"ignore\", \"text\": \"ignore\", \"color\": \"#2E5EAA\", \"size\": 5.0}, {\"id\": \"n_2\", \"text\": \"n_2\", \"color\": \"#73D2DE\", \"size\": 5.0}, {\"id\": \"anonymize.py\", \"text\": \"anonymize.py\", \"color\": \"#2E5EAA\", \"size\": 5.0}, {\"id\": \"git2net.py\", \"text\": \"git2net.py\", \"color\": \"#2E5EAA\", \"size\": 5.0}, {\"id\": \".gitignore\", \"text\": \".gitignore\", \"color\": \"#2E5EAA\", \"size\": 5.0}, {\"id\": \"test_visualisation.py\", \"text\": \"test_visualisation.py\", \"color\": \"#2E5EAA\", \"size\": 5.0}, {\"id\": \"test_extract_coedits.py\", \"text\": \"test_extract_coedits.py\", \"color\": \"#2E5EAA\", \"size\": 5.0}, {\"id\": \"test_git2net.py\", \"text\": \"test_git2net.py\", \"color\": \"#2E5EAA\", \"size\": 5.0}, {\"id\": \"test_identify_edits.py\", \"text\": \"test_identify_edits.py\", \"color\": \"#2E5EAA\", \"size\": 5.0}, {\"id\": \"test_extract_edits.py\", \"text\": \"test_extract_edits.py\", \"color\": \"#2E5EAA\", \"size\": 5.0}, {\"id\": \"test_extract_editing_paths.py\", \"text\": \"test_extract_editing_paths.py\", \"color\": \"#2E5EAA\", \"size\": 5.0}, {\"id\": \"test_get_original_line_number.py\", \"text\": \"test_get_original_line_number.py\", \"color\": \"#2E5EAA\", \"size\": 5.0}, {\"id\": \"get_previous_names.py\", \"text\": \"get_previous_names.py\", \"color\": \"#2E5EAA\", \"size\": 5.0}, {\"id\": \"test_get_unified_changes.py\", \"text\": \"test_get_unified_changes.py\", \"color\": \"#2E5EAA\", \"size\": 5.0}, {\"id\": \"test_identify_file_renaming.py\", \"text\": \"test_identify_file_renaming.py\", \"color\": \"#2E5EAA\", \"size\": 5.0}, {\"id\": \"test_get_path_to_origin.py\", \"text\": \"test_get_path_to_origin.py\", \"color\": \"#2E5EAA\", \"size\": 5.0}, {\"id\": \"test_get_paths_to_origin.py\", \"text\": \"test_get_paths_to_origin.py\", \"color\": \"#2E5EAA\", \"size\": 5.0}, {\"id\": \"get_original_line_number.md\", \"text\": \"get_original_line_number.md\", \"color\": \"#2E5EAA\", \"size\": 5.0}, {\"id\": \"README.md\", \"text\": \"README.md\", \"color\": \"#2E5EAA\", \"size\": 5.0}, {\"id\": \"__init__.py\", \"text\": \"__init__.py\", \"color\": \"#2E5EAA\", \"size\": 5.0}, {\"id\": \"setup.py\", \"text\": \"setup.py\", \"color\": \"#2E5EAA\", \"size\": 5.0}, {\"id\": \"test_functions.py\", \"text\": \"test_functions.py\", \"color\": \"#2E5EAA\", \"size\": 5.0}, {\"id\": \"test_repo_1.zip\", \"text\": \"test_repo_1.zip\", \"color\": \"#2E5EAA\", \"size\": 5.0}, {\"id\": \"requirements.txt\", \"text\": \"requirements.txt\", \"color\": \"#2E5EAA\", \"size\": 5.0}, {\"id\": \"LICENSE.txt\", \"text\": \"LICENSE.txt\", \"color\": \"#2E5EAA\", \"size\": 5.0}, {\"id\": \"bug_report.md\", \"text\": \"bug_report.md\", \"color\": \"#2E5EAA\", \"size\": 5.0}, {\"id\": \"feature_request.md\", \"text\": \"feature_request.md\", \"color\": \"#2E5EAA\", \"size\": 5.0}, {\"id\": \"extraction.py\", \"text\": \"extraction.py\", \"color\": \"#2E5EAA\", \"size\": 5.0}, {\"id\": \"_test_extract_editing_paths.py\", \"text\": \"_test_extract_editing_paths.py\", \"color\": \"#2E5EAA\", \"size\": 5.0}, {\"id\": \"_test_extract_edits.py\", \"text\": \"_test_extract_edits.py\", \"color\": \"#2E5EAA\", \"size\": 5.0}, {\"id\": \"_test_get_original_line_number.py\", \"text\": \"_test_get_original_line_number.py\", \"color\": \"#2E5EAA\", \"size\": 5.0}, {\"id\": \"_test_get_paths_to_origin.py\", \"text\": \"_test_get_paths_to_origin.py\", \"color\": \"#2E5EAA\", \"size\": 5.0}, {\"id\": \"_test_get_unified_changes.py\", \"text\": \"_test_get_unified_changes.py\", \"color\": \"#2E5EAA\", \"size\": 5.0}, {\"id\": \"_test_git2net.py\", \"text\": \"_test_git2net.py\", \"color\": \"#2E5EAA\", \"size\": 5.0}, {\"id\": \"_test_identify_edits.py\", \"text\": \"_test_identify_edits.py\", \"color\": \"#2E5EAA\", \"size\": 5.0}, {\"id\": \"_test_identify_file_renaming.py\", \"text\": \"_test_identify_file_renaming.py\", \"color\": \"#2E5EAA\", \"size\": 5.0}, {\"id\": \"_test_visualisation.py\", \"text\": \"_test_visualisation.py\", \"color\": \"#2E5EAA\", \"size\": 5.0}, {\"id\": \"visualisation.py\", \"text\": \"visualisation.py\", \"color\": \"#2E5EAA\", \"size\": 5.0}, {\"id\": \".gitmodules\", \"text\": \".gitmodules\", \"color\": \"#2E5EAA\", \"size\": 5.0}, {\"id\": \"TUTORIAL.ipynb\", \"text\": \"TUTORIAL.ipynb\", \"color\": \"#2E5EAA\", \"size\": 5.0}, {\"id\": \"n_4\", \"text\": \"n_4\", \"color\": \"#73D2DE\", \"size\": 5.0}, {\"id\": \".editorconfig\", \"text\": \".editorconfig\", \"color\": \"#2E5EAA\", \"size\": 5.0}, {\"id\": \".gitattributes\", \"text\": \".gitattributes\", \"color\": \"#2E5EAA\", \"size\": 5.0}, {\"id\": \"funding.yml\", \"text\": \"funding.yml\", \"color\": \"#2E5EAA\", \"size\": 5.0}, {\"id\": \"security.md\", \"text\": \"security.md\", \"color\": \"#2E5EAA\", \"size\": 5.0}, {\"id\": \".npmrc\", \"text\": \".npmrc\", \"color\": \"#2E5EAA\", \"size\": 5.0}, {\"id\": \".travis.yml\", \"text\": \".travis.yml\", \"color\": \"#2E5EAA\", \"size\": 5.0}, {\"id\": \"binary-extensions.json\", \"text\": \"binary-extensions.json\", \"color\": \"#2E5EAA\", \"size\": 5.0}, {\"id\": \"binary-extensions.json.d.ts\", \"text\": \"binary-extensions.json.d.ts\", \"color\": \"#2E5EAA\", \"size\": 5.0}, {\"id\": \"index.d.ts\", \"text\": \"index.d.ts\", \"color\": \"#2E5EAA\", \"size\": 5.0}, {\"id\": \"index.js\", \"text\": \"index.js\", \"color\": \"#2E5EAA\", \"size\": 5.0}, {\"id\": \"index.test-d.ts\", \"text\": \"index.test-d.ts\", \"color\": \"#2E5EAA\", \"size\": 5.0}, {\"id\": \"license\", \"text\": \"license\", \"color\": \"#2E5EAA\", \"size\": 5.0}, {\"id\": \"package.json\", \"text\": \"package.json\", \"color\": \"#2E5EAA\", \"size\": 5.0}, {\"id\": \"readme.md\", \"text\": \"readme.md\", \"color\": \"#2E5EAA\", \"size\": 5.0}, {\"id\": \"test.js\", \"text\": \"test.js\", \"color\": \"#2E5EAA\", \"size\": 5.0}, {\"id\": \"command_line.py\", \"text\": \"command_line.py\", \"color\": \"#2E5EAA\", \"size\": 5.0}, {\"id\": \"n_6\", \"text\": \"n_6\", \"color\": \"#73D2DE\", \"size\": 5.0}, {\"id\": \"n_5\", \"text\": \"n_5\", \"color\": \"#73D2DE\", \"size\": 5.0}, {\"id\": \"n_1\", \"text\": \"n_1\", \"color\": \"#73D2DE\", \"size\": 5.0}, {\"id\": \"disambiguation.py\", \"text\": \"disambiguation.py\", \"color\": \"#2E5EAA\", \"size\": 5.0}, {\"id\": \"pyproject.toml\", \"text\": \"pyproject.toml\", \"color\": \"#2E5EAA\", \"size\": 5.0}, {\"id\": \"setup.cfg\", \"text\": \"setup.cfg\", \"color\": \"#2E5EAA\", \"size\": 5.0}, {\"id\": \"n_0\", \"text\": \"n_0\", \"color\": \"#73D2DE\", \"size\": 5.0}, {\"id\": \"python-app.yml\", \"text\": \"python-app.yml\", \"color\": \"#2E5EAA\", \"size\": 5.0}, {\"id\": \"python-publish.yml\", \"text\": \"python-publish.yml\", \"color\": \"#2E5EAA\", \"size\": 5.0}, {\"id\": \"Makefile\", \"text\": \"Makefile\", \"color\": \"#2E5EAA\", \"size\": 5.0}, {\"id\": \"make.bat\", \"text\": \"make.bat\", \"color\": \"#2E5EAA\", \"size\": 5.0}, {\"id\": \"conf.py\", \"text\": \"conf.py\", \"color\": \"#2E5EAA\", \"size\": 5.0}, {\"id\": \"git2net.rst\", \"text\": \"git2net.rst\", \"color\": \"#2E5EAA\", \"size\": 5.0}, {\"id\": \"index.rst\", \"text\": \"index.rst\", \"color\": \"#2E5EAA\", \"size\": 5.0}, {\"id\": \"getting_started.rst\", \"text\": \"getting_started.rst\", \"color\": \"#2E5EAA\", \"size\": 5.0}, {\"id\": \"modules.rst\", \"text\": \"modules.rst\", \"color\": \"#2E5EAA\", \"size\": 5.0}, {\"id\": \"index.html\", \"text\": \"index.html\", \"color\": \"#2E5EAA\", \"size\": 5.0}, {\"id\": \"api_reference.rst\", \"text\": \"api_reference.rst\", \"color\": \"#2E5EAA\", \"size\": 5.0}, {\"id\": \"overview_installation.rst\", \"text\": \"overview_installation.rst\", \"color\": \"#2E5EAA\", \"size\": 5.0}, {\"id\": \"complexity.py\", \"text\": \"complexity.py\", \"color\": \"#2E5EAA\", \"size\": 5.0}, {\"id\": \"n_9\", \"text\": \"n_9\", \"color\": \"#73D2DE\", \"size\": 5.0}, {\"id\": \"n_8\", \"text\": \"n_8\", \"color\": \"#73D2DE\", \"size\": 5.0}, {\"id\": \"n_7\", \"text\": \"n_7\", \"color\": \"#73D2DE\", \"size\": 5.0}]};\n",
       "    var directed = true;\n",
       "\n",
       "    var simulation = d3.forceSimulation()        \n",
       "       .force(\"link\", d3.forceLink().id(function(d) { return d.id; }).strength(function(d){return d.weight;}))\n",
       "        .force(\"charge\", d3.forceManyBody().strength(-20).distanceMax(400))\n",
       "       .force(\"repelForce\", d3.forceManyBody().strength(-200).distanceMax(100))\n",
       "       .force(\"center\", d3.forceCenter(400 / 2, 400 / 2))\n",
       "       .alphaTarget(0.0);\n",
       "\n",
       "    svg.append(\"defs\").selectAll(\"marker\")\n",
       "        .data([\"end\"])\n",
       "    .enter().append(\"marker\")\n",
       "        .attr(\"id\", String)\n",
       "        .attr(\"viewBox\", \"0 -5 20 20\")\n",
       "        .attr(\"refX\", 34)\n",
       "        .attr(\"refY\", 0)\n",
       "        .attr(\"markerWidth\", 15)\n",
       "        .attr(\"markerHeight\", 15)\n",
       "        .attr(\"orient\", \"auto\")\n",
       "    .append(\"path\")\n",
       "        // draws a filled path (triangle) between three points\n",
       "        .attr(\"d\", \"M0,-5 L20,0 L0,5 z\")\n",
       "        .attr(\"fill\", '#999')\n",
       "        .attr(\"stroke\", 'none');\n",
       "\n",
       "    var g = svg.append(\"g\")\n",
       "        .attr(\"class\", \"everything\");\n",
       "\n",
       "    var link = g.append(\"g\")\n",
       "        .attr(\"class\", \"links_zZutkwMo\")\n",
       "        .selectAll(\"line\")\n",
       "        .data(graph.links)\n",
       "        .enter().append(\"line\")\n",
       "        .attr(\"stroke-width\", function(d) { return d.width; })\n",
       "        .attr(\"stroke\", function(d) { return d.color; } );\n",
       "\n",
       "    if (directed)\n",
       "        link.attr(\"marker-end\", \"url(#end)\");\n",
       "\n",
       "    var node_g = g.append(\"g\")\n",
       "        .attr(\"class\", \"nodes_zZutkwMo\")\n",
       "        .selectAll(\"circle\")\n",
       "        .data(graph.nodes)\n",
       "        .enter()\n",
       "        .append(\"g\"); \n",
       "\n",
       "    var node = node_g.append(\"circle\")\n",
       "        .attr('id', function(d) { return d.id; })\n",
       "        .attr(\"r\", function(d) { return d.size; })\n",
       "        .attr(\"fill\", function(d) { return d.color; })\n",
       "        .call(d3.drag()\n",
       "            .on(\"start\", dragstarted)\n",
       "            .on(\"drag\", dragged)\n",
       "            .on(\"end\", dragended));\n",
       "\n",
       "    var text = node_g.append(\"text\")\n",
       "    .attr(\"x\", [0, -10][0])\n",
       "    .attr(\"y\", [0, -10][1]+3)\n",
       "    .attr(\"id\", function(d) {return d.id; })\n",
       "    .attr(\"class\", \"label_zZutkwMo\")\n",
       "    .text(function(d) { return d.id; });\n",
       "\n",
       "    node.append(\"title\")\n",
       "        .text(function(d) { return d.text; });\n",
       "\n",
       "    var zoom_handler = d3.zoom()\n",
       "        .on(\"zoom\", zoom_actions);\n",
       "    zoom_handler(svg);\n",
       "\n",
       "    // attach event handler for svg export\n",
       "    d3.select('#zZutkwMo_svg_txt').on(\"click\", save_svg);\n",
       "\n",
       "    simulation\n",
       "        .nodes(graph.nodes)\n",
       "        .on(\"tick\", ticked);\n",
       "\n",
       "    simulation.force(\"link\")\n",
       "        .links(graph.links);\n",
       "\n",
       "    function ticked() {\n",
       "        link.attr(\"x1\", function(d) { return d.source.x; })\n",
       "            .attr(\"y1\", function(d) { return d.source.y; })\n",
       "            .attr(\"x2\", function(d) { return d.target.x; })\n",
       "            .attr(\"y2\", function(d) { return d.target.y; });\n",
       "\n",
       "         text.attr(\"transform\", transform);\n",
       "\n",
       "\n",
       "        text.attr(\"cx\", function(d) { return d.x; })\n",
       "            .attr(\"cy\", function(d) { return d.y; });\n",
       "\n",
       "        node.attr(\"cx\", function(d) { return d.x; })\n",
       "            .attr(\"cy\", function(d) { return d.y; });\n",
       "    }\n",
       "\n",
       "    function transform(d) {\n",
       "        return \"translate(\" + d.x + \",\" + d.y + \")\";\n",
       "    }\n",
       "\n",
       "    function dragstarted(d) {\n",
       "    if (!d3.event.active) simulation.alphaTarget(0.3).restart();\n",
       "    d.fx = d.x;\n",
       "    d.fy = d.y;\n",
       "    }\n",
       "\n",
       "    function zoom_actions(){\n",
       "        g.attr(\"transform\", d3.event.transform)\n",
       "    }    \n",
       "\n",
       "    function dragged(d) {\n",
       "    d.fx = d3.event.x;\n",
       "    d.fy = d3.event.y;\n",
       "    }\n",
       "\n",
       "    function dragended(d) {\n",
       "    if (!d3.event.active) simulation.alphaTarget(0);\n",
       "    d.fx = null;\n",
       "    d.fy = null;\n",
       "    }\n",
       "\n",
       "    function to_svg() {\n",
       "        // Returns a SVG representation of the current state of the visualisation\n",
       "\t    var svg  = document.getElementById('zZutkwMo');\n",
       "\t    var xml = (new XMLSerializer).serializeToString(svg);\n",
       "        return xml;\n",
       "    }\n",
       "\n",
       "    function save_svg() {\n",
       "        var svg  = document.getElementById('zZutkwMo');\n",
       "        var xml = (new XMLSerializer).serializeToString(svg);        \n",
       "        var blob = new Blob([xml], {type: 'text/xml'});\n",
       "        if(window.navigator.msSaveOrOpenBlob) {\n",
       "            window.navigator.msSaveBlob(blob, 'network.svg');\n",
       "        }\n",
       "        else{\n",
       "            var elem = window.document.createElement('a');\n",
       "            elem.href = window.URL.createObjectURL(blob);\n",
       "            elem.download = 'network.svg';\n",
       "            document.body.appendChild(elem);\n",
       "            elem.click();\n",
       "            document.body.removeChild(elem);\n",
       "        }\n",
       "    }\n",
       "});\n",
       "</script>"
      ],
      "text/plain": [
       "<IPython.core.display.HTML object>"
      ]
     },
     "metadata": {},
     "output_type": "display_data"
    }
   ],
   "source": [
    "colour_map = {'author': '#73D2DE', 'file': '#2E5EAA'}\n",
    "node_color = {node: colour_map[node_info['class'][node]] for node in n.nodes}\n",
    "pp.visualisation.plot(n, node_color=node_color)"
   ]
  },
  {
   "cell_type": "code",
   "execution_count": 21,
   "metadata": {},
   "outputs": [],
   "source": [
    "# node_info['class']"
   ]
  },
  {
   "cell_type": "code",
   "execution_count": 22,
   "metadata": {},
   "outputs": [],
   "source": [
    "# for node in n.nodes:\n",
    "#     print(node , '\\n\\n')"
   ]
  },
  {
   "cell_type": "code",
   "execution_count": 23,
   "metadata": {},
   "outputs": [
    {
     "data": {
      "text/html": [
       "<style>\n",
       "    text.label_YcdyuQfJ {\n",
       "        text-anchor: middle;\n",
       "        font-size: 8px;\n",
       "        font-family: Arial, Helvetica, sans-serif;\n",
       "        fill: #999999;\n",
       "        stroke: #ffffff;\n",
       "        stroke-width: 0.1px;\n",
       "        opacity: 1.0;\n",
       "    }\n",
       "    .links_YcdyuQfJ line {\n",
       "    stroke-opacity: 1.0;\n",
       "    }\n",
       "    .arrows svg:path {\n",
       "        stroke: #666;\n",
       "    }\n",
       "    .nodes_YcdyuQfJ circle {\n",
       "    stroke: #fff;\n",
       "    stroke-width: 0.5px;\n",
       "    }\n",
       "</style>\n",
       "\n",
       "<svg width=\"400\" height=\"400\" id=\"YcdyuQfJ\">        \n",
       "    <text x=\"20\" y=\"20\" font-family=\"sans-serif\" font-size=\"14px\" fill=\"#666\" style=\"cursor: pointer\"\n",
       "        id='YcdyuQfJ_svg_txt'>[save svg]</text>\n",
       "</svg>\n",
       "\n",
       "<script charset=\"utf-8\" src=\"https://d3js.org/d3.v4.min.js\"></script>\n",
       "<script charset=\"utf-8\">\n",
       "\n",
       "// Load via requireJS if available (jupyter notebook environment)\n",
       "try {\n",
       "    // Problem: require.config will raise an exception when called for the second time \n",
       "    require.config({\n",
       "        paths: {\n",
       "            //d3: \"https://d3js.org/d3.v4.min\"\n",
       "            d3: \"https://d3js.org/d3.v4.min.js\".replace(\".js\", \"\")\n",
       "        }\n",
       "    });\n",
       "    console.log(\"Detected requireJS\");\n",
       "}\n",
       "catch(err){\n",
       "    // a reference error indicates that requireJS does not exist. \n",
       "    // other errors may occur due to multiple calls to config\n",
       "    if (err instanceof ReferenceError){\n",
       "        console.log(\"Detected no requireJS\");\n",
       "\n",
       "        // Helper function that waits for d3js to be loaded\n",
       "        require = function require(symbols, callback) {\n",
       "            var ms = 5;\n",
       "            window.setTimeout(function(t) {\n",
       "                if (window[symbols[0]])\n",
       "                    callback(window[symbols[0]]);\n",
       "                else \n",
       "                    window.setTimeout(arguments.callee, ms);\n",
       "            }, ms);\n",
       "        }\n",
       "    }\n",
       "}\n",
       "\n",
       "// wait until d3js has been loaded\n",
       "require([\"d3\"], function(d3) {\n",
       "    var svg = d3.select(\"#\"+\"YcdyuQfJ\"), radius = 6, width = +svg.attr(\"width\"), height = +svg.attr(\"height\");\n",
       "\n",
       "    var color = d3.scaleOrdinal(d3.schemeCategory20);\n",
       "\n",
       "    var graph = {\"links\": [{\"source\": \"n_3\", \"target\": \"test.py\", \"color\": \"#999999\", \"width\": 0.5, \"weight\": 1.0}, {\"source\": \"n_3\", \"target\": \"pyce.py\", \"color\": \"#999999\", \"width\": 0.5, \"weight\": 0.3}, {\"source\": \"n_3\", \"target\": \"ignore\", \"color\": \"#999999\", \"width\": 0.5, \"weight\": 0.3333333333333333}, {\"source\": \"n_2\", \"target\": \"pyce.py\", \"color\": \"#999999\", \"width\": 0.5, \"weight\": 0.7272727272727273}, {\"source\": \"n_2\", \"target\": \"ignore\", \"color\": \"#999999\", \"width\": 0.5, \"weight\": 0.6666666666666666}, {\"source\": \"n_3\", \"target\": \"anonymize.py\", \"color\": \"#999999\", \"width\": 0.5, \"weight\": 0.5}, {\"source\": \"n_2\", \"target\": \"git2net.py\", \"color\": \"#999999\", \"width\": 0.5, \"weight\": 1.0}, {\"source\": \"n_2\", \"target\": \".gitignore\", \"color\": \"#999999\", \"width\": 0.5, \"weight\": 1.0}, {\"source\": \"n_2\", \"target\": \"test_visualisation.py\", \"color\": \"#999999\", \"width\": 0.5, \"weight\": 1.0}, {\"source\": \"n_2\", \"target\": \"test_extract_coedits.py\", \"color\": \"#999999\", \"width\": 0.5, \"weight\": 1.0}, {\"source\": \"n_2\", \"target\": \"test_git2net.py\", \"color\": \"#999999\", \"width\": 0.5, \"weight\": 1.0}, {\"source\": \"n_2\", \"target\": \"test_identify_edits.py\", \"color\": \"#999999\", \"width\": 0.5, \"weight\": 1.0}, {\"source\": \"n_2\", \"target\": \"test_extract_edits.py\", \"color\": \"#999999\", \"width\": 0.5, \"weight\": 1.0}, {\"source\": \"n_2\", \"target\": \"test_extract_editing_paths.py\", \"color\": \"#999999\", \"width\": 0.5, \"weight\": 1.0}, {\"source\": \"n_2\", \"target\": \"test_get_original_line_number.py\", \"color\": \"#999999\", \"width\": 0.5, \"weight\": 1.0}, {\"source\": \"n_2\", \"target\": \"get_previous_names.py\", \"color\": \"#999999\", \"width\": 0.5, \"weight\": 1.0}, {\"source\": \"n_2\", \"target\": \"test_get_unified_changes.py\", \"color\": \"#999999\", \"width\": 0.5, \"weight\": 1.0}, {\"source\": \"n_2\", \"target\": \"test_identify_file_renaming.py\", \"color\": \"#999999\", \"width\": 0.5, \"weight\": 1.0}, {\"source\": \"n_2\", \"target\": \"test_get_path_to_origin.py\", \"color\": \"#999999\", \"width\": 0.5, \"weight\": 1.0}, {\"source\": \"n_2\", \"target\": \"test_get_paths_to_origin.py\", \"color\": \"#999999\", \"width\": 0.5, \"weight\": 1.0}, {\"source\": \"n_2\", \"target\": \"get_original_line_number.md\", \"color\": \"#999999\", \"width\": 0.5, \"weight\": 1.0}, {\"source\": \"n_2\", \"target\": \"README.md\", \"color\": \"#999999\", \"width\": 0.5, \"weight\": 0.8}, {\"source\": \"n_2\", \"target\": \"__init__.py\", \"color\": \"#999999\", \"width\": 0.5, \"weight\": 1.0}, {\"source\": \"n_2\", \"target\": \"setup.py\", \"color\": \"#999999\", \"width\": 0.5, \"weight\": 1.0}, {\"source\": \"n_2\", \"target\": \"test_functions.py\", \"color\": \"#999999\", \"width\": 0.5, \"weight\": 1.0}, {\"source\": \"n_2\", \"target\": \"test_repo_1.zip\", \"color\": \"#999999\", \"width\": 0.5, \"weight\": 1.0}, {\"source\": \"n_2\", \"target\": \"anonymize.py\", \"color\": \"#999999\", \"width\": 0.5, \"weight\": 0.5}, {\"source\": \"n_2\", \"target\": \"requirements.txt\", \"color\": \"#999999\", \"width\": 0.5, \"weight\": 0.7777777777777778}, {\"source\": \"n_2\", \"target\": \"LICENSE.txt\", \"color\": \"#999999\", \"width\": 0.5, \"weight\": 1.0}, {\"source\": \"n_2\", \"target\": \"bug_report.md\", \"color\": \"#999999\", \"width\": 0.5, \"weight\": 1.0}, {\"source\": \"n_2\", \"target\": \"feature_request.md\", \"color\": \"#999999\", \"width\": 0.5, \"weight\": 1.0}, {\"source\": \"n_2\", \"target\": \"extraction.py\", \"color\": \"#999999\", \"width\": 0.5, \"weight\": 0.9411764705882353}, {\"source\": \"n_2\", \"target\": \"_test_extract_editing_paths.py\", \"color\": \"#999999\", \"width\": 0.5, \"weight\": 1.0}, {\"source\": \"n_2\", \"target\": \"_test_extract_edits.py\", \"color\": \"#999999\", \"width\": 0.5, \"weight\": 1.0}, {\"source\": \"n_2\", \"target\": \"_test_get_original_line_number.py\", \"color\": \"#999999\", \"width\": 0.5, \"weight\": 1.0}, {\"source\": \"n_2\", \"target\": \"_test_get_paths_to_origin.py\", \"color\": \"#999999\", \"width\": 0.5, \"weight\": 1.0}, {\"source\": \"n_2\", \"target\": \"_test_get_unified_changes.py\", \"color\": \"#999999\", \"width\": 0.5, \"weight\": 1.0}, {\"source\": \"n_2\", \"target\": \"_test_git2net.py\", \"color\": \"#999999\", \"width\": 0.5, \"weight\": 1.0}, {\"source\": \"n_2\", \"target\": \"_test_identify_edits.py\", \"color\": \"#999999\", \"width\": 0.5, \"weight\": 1.0}, {\"source\": \"n_2\", \"target\": \"_test_identify_file_renaming.py\", \"color\": \"#999999\", \"width\": 0.5, \"weight\": 1.0}, {\"source\": \"n_2\", \"target\": \"_test_visualisation.py\", \"color\": \"#999999\", \"width\": 0.5, \"weight\": 1.0}, {\"source\": \"n_2\", \"target\": \"visualisation.py\", \"color\": \"#999999\", \"width\": 0.5, \"weight\": 1.0}, {\"source\": \"n_2\", \"target\": \".gitmodules\", \"color\": \"#999999\", \"width\": 0.5, \"weight\": 1.0}, {\"source\": \"n_2\", \"target\": \"TUTORIAL.ipynb\", \"color\": \"#999999\", \"width\": 0.5, \"weight\": 0.8}, {\"source\": \"n_4\", \"target\": \"extraction.py\", \"color\": \"#999999\", \"width\": 0.5, \"weight\": 1.0}, {\"source\": \"n_2\", \"target\": \".editorconfig\", \"color\": \"#999999\", \"width\": 0.5, \"weight\": 1.0}, {\"source\": \"n_2\", \"target\": \".gitattributes\", \"color\": \"#999999\", \"width\": 0.5, \"weight\": 1.0}, {\"source\": \"n_2\", \"target\": \"funding.yml\", \"color\": \"#999999\", \"width\": 0.5, \"weight\": 1.0}, {\"source\": \"n_2\", \"target\": \"security.md\", \"color\": \"#999999\", \"width\": 0.5, \"weight\": 1.0}, {\"source\": \"n_2\", \"target\": \".npmrc\", \"color\": \"#999999\", \"width\": 0.5, \"weight\": 1.0}, {\"source\": \"n_2\", \"target\": \".travis.yml\", \"color\": \"#999999\", \"width\": 0.5, \"weight\": 1.0}, {\"source\": \"n_2\", \"target\": \"binary-extensions.json\", \"color\": \"#999999\", \"width\": 0.5, \"weight\": 1.0}, {\"source\": \"n_2\", \"target\": \"binary-extensions.json.d.ts\", \"color\": \"#999999\", \"width\": 0.5, \"weight\": 1.0}, {\"source\": \"n_2\", \"target\": \"index.d.ts\", \"color\": \"#999999\", \"width\": 0.5, \"weight\": 1.0}, {\"source\": \"n_2\", \"target\": \"index.js\", \"color\": \"#999999\", \"width\": 0.5, \"weight\": 1.0}, {\"source\": \"n_2\", \"target\": \"index.test-d.ts\", \"color\": \"#999999\", \"width\": 0.5, \"weight\": 1.0}, {\"source\": \"n_2\", \"target\": \"license\", \"color\": \"#999999\", \"width\": 0.5, \"weight\": 1.0}, {\"source\": \"n_2\", \"target\": \"package.json\", \"color\": \"#999999\", \"width\": 0.5, \"weight\": 1.0}, {\"source\": \"n_2\", \"target\": \"readme.md\", \"color\": \"#999999\", \"width\": 0.5, \"weight\": 1.0}, {\"source\": \"n_2\", \"target\": \"test.js\", \"color\": \"#999999\", \"width\": 0.5, \"weight\": 1.0}, {\"source\": \"n_2\", \"target\": \"command_line.py\", \"color\": \"#999999\", \"width\": 0.5, \"weight\": 0.9}, {\"source\": \"n_6\", \"target\": \"TUTORIAL.ipynb\", \"color\": \"#999999\", \"width\": 0.5, \"weight\": 1.0}, {\"source\": \"n_5\", \"target\": \"extraction.py\", \"color\": \"#999999\", \"width\": 0.5, \"weight\": 1.0}, {\"source\": \"n_1\", \"target\": \"command_line.py\", \"color\": \"#999999\", \"width\": 0.5, \"weight\": 1.0}, {\"source\": \"n_2\", \"target\": \"disambiguation.py\", \"color\": \"#999999\", \"width\": 0.5, \"weight\": 0.7142857142857143}, {\"source\": \"n_2\", \"target\": \"pyproject.toml\", \"color\": \"#999999\", \"width\": 0.5, \"weight\": 1.0}, {\"source\": \"n_2\", \"target\": \"setup.cfg\", \"color\": \"#999999\", \"width\": 0.5, \"weight\": 1.0}, {\"source\": \"n_0\", \"target\": \"README.md\", \"color\": \"#999999\", \"width\": 0.5, \"weight\": 0.45454545454545453}, {\"source\": \"n_0\", \"target\": \"requirements.txt\", \"color\": \"#999999\", \"width\": 0.5, \"weight\": 0.36363636363636365}, {\"source\": \"n_0\", \"target\": \"TUTORIAL.ipynb\", \"color\": \"#999999\", \"width\": 0.5, \"weight\": 0.18181818181818182}, {\"source\": \"n_2\", \"target\": \"python-app.yml\", \"color\": \"#999999\", \"width\": 0.5, \"weight\": 1.0}, {\"source\": \"n_2\", \"target\": \"python-publish.yml\", \"color\": \"#999999\", \"width\": 0.5, \"weight\": 1.0}, {\"source\": \"n_2\", \"target\": \"Makefile\", \"color\": \"#999999\", \"width\": 0.5, \"weight\": 1.0}, {\"source\": \"n_2\", \"target\": \"make.bat\", \"color\": \"#999999\", \"width\": 0.5, \"weight\": 1.0}, {\"source\": \"n_2\", \"target\": \"conf.py\", \"color\": \"#999999\", \"width\": 0.5, \"weight\": 1.0}, {\"source\": \"n_2\", \"target\": \"git2net.rst\", \"color\": \"#999999\", \"width\": 0.5, \"weight\": 1.0}, {\"source\": \"n_2\", \"target\": \"index.rst\", \"color\": \"#999999\", \"width\": 0.5, \"weight\": 1.0}, {\"source\": \"n_2\", \"target\": \"getting_started.rst\", \"color\": \"#999999\", \"width\": 0.5, \"weight\": 1.0}, {\"source\": \"n_2\", \"target\": \"modules.rst\", \"color\": \"#999999\", \"width\": 0.5, \"weight\": 1.0}, {\"source\": \"n_2\", \"target\": \"index.html\", \"color\": \"#999999\", \"width\": 0.5, \"weight\": 1.0}, {\"source\": \"n_2\", \"target\": \"api_reference.rst\", \"color\": \"#999999\", \"width\": 0.5, \"weight\": 1.0}, {\"source\": \"n_2\", \"target\": \"overview_installation.rst\", \"color\": \"#999999\", \"width\": 0.5, \"weight\": 1.0}, {\"source\": \"n_2\", \"target\": \"complexity.py\", \"color\": \"#999999\", \"width\": 0.5, \"weight\": 1.0}, {\"source\": \"n_9\", \"target\": \"extraction.py\", \"color\": \"#999999\", \"width\": 0.5, \"weight\": 1.0}, {\"source\": \"n_8\", \"target\": \"extraction.py\", \"color\": \"#999999\", \"width\": 0.5, \"weight\": 1.0}, {\"source\": \"n_7\", \"target\": \"extraction.py\", \"color\": \"#999999\", \"width\": 0.5, \"weight\": 0.5}, {\"source\": \"n_7\", \"target\": \"disambiguation.py\", \"color\": \"#999999\", \"width\": 0.5, \"weight\": 0.5}], \"nodes\": [{\"id\": \"n_3\", \"text\": \"n_3\", \"color\": \"#73D2DE\", \"size\": 5.0}, {\"id\": \"test.py\", \"text\": \"test.py\", \"color\": \"#2E5EAA\", \"size\": 5.0}, {\"id\": \"pyce.py\", \"text\": \"pyce.py\", \"color\": \"#2E5EAA\", \"size\": 5.0}, {\"id\": \"ignore\", \"text\": \"ignore\", \"color\": \"#2E5EAA\", \"size\": 5.0}, {\"id\": \"n_2\", \"text\": \"n_2\", \"color\": \"#73D2DE\", \"size\": 5.0}, {\"id\": \"anonymize.py\", \"text\": \"anonymize.py\", \"color\": \"#2E5EAA\", \"size\": 5.0}, {\"id\": \"git2net.py\", \"text\": \"git2net.py\", \"color\": \"#2E5EAA\", \"size\": 5.0}, {\"id\": \".gitignore\", \"text\": \".gitignore\", \"color\": \"#2E5EAA\", \"size\": 5.0}, {\"id\": \"test_visualisation.py\", \"text\": \"test_visualisation.py\", \"color\": \"#2E5EAA\", \"size\": 5.0}, {\"id\": \"test_extract_coedits.py\", \"text\": \"test_extract_coedits.py\", \"color\": \"#2E5EAA\", \"size\": 5.0}, {\"id\": \"test_git2net.py\", \"text\": \"test_git2net.py\", \"color\": \"#2E5EAA\", \"size\": 5.0}, {\"id\": \"test_identify_edits.py\", \"text\": \"test_identify_edits.py\", \"color\": \"#2E5EAA\", \"size\": 5.0}, {\"id\": \"test_extract_edits.py\", \"text\": \"test_extract_edits.py\", \"color\": \"#2E5EAA\", \"size\": 5.0}, {\"id\": \"test_extract_editing_paths.py\", \"text\": \"test_extract_editing_paths.py\", \"color\": \"#2E5EAA\", \"size\": 5.0}, {\"id\": \"test_get_original_line_number.py\", \"text\": \"test_get_original_line_number.py\", \"color\": \"#2E5EAA\", \"size\": 5.0}, {\"id\": \"get_previous_names.py\", \"text\": \"get_previous_names.py\", \"color\": \"#2E5EAA\", \"size\": 5.0}, {\"id\": \"test_get_unified_changes.py\", \"text\": \"test_get_unified_changes.py\", \"color\": \"#2E5EAA\", \"size\": 5.0}, {\"id\": \"test_identify_file_renaming.py\", \"text\": \"test_identify_file_renaming.py\", \"color\": \"#2E5EAA\", \"size\": 5.0}, {\"id\": \"test_get_path_to_origin.py\", \"text\": \"test_get_path_to_origin.py\", \"color\": \"#2E5EAA\", \"size\": 5.0}, {\"id\": \"test_get_paths_to_origin.py\", \"text\": \"test_get_paths_to_origin.py\", \"color\": \"#2E5EAA\", \"size\": 5.0}, {\"id\": \"get_original_line_number.md\", \"text\": \"get_original_line_number.md\", \"color\": \"#2E5EAA\", \"size\": 5.0}, {\"id\": \"README.md\", \"text\": \"README.md\", \"color\": \"#2E5EAA\", \"size\": 5.0}, {\"id\": \"__init__.py\", \"text\": \"__init__.py\", \"color\": \"#2E5EAA\", \"size\": 5.0}, {\"id\": \"setup.py\", \"text\": \"setup.py\", \"color\": \"#2E5EAA\", \"size\": 5.0}, {\"id\": \"test_functions.py\", \"text\": \"test_functions.py\", \"color\": \"#2E5EAA\", \"size\": 5.0}, {\"id\": \"test_repo_1.zip\", \"text\": \"test_repo_1.zip\", \"color\": \"#2E5EAA\", \"size\": 5.0}, {\"id\": \"requirements.txt\", \"text\": \"requirements.txt\", \"color\": \"#2E5EAA\", \"size\": 5.0}, {\"id\": \"LICENSE.txt\", \"text\": \"LICENSE.txt\", \"color\": \"#2E5EAA\", \"size\": 5.0}, {\"id\": \"bug_report.md\", \"text\": \"bug_report.md\", \"color\": \"#2E5EAA\", \"size\": 5.0}, {\"id\": \"feature_request.md\", \"text\": \"feature_request.md\", \"color\": \"#2E5EAA\", \"size\": 5.0}, {\"id\": \"extraction.py\", \"text\": \"extraction.py\", \"color\": \"#2E5EAA\", \"size\": 5.0}, {\"id\": \"_test_extract_editing_paths.py\", \"text\": \"_test_extract_editing_paths.py\", \"color\": \"#2E5EAA\", \"size\": 5.0}, {\"id\": \"_test_extract_edits.py\", \"text\": \"_test_extract_edits.py\", \"color\": \"#2E5EAA\", \"size\": 5.0}, {\"id\": \"_test_get_original_line_number.py\", \"text\": \"_test_get_original_line_number.py\", \"color\": \"#2E5EAA\", \"size\": 5.0}, {\"id\": \"_test_get_paths_to_origin.py\", \"text\": \"_test_get_paths_to_origin.py\", \"color\": \"#2E5EAA\", \"size\": 5.0}, {\"id\": \"_test_get_unified_changes.py\", \"text\": \"_test_get_unified_changes.py\", \"color\": \"#2E5EAA\", \"size\": 5.0}, {\"id\": \"_test_git2net.py\", \"text\": \"_test_git2net.py\", \"color\": \"#2E5EAA\", \"size\": 5.0}, {\"id\": \"_test_identify_edits.py\", \"text\": \"_test_identify_edits.py\", \"color\": \"#2E5EAA\", \"size\": 5.0}, {\"id\": \"_test_identify_file_renaming.py\", \"text\": \"_test_identify_file_renaming.py\", \"color\": \"#2E5EAA\", \"size\": 5.0}, {\"id\": \"_test_visualisation.py\", \"text\": \"_test_visualisation.py\", \"color\": \"#2E5EAA\", \"size\": 5.0}, {\"id\": \"visualisation.py\", \"text\": \"visualisation.py\", \"color\": \"#2E5EAA\", \"size\": 5.0}, {\"id\": \".gitmodules\", \"text\": \".gitmodules\", \"color\": \"#2E5EAA\", \"size\": 5.0}, {\"id\": \"TUTORIAL.ipynb\", \"text\": \"TUTORIAL.ipynb\", \"color\": \"#2E5EAA\", \"size\": 5.0}, {\"id\": \"n_4\", \"text\": \"n_4\", \"color\": \"#73D2DE\", \"size\": 5.0}, {\"id\": \".editorconfig\", \"text\": \".editorconfig\", \"color\": \"#2E5EAA\", \"size\": 5.0}, {\"id\": \".gitattributes\", \"text\": \".gitattributes\", \"color\": \"#2E5EAA\", \"size\": 5.0}, {\"id\": \"funding.yml\", \"text\": \"funding.yml\", \"color\": \"#2E5EAA\", \"size\": 5.0}, {\"id\": \"security.md\", \"text\": \"security.md\", \"color\": \"#2E5EAA\", \"size\": 5.0}, {\"id\": \".npmrc\", \"text\": \".npmrc\", \"color\": \"#2E5EAA\", \"size\": 5.0}, {\"id\": \".travis.yml\", \"text\": \".travis.yml\", \"color\": \"#2E5EAA\", \"size\": 5.0}, {\"id\": \"binary-extensions.json\", \"text\": \"binary-extensions.json\", \"color\": \"#2E5EAA\", \"size\": 5.0}, {\"id\": \"binary-extensions.json.d.ts\", \"text\": \"binary-extensions.json.d.ts\", \"color\": \"#2E5EAA\", \"size\": 5.0}, {\"id\": \"index.d.ts\", \"text\": \"index.d.ts\", \"color\": \"#2E5EAA\", \"size\": 5.0}, {\"id\": \"index.js\", \"text\": \"index.js\", \"color\": \"#2E5EAA\", \"size\": 5.0}, {\"id\": \"index.test-d.ts\", \"text\": \"index.test-d.ts\", \"color\": \"#2E5EAA\", \"size\": 5.0}, {\"id\": \"license\", \"text\": \"license\", \"color\": \"#2E5EAA\", \"size\": 5.0}, {\"id\": \"package.json\", \"text\": \"package.json\", \"color\": \"#2E5EAA\", \"size\": 5.0}, {\"id\": \"readme.md\", \"text\": \"readme.md\", \"color\": \"#2E5EAA\", \"size\": 5.0}, {\"id\": \"test.js\", \"text\": \"test.js\", \"color\": \"#2E5EAA\", \"size\": 5.0}, {\"id\": \"command_line.py\", \"text\": \"command_line.py\", \"color\": \"#2E5EAA\", \"size\": 5.0}, {\"id\": \"n_6\", \"text\": \"n_6\", \"color\": \"#73D2DE\", \"size\": 5.0}, {\"id\": \"n_5\", \"text\": \"n_5\", \"color\": \"#73D2DE\", \"size\": 5.0}, {\"id\": \"n_1\", \"text\": \"n_1\", \"color\": \"#73D2DE\", \"size\": 5.0}, {\"id\": \"disambiguation.py\", \"text\": \"disambiguation.py\", \"color\": \"#2E5EAA\", \"size\": 5.0}, {\"id\": \"pyproject.toml\", \"text\": \"pyproject.toml\", \"color\": \"#2E5EAA\", \"size\": 5.0}, {\"id\": \"setup.cfg\", \"text\": \"setup.cfg\", \"color\": \"#2E5EAA\", \"size\": 5.0}, {\"id\": \"n_0\", \"text\": \"n_0\", \"color\": \"#73D2DE\", \"size\": 5.0}, {\"id\": \"python-app.yml\", \"text\": \"python-app.yml\", \"color\": \"#2E5EAA\", \"size\": 5.0}, {\"id\": \"python-publish.yml\", \"text\": \"python-publish.yml\", \"color\": \"#2E5EAA\", \"size\": 5.0}, {\"id\": \"Makefile\", \"text\": \"Makefile\", \"color\": \"#2E5EAA\", \"size\": 5.0}, {\"id\": \"make.bat\", \"text\": \"make.bat\", \"color\": \"#2E5EAA\", \"size\": 5.0}, {\"id\": \"conf.py\", \"text\": \"conf.py\", \"color\": \"#2E5EAA\", \"size\": 5.0}, {\"id\": \"git2net.rst\", \"text\": \"git2net.rst\", \"color\": \"#2E5EAA\", \"size\": 5.0}, {\"id\": \"index.rst\", \"text\": \"index.rst\", \"color\": \"#2E5EAA\", \"size\": 5.0}, {\"id\": \"getting_started.rst\", \"text\": \"getting_started.rst\", \"color\": \"#2E5EAA\", \"size\": 5.0}, {\"id\": \"modules.rst\", \"text\": \"modules.rst\", \"color\": \"#2E5EAA\", \"size\": 5.0}, {\"id\": \"index.html\", \"text\": \"index.html\", \"color\": \"#2E5EAA\", \"size\": 5.0}, {\"id\": \"api_reference.rst\", \"text\": \"api_reference.rst\", \"color\": \"#2E5EAA\", \"size\": 5.0}, {\"id\": \"overview_installation.rst\", \"text\": \"overview_installation.rst\", \"color\": \"#2E5EAA\", \"size\": 5.0}, {\"id\": \"complexity.py\", \"text\": \"complexity.py\", \"color\": \"#2E5EAA\", \"size\": 5.0}, {\"id\": \"n_9\", \"text\": \"n_9\", \"color\": \"#73D2DE\", \"size\": 5.0}, {\"id\": \"n_8\", \"text\": \"n_8\", \"color\": \"#73D2DE\", \"size\": 5.0}, {\"id\": \"n_7\", \"text\": \"n_7\", \"color\": \"#73D2DE\", \"size\": 5.0}]};\n",
       "    var directed = true;\n",
       "\n",
       "    var simulation = d3.forceSimulation()        \n",
       "       .force(\"link\", d3.forceLink().id(function(d) { return d.id; }).strength(function(d){return d.weight;}))\n",
       "        .force(\"charge\", d3.forceManyBody().strength(-20).distanceMax(400))\n",
       "       .force(\"repelForce\", d3.forceManyBody().strength(-200).distanceMax(100))\n",
       "       .force(\"center\", d3.forceCenter(400 / 2, 400 / 2))\n",
       "       .alphaTarget(0.0);\n",
       "\n",
       "    svg.append(\"defs\").selectAll(\"marker\")\n",
       "        .data([\"end\"])\n",
       "    .enter().append(\"marker\")\n",
       "        .attr(\"id\", String)\n",
       "        .attr(\"viewBox\", \"0 -5 20 20\")\n",
       "        .attr(\"refX\", 34)\n",
       "        .attr(\"refY\", 0)\n",
       "        .attr(\"markerWidth\", 15)\n",
       "        .attr(\"markerHeight\", 15)\n",
       "        .attr(\"orient\", \"auto\")\n",
       "    .append(\"path\")\n",
       "        // draws a filled path (triangle) between three points\n",
       "        .attr(\"d\", \"M0,-5 L20,0 L0,5 z\")\n",
       "        .attr(\"fill\", '#999')\n",
       "        .attr(\"stroke\", 'none');\n",
       "\n",
       "    var g = svg.append(\"g\")\n",
       "        .attr(\"class\", \"everything\");\n",
       "\n",
       "    var link = g.append(\"g\")\n",
       "        .attr(\"class\", \"links_YcdyuQfJ\")\n",
       "        .selectAll(\"line\")\n",
       "        .data(graph.links)\n",
       "        .enter().append(\"line\")\n",
       "        .attr(\"stroke-width\", function(d) { return d.width; })\n",
       "        .attr(\"stroke\", function(d) { return d.color; } );\n",
       "\n",
       "    if (directed)\n",
       "        link.attr(\"marker-end\", \"url(#end)\");\n",
       "\n",
       "    var node_g = g.append(\"g\")\n",
       "        .attr(\"class\", \"nodes_YcdyuQfJ\")\n",
       "        .selectAll(\"circle\")\n",
       "        .data(graph.nodes)\n",
       "        .enter()\n",
       "        .append(\"g\"); \n",
       "\n",
       "    var node = node_g.append(\"circle\")\n",
       "        .attr('id', function(d) { return d.id; })\n",
       "        .attr(\"r\", function(d) { return d.size; })\n",
       "        .attr(\"fill\", function(d) { return d.color; })\n",
       "        .call(d3.drag()\n",
       "            .on(\"start\", dragstarted)\n",
       "            .on(\"drag\", dragged)\n",
       "            .on(\"end\", dragended));\n",
       "\n",
       "    var text = node_g.append(\"text\")\n",
       "    .attr(\"x\", [0, -10][0])\n",
       "    .attr(\"y\", [0, -10][1]+3)\n",
       "    .attr(\"id\", function(d) {return d.id; })\n",
       "    .attr(\"class\", \"label_YcdyuQfJ\")\n",
       "    .text(function(d) { return d.id; });\n",
       "\n",
       "    node.append(\"title\")\n",
       "        .text(function(d) { return d.text; });\n",
       "\n",
       "    var zoom_handler = d3.zoom()\n",
       "        .on(\"zoom\", zoom_actions);\n",
       "    zoom_handler(svg);\n",
       "\n",
       "    // attach event handler for svg export\n",
       "    d3.select('#YcdyuQfJ_svg_txt').on(\"click\", save_svg);\n",
       "\n",
       "    simulation\n",
       "        .nodes(graph.nodes)\n",
       "        .on(\"tick\", ticked);\n",
       "\n",
       "    simulation.force(\"link\")\n",
       "        .links(graph.links);\n",
       "\n",
       "    function ticked() {\n",
       "        link.attr(\"x1\", function(d) { return d.source.x; })\n",
       "            .attr(\"y1\", function(d) { return d.source.y; })\n",
       "            .attr(\"x2\", function(d) { return d.target.x; })\n",
       "            .attr(\"y2\", function(d) { return d.target.y; });\n",
       "\n",
       "         text.attr(\"transform\", transform);\n",
       "\n",
       "\n",
       "        text.attr(\"cx\", function(d) { return d.x; })\n",
       "            .attr(\"cy\", function(d) { return d.y; });\n",
       "\n",
       "        node.attr(\"cx\", function(d) { return d.x; })\n",
       "            .attr(\"cy\", function(d) { return d.y; });\n",
       "    }\n",
       "\n",
       "    function transform(d) {\n",
       "        return \"translate(\" + d.x + \",\" + d.y + \")\";\n",
       "    }\n",
       "\n",
       "    function dragstarted(d) {\n",
       "    if (!d3.event.active) simulation.alphaTarget(0.3).restart();\n",
       "    d.fx = d.x;\n",
       "    d.fy = d.y;\n",
       "    }\n",
       "\n",
       "    function zoom_actions(){\n",
       "        g.attr(\"transform\", d3.event.transform)\n",
       "    }    \n",
       "\n",
       "    function dragged(d) {\n",
       "    d.fx = d3.event.x;\n",
       "    d.fy = d3.event.y;\n",
       "    }\n",
       "\n",
       "    function dragended(d) {\n",
       "    if (!d3.event.active) simulation.alphaTarget(0);\n",
       "    d.fx = null;\n",
       "    d.fy = null;\n",
       "    }\n",
       "\n",
       "    function to_svg() {\n",
       "        // Returns a SVG representation of the current state of the visualisation\n",
       "\t    var svg  = document.getElementById('YcdyuQfJ');\n",
       "\t    var xml = (new XMLSerializer).serializeToString(svg);\n",
       "        return xml;\n",
       "    }\n",
       "\n",
       "    function save_svg() {\n",
       "        var svg  = document.getElementById('YcdyuQfJ');\n",
       "        var xml = (new XMLSerializer).serializeToString(svg);        \n",
       "        var blob = new Blob([xml], {type: 'text/xml'});\n",
       "        if(window.navigator.msSaveOrOpenBlob) {\n",
       "            window.navigator.msSaveBlob(blob, 'network.svg');\n",
       "        }\n",
       "        else{\n",
       "            var elem = window.document.createElement('a');\n",
       "            elem.href = window.URL.createObjectURL(blob);\n",
       "            elem.download = 'network.svg';\n",
       "            document.body.appendChild(elem);\n",
       "            elem.click();\n",
       "            document.body.removeChild(elem);\n",
       "        }\n",
       "    }\n",
       "});\n",
       "</script>"
      ],
      "text/plain": [
       "<IPython.core.display.HTML object>"
      ]
     },
     "metadata": {},
     "output_type": "display_data"
    }
   ],
   "source": [
    "\n",
    "colour_map = {'author': '#73D2DE', 'file': '#2E5EAA'}\n",
    "node_color = {node: colour_map[node_info['class'][node]] for node in n.nodes}\n",
    "pp.visualisation.plot(n, node_color=node_color)\n",
    "\n"
   ]
  },
  {
   "cell_type": "code",
   "execution_count": 24,
   "metadata": {},
   "outputs": [
    {
     "name": "stdout",
     "output_type": "stream",
     "text": [
      "{(3, 'test.py'): {'weight': 4.0}, (3, 'pyce.py'): {'weight': 3.0}, (3, 'ignore'): {'weight': 1.0}, (2, 'pyce.py'): {'weight': 8.0}, (2, 'ignore'): {'weight': 2.0}, (3, 'anonymize.py'): {'weight': 2.0}, (2, 'git2net.py'): {'weight': 59.0}, (2, '.gitignore'): {'weight': 11.0}, (2, 'test_visualisation.py'): {'weight': 2.0}, (2, 'test_extract_coedits.py'): {'weight': 1.0}, (2, 'test_git2net.py'): {'weight': 10.0}, (2, 'test_identify_edits.py'): {'weight': 1.0}, (2, 'test_extract_edits.py'): {'weight': 2.0}, (2, 'test_extract_editing_paths.py'): {'weight': 7.0}, (2, 'test_get_original_line_number.py'): {'weight': 6.0}, (2, 'get_previous_names.py'): {'weight': 2.0}, (2, 'test_get_unified_changes.py'): {'weight': 1.0}, (2, 'test_identify_file_renaming.py'): {'weight': 1.0}, (2, 'test_get_path_to_origin.py'): {'weight': 2.0}, (2, 'test_get_paths_to_origin.py'): {'weight': 2.0}, (2, 'get_original_line_number.md'): {'weight': 2.0}, (2, 'README.md'): {'weight': 20.0}, (2, '__init__.py'): {'weight': 53.0}, (2, 'setup.py'): {'weight': 9.0}, (2, 'test_functions.py'): {'weight': 26.0}, (2, 'test_repo_1.zip'): {'weight': 5.0}, (2, 'anonymize.py'): {'weight': 2.0}, (2, 'requirements.txt'): {'weight': 14.0}, (2, 'LICENSE.txt'): {'weight': 3.0}, (2, 'bug_report.md'): {'weight': 3.0}, (2, 'feature_request.md'): {'weight': 3.0}, (2, 'extraction.py'): {'weight': 96.0}, (2, '_test_extract_editing_paths.py'): {'weight': 2.0}, (2, '_test_extract_edits.py'): {'weight': 2.0}, (2, '_test_get_original_line_number.py'): {'weight': 2.0}, (2, '_test_get_paths_to_origin.py'): {'weight': 2.0}, (2, '_test_get_unified_changes.py'): {'weight': 2.0}, (2, '_test_git2net.py'): {'weight': 2.0}, (2, '_test_identify_edits.py'): {'weight': 2.0}, (2, '_test_identify_file_renaming.py'): {'weight': 2.0}, (2, '_test_visualisation.py'): {'weight': 2.0}, (2, 'visualisation.py'): {'weight': 27.0}, (2, '.gitmodules'): {'weight': 1.0}, (2, 'TUTORIAL.ipynb'): {'weight': 16.0}, (4, 'extraction.py'): {'weight': 1.0}, (2, '.editorconfig'): {'weight': 1.0}, (2, '.gitattributes'): {'weight': 1.0}, (2, 'funding.yml'): {'weight': 1.0}, (2, 'security.md'): {'weight': 1.0}, (2, '.npmrc'): {'weight': 1.0}, (2, '.travis.yml'): {'weight': 1.0}, (2, 'binary-extensions.json'): {'weight': 1.0}, (2, 'binary-extensions.json.d.ts'): {'weight': 1.0}, (2, 'index.d.ts'): {'weight': 1.0}, (2, 'index.js'): {'weight': 1.0}, (2, 'index.test-d.ts'): {'weight': 1.0}, (2, 'license'): {'weight': 1.0}, (2, 'package.json'): {'weight': 1.0}, (2, 'readme.md'): {'weight': 1.0}, (2, 'test.js'): {'weight': 1.0}, (2, 'command_line.py'): {'weight': 9.0}, (6, 'TUTORIAL.ipynb'): {'weight': 2.0}, (5, 'extraction.py'): {'weight': 1.0}, (1, 'command_line.py'): {'weight': 1.0}, (2, 'disambiguation.py'): {'weight': 5.0}, (2, 'pyproject.toml'): {'weight': 1.0}, (2, 'setup.cfg'): {'weight': 15.0}, (0, 'README.md'): {'weight': 5.0}, (0, 'requirements.txt'): {'weight': 4.0}, (0, 'TUTORIAL.ipynb'): {'weight': 2.0}, (2, 'python-app.yml'): {'weight': 5.0}, (2, 'python-publish.yml'): {'weight': 2.0}, (2, 'Makefile'): {'weight': 1.0}, (2, 'make.bat'): {'weight': 1.0}, (2, 'conf.py'): {'weight': 3.0}, (2, 'git2net.rst'): {'weight': 6.0}, (2, 'index.rst'): {'weight': 2.0}, (2, 'getting_started.rst'): {'weight': 4.0}, (2, 'modules.rst'): {'weight': 5.0}, (2, 'index.html'): {'weight': 2.0}, (2, 'api_reference.rst'): {'weight': 2.0}, (2, 'overview_installation.rst'): {'weight': 1.0}, (2, 'complexity.py'): {'weight': 3.0}, (9, 'extraction.py'): {'weight': 1.0}, (8, 'extraction.py'): {'weight': 1.0}, (7, 'extraction.py'): {'weight': 2.0}, (7, 'disambiguation.py'): {'weight': 2.0}}\n"
     ]
    }
   ],
   "source": [
    "print(dict(n.edges))"
   ]
  },
  {
   "cell_type": "code",
   "execution_count": 25,
   "metadata": {
    "scrolled": true
   },
   "outputs": [
    {
     "name": "stdout",
     "output_type": "stream",
     "text": [
      "{3: {'inweight': 0.0, 'outweight': 10.0, 'indegree': 0, 'outdegree': 4}, 'test.py': {'inweight': 4.0, 'outweight': 0.0, 'indegree': 1, 'outdegree': 0}, 'pyce.py': {'inweight': 11.0, 'outweight': 0.0, 'indegree': 2, 'outdegree': 0}, 'ignore': {'inweight': 3.0, 'outweight': 0.0, 'indegree': 2, 'outdegree': 0}, 2: {'inweight': 0.0, 'outweight': 497.0, 'indegree': 0, 'outdegree': 72}, 'anonymize.py': {'inweight': 4.0, 'outweight': 0.0, 'indegree': 2, 'outdegree': 0}, 'git2net.py': {'inweight': 59.0, 'outweight': 0.0, 'indegree': 1, 'outdegree': 0}, '.gitignore': {'inweight': 11.0, 'outweight': 0.0, 'indegree': 1, 'outdegree': 0}, 'test_visualisation.py': {'inweight': 2.0, 'outweight': 0.0, 'indegree': 1, 'outdegree': 0}, 'test_extract_coedits.py': {'inweight': 1.0, 'outweight': 0.0, 'indegree': 1, 'outdegree': 0}, 'test_git2net.py': {'inweight': 10.0, 'outweight': 0.0, 'indegree': 1, 'outdegree': 0}, 'test_identify_edits.py': {'inweight': 1.0, 'outweight': 0.0, 'indegree': 1, 'outdegree': 0}, 'test_extract_edits.py': {'inweight': 2.0, 'outweight': 0.0, 'indegree': 1, 'outdegree': 0}, 'test_extract_editing_paths.py': {'inweight': 7.0, 'outweight': 0.0, 'indegree': 1, 'outdegree': 0}, 'test_get_original_line_number.py': {'inweight': 6.0, 'outweight': 0.0, 'indegree': 1, 'outdegree': 0}, 'get_previous_names.py': {'inweight': 2.0, 'outweight': 0.0, 'indegree': 1, 'outdegree': 0}, 'test_get_unified_changes.py': {'inweight': 1.0, 'outweight': 0.0, 'indegree': 1, 'outdegree': 0}, 'test_identify_file_renaming.py': {'inweight': 1.0, 'outweight': 0.0, 'indegree': 1, 'outdegree': 0}, 'test_get_path_to_origin.py': {'inweight': 2.0, 'outweight': 0.0, 'indegree': 1, 'outdegree': 0}, 'test_get_paths_to_origin.py': {'inweight': 2.0, 'outweight': 0.0, 'indegree': 1, 'outdegree': 0}, 'get_original_line_number.md': {'inweight': 2.0, 'outweight': 0.0, 'indegree': 1, 'outdegree': 0}, 'README.md': {'inweight': 25.0, 'outweight': 0.0, 'indegree': 2, 'outdegree': 0}, '__init__.py': {'inweight': 53.0, 'outweight': 0.0, 'indegree': 1, 'outdegree': 0}, 'setup.py': {'inweight': 9.0, 'outweight': 0.0, 'indegree': 1, 'outdegree': 0}, 'test_functions.py': {'inweight': 26.0, 'outweight': 0.0, 'indegree': 1, 'outdegree': 0}, 'test_repo_1.zip': {'inweight': 5.0, 'outweight': 0.0, 'indegree': 1, 'outdegree': 0}, 'requirements.txt': {'inweight': 18.0, 'outweight': 0.0, 'indegree': 2, 'outdegree': 0}, 'LICENSE.txt': {'inweight': 3.0, 'outweight': 0.0, 'indegree': 1, 'outdegree': 0}, 'bug_report.md': {'inweight': 3.0, 'outweight': 0.0, 'indegree': 1, 'outdegree': 0}, 'feature_request.md': {'inweight': 3.0, 'outweight': 0.0, 'indegree': 1, 'outdegree': 0}, 'extraction.py': {'inweight': 102.0, 'outweight': 0.0, 'indegree': 6, 'outdegree': 0}, '_test_extract_editing_paths.py': {'inweight': 2.0, 'outweight': 0.0, 'indegree': 1, 'outdegree': 0}, '_test_extract_edits.py': {'inweight': 2.0, 'outweight': 0.0, 'indegree': 1, 'outdegree': 0}, '_test_get_original_line_number.py': {'inweight': 2.0, 'outweight': 0.0, 'indegree': 1, 'outdegree': 0}, '_test_get_paths_to_origin.py': {'inweight': 2.0, 'outweight': 0.0, 'indegree': 1, 'outdegree': 0}, '_test_get_unified_changes.py': {'inweight': 2.0, 'outweight': 0.0, 'indegree': 1, 'outdegree': 0}, '_test_git2net.py': {'inweight': 2.0, 'outweight': 0.0, 'indegree': 1, 'outdegree': 0}, '_test_identify_edits.py': {'inweight': 2.0, 'outweight': 0.0, 'indegree': 1, 'outdegree': 0}, '_test_identify_file_renaming.py': {'inweight': 2.0, 'outweight': 0.0, 'indegree': 1, 'outdegree': 0}, '_test_visualisation.py': {'inweight': 2.0, 'outweight': 0.0, 'indegree': 1, 'outdegree': 0}, 'visualisation.py': {'inweight': 27.0, 'outweight': 0.0, 'indegree': 1, 'outdegree': 0}, '.gitmodules': {'inweight': 1.0, 'outweight': 0.0, 'indegree': 1, 'outdegree': 0}, 'TUTORIAL.ipynb': {'inweight': 20.0, 'outweight': 0.0, 'indegree': 3, 'outdegree': 0}, 4: {'inweight': 0.0, 'outweight': 1.0, 'indegree': 0, 'outdegree': 1}, '.editorconfig': {'inweight': 1.0, 'outweight': 0.0, 'indegree': 1, 'outdegree': 0}, '.gitattributes': {'inweight': 1.0, 'outweight': 0.0, 'indegree': 1, 'outdegree': 0}, 'funding.yml': {'inweight': 1.0, 'outweight': 0.0, 'indegree': 1, 'outdegree': 0}, 'security.md': {'inweight': 1.0, 'outweight': 0.0, 'indegree': 1, 'outdegree': 0}, '.npmrc': {'inweight': 1.0, 'outweight': 0.0, 'indegree': 1, 'outdegree': 0}, '.travis.yml': {'inweight': 1.0, 'outweight': 0.0, 'indegree': 1, 'outdegree': 0}, 'binary-extensions.json': {'inweight': 1.0, 'outweight': 0.0, 'indegree': 1, 'outdegree': 0}, 'binary-extensions.json.d.ts': {'inweight': 1.0, 'outweight': 0.0, 'indegree': 1, 'outdegree': 0}, 'index.d.ts': {'inweight': 1.0, 'outweight': 0.0, 'indegree': 1, 'outdegree': 0}, 'index.js': {'inweight': 1.0, 'outweight': 0.0, 'indegree': 1, 'outdegree': 0}, 'index.test-d.ts': {'inweight': 1.0, 'outweight': 0.0, 'indegree': 1, 'outdegree': 0}, 'license': {'inweight': 1.0, 'outweight': 0.0, 'indegree': 1, 'outdegree': 0}, 'package.json': {'inweight': 1.0, 'outweight': 0.0, 'indegree': 1, 'outdegree': 0}, 'readme.md': {'inweight': 1.0, 'outweight': 0.0, 'indegree': 1, 'outdegree': 0}, 'test.js': {'inweight': 1.0, 'outweight': 0.0, 'indegree': 1, 'outdegree': 0}, 'command_line.py': {'inweight': 10.0, 'outweight': 0.0, 'indegree': 2, 'outdegree': 0}, 6: {'inweight': 0.0, 'outweight': 2.0, 'indegree': 0, 'outdegree': 1}, 5: {'inweight': 0.0, 'outweight': 1.0, 'indegree': 0, 'outdegree': 1}, 1: {'inweight': 0.0, 'outweight': 1.0, 'indegree': 0, 'outdegree': 1}, 'disambiguation.py': {'inweight': 7.0, 'outweight': 0.0, 'indegree': 2, 'outdegree': 0}, 'pyproject.toml': {'inweight': 1.0, 'outweight': 0.0, 'indegree': 1, 'outdegree': 0}, 'setup.cfg': {'inweight': 15.0, 'outweight': 0.0, 'indegree': 1, 'outdegree': 0}, 0: {'inweight': 0.0, 'outweight': 11.0, 'indegree': 0, 'outdegree': 3}, 'python-app.yml': {'inweight': 5.0, 'outweight': 0.0, 'indegree': 1, 'outdegree': 0}, 'python-publish.yml': {'inweight': 2.0, 'outweight': 0.0, 'indegree': 1, 'outdegree': 0}, 'Makefile': {'inweight': 1.0, 'outweight': 0.0, 'indegree': 1, 'outdegree': 0}, 'make.bat': {'inweight': 1.0, 'outweight': 0.0, 'indegree': 1, 'outdegree': 0}, 'conf.py': {'inweight': 3.0, 'outweight': 0.0, 'indegree': 1, 'outdegree': 0}, 'git2net.rst': {'inweight': 6.0, 'outweight': 0.0, 'indegree': 1, 'outdegree': 0}, 'index.rst': {'inweight': 2.0, 'outweight': 0.0, 'indegree': 1, 'outdegree': 0}, 'getting_started.rst': {'inweight': 4.0, 'outweight': 0.0, 'indegree': 1, 'outdegree': 0}, 'modules.rst': {'inweight': 5.0, 'outweight': 0.0, 'indegree': 1, 'outdegree': 0}, 'index.html': {'inweight': 2.0, 'outweight': 0.0, 'indegree': 1, 'outdegree': 0}, 'api_reference.rst': {'inweight': 2.0, 'outweight': 0.0, 'indegree': 1, 'outdegree': 0}, 'overview_installation.rst': {'inweight': 1.0, 'outweight': 0.0, 'indegree': 1, 'outdegree': 0}, 'complexity.py': {'inweight': 3.0, 'outweight': 0.0, 'indegree': 1, 'outdegree': 0}, 9: {'inweight': 0.0, 'outweight': 1.0, 'indegree': 0, 'outdegree': 1}, 8: {'inweight': 0.0, 'outweight': 1.0, 'indegree': 0, 'outdegree': 1}, 7: {'inweight': 0.0, 'outweight': 4.0, 'indegree': 0, 'outdegree': 2}}\n"
     ]
    }
   ],
   "source": [
    "print(dict(n.nodes))"
   ]
  },
  {
   "cell_type": "code",
   "execution_count": 26,
   "metadata": {},
   "outputs": [],
   "source": [
    "# Artificial arrays\n",
    "\n",
    "# my_edges = \"{(3, 'test.py'): {'weight': 4.0}, (3, 'pyce.py'): {'weight': 3.0}, (3, 'ignore'): {'weight': 1.0}, (2, 'pyce.py'): {'weight': 8.0}, (2, 'ignore'): {'weight': 2.0}, (3, 'anonymize.py'): {'weight': 2.0}, (2, 'git2net.py'): {'weight': 59.0}}\"\n",
    "# print(my_edges)\n",
    "# my_nodes = \"{3: {'inweight': 0.0, 'outweight': 10.0, 'indegree': 0, 'outdegree': 4}, 'test.py': {'inweight': 4.0, 'outweight': 0.0, 'indegree': 1, 'outdegree': 0}}\"\n",
    "# print(my_nodes)"
   ]
  },
  {
   "cell_type": "code",
   "execution_count": 27,
   "metadata": {},
   "outputs": [
    {
     "name": "stdout",
     "output_type": "stream",
     "text": [
      "there are 10 authors\n"
     ]
    }
   ],
   "source": [
    "i = 0\n",
    "for key in n.nodes.keys():\n",
    "    if type(key) == int:\n",
    "        i+=1\n",
    "        \n",
    "print('there are %d authors' %i)"
   ]
  },
  {
   "cell_type": "code",
   "execution_count": 28,
   "metadata": {},
   "outputs": [],
   "source": [
    "n.nodes\n",
    "n.edges\n",
    "\n",
    "from collections import defaultdict\n",
    "from webweb import Web\n",
    "\n",
    "nodes_data = defaultdict(dict, n.nodes)\n",
    "edges_data = defaultdict(dict, n.edges)\n",
    "\n",
    "# Convert edges_data to list of edge pairs\n",
    "edge_list = [list(k) for k in edges_data.keys()]\n",
    "\n",
    "\n",
    "# Define node emotions based on your conditions\n",
    "node_emotions = {}\n",
    "for node in nodes_data.keys():\n",
    "    if isinstance(node, int):\n",
    "        node_emotions[node] = 'angry' # Author\n",
    "    elif isinstance(node, str):\n",
    "        node_emotions[node] = 'happy' # File\n",
    "\n",
    "# Create display object with metadata for nodes\n",
    "display = {\n",
    "    'metadata': {\n",
    "        'emotion': {\n",
    "            'values': [node_emotions[node] for node in nodes_data.keys()]\n",
    "        }\n",
    "    },\n",
    "    'nodes' : {\n",
    "        'labels' : list(nodes_data.keys()),\n",
    "        'color' : {\n",
    "            'attribute' : 'emotion'\n",
    "        },\n",
    "    },\n",
    "}\n",
    "\n",
    "# Create web object\n",
    "web = Web(edge_list, display=display)\n",
    "\n",
    "# use the 'emotion' attribute to color nodes\n",
    "web.display.colorBy = 'emotion'\n",
    "\n",
    "# show the visualization\n",
    "web.show()"
   ]
  },
  {
   "cell_type": "code",
   "execution_count": 29,
   "metadata": {},
   "outputs": [
    {
     "data": {
      "image/png": "[encoded data removed]",
      "text/plain": [
       "<Figure size 640x480 with 1 Axes>"
      ]
     },
     "metadata": {},
     "output_type": "display_data"
    }
   ],
   "source": [
    "import matplotlib.pyplot as plt\n",
    "import networkx as nx\n",
    "from collections import defaultdict\n",
    "\n",
    "# assuming n is your network object\n",
    "nodes_data = defaultdict(dict, n.nodes)\n",
    "edges_data = defaultdict(dict, n.edges)\n",
    "\n",
    "# Create a new graph\n",
    "G = nx.Graph()\n",
    "\n",
    "# Add nodes to the graph\n",
    "for node, attr in nodes_data.items():\n",
    "    G.add_node(node, **attr)\n",
    "\n",
    "# Add edges to the graph\n",
    "for edge, attr in edges_data.items():\n",
    "    G.add_edge(*edge, **attr)\n",
    "\n",
    "# Draw the graph\n",
    "nx.draw(G, with_labels=True)\n",
    "plt.show()"
   ]
  },
  {
   "cell_type": "code",
   "execution_count": 30,
   "metadata": {},
   "outputs": [
    {
     "data": {
      "application/vnd.plotly.v1+json": {
       "config": {
        "plotlyServerURL": "https://plot.ly"
       },
       "data": [
        {
         "hoverinfo": "none",
         "line": {
          "color": "#888",
          "width": 0.5
         },
         "mode": "lines",
         "type": "scatter",
         "x": [
          -0.6613556284967265,
          -0.9126588565539675,
          null,
          -0.6613556284967265,
          -0.29080189330596473,
          null,
          -0.6613556284967265,
          -0.4779090443672446,
          null,
          -0.6613556284967265,
          -0.454825768128668,
          null,
          -0.29080189330596473,
          0.006715489402921336,
          null,
          -0.4779090443672446,
          0.006715489402921336,
          null,
          0.006715489402921336,
          -0.029662711203458467,
          null,
          0.006715489402921336,
          -0.1776098584926977,
          null,
          0.006715489402921336,
          0.5108844634499482,
          null,
          0.006715489402921336,
          0.7479981452246333,
          null,
          0.006715489402921336,
          0.10404500672907004,
          null,
          0.006715489402921336,
          -0.7141767291331939,
          null,
          0.006715489402921336,
          0.42516593338771586,
          null,
          0.006715489402921336,
          0.24135714596004149,
          null,
          0.006715489402921336,
          -0.08562277190696023,
          null,
          0.006715489402921336,
          0.49565167257792264,
          null,
          0.006715489402921336,
          -0.12687444844469412,
          null,
          0.006715489402921336,
          0.4338468271603922,
          null,
          0.006715489402921336,
          -0.20673191676315716,
          null,
          0.006715489402921336,
          -0.31374571745446955,
          null,
          0.006715489402921336,
          -0.5585679599138589,
          null,
          0.006715489402921336,
          -0.12992087414011674,
          null,
          0.006715489402921336,
          0.02604202472684392,
          null,
          0.006715489402921336,
          -0.1325172355904728,
          null,
          0.006715489402921336,
          0.05258095297179532,
          null,
          0.006715489402921336,
          0.07898422012279166,
          null,
          0.006715489402921336,
          -0.454825768128668,
          null,
          0.006715489402921336,
          -0.1640296715623329,
          null,
          0.006715489402921336,
          -0.2154043070132471,
          null,
          0.006715489402921336,
          -0.40834841688956125,
          null,
          0.006715489402921336,
          0.06445107220057701,
          null,
          0.006715489402921336,
          0.18103542210338733,
          null,
          0.006715489402921336,
          0.4066517095029376,
          null,
          0.006715489402921336,
          0.039833944470816306,
          null,
          0.006715489402921336,
          -0.09213117123935236,
          null,
          0.006715489402921336,
          -0.15116084508654948,
          null,
          0.006715489402921336,
          -0.5527680095255899,
          null,
          0.006715489402921336,
          -0.5097851263955094,
          null,
          0.006715489402921336,
          0.2660423942587887,
          null,
          0.006715489402921336,
          0.0906408109563925,
          null,
          0.006715489402921336,
          -0.4773064340535802,
          null,
          0.006715489402921336,
          0.1131355026592334,
          null,
          0.006715489402921336,
          -0.34726859624762424,
          null,
          0.006715489402921336,
          0.11849119615107796,
          null,
          0.006715489402921336,
          0.4055899930860765,
          null,
          0.006715489402921336,
          -0.7888337688002118,
          null,
          0.006715489402921336,
          -0.7110767114560247,
          null,
          0.006715489402921336,
          0.5418239518733019,
          null,
          0.006715489402921336,
          -0.8317581990416261,
          null,
          0.006715489402921336,
          -0.8285255748479272,
          null,
          0.006715489402921336,
          0.2565809111870571,
          null,
          0.006715489402921336,
          -0.042676027114946634,
          null,
          0.006715489402921336,
          0.08413398113892716,
          null,
          0.006715489402921336,
          0.7959776177126981,
          null,
          0.006715489402921336,
          -0.4798053091736985,
          null,
          0.006715489402921336,
          -0.3324424398369228,
          null,
          0.006715489402921336,
          0.2691512109027217,
          null,
          0.006715489402921336,
          0.6585900926101017,
          null,
          0.006715489402921336,
          0.10250755322240265,
          null,
          0.006715489402921336,
          -0.2714822699326624,
          null,
          0.006715489402921336,
          0.3787427251527754,
          null,
          0.006715489402921336,
          -0.6038174086181359,
          null,
          0.006715489402921336,
          0.0019714212163971707,
          null,
          0.006715489402921336,
          0.27861575319858484,
          null,
          0.006715489402921336,
          -0.35420144206477283,
          null,
          0.006715489402921336,
          0.7977865635641308,
          null,
          0.006715489402921336,
          -0.8011885939464244,
          null,
          0.006715489402921336,
          0.4036985293019337,
          null,
          0.006715489402921336,
          -0.08757629121447616,
          null,
          0.006715489402921336,
          0.5619783714938202,
          null,
          0.006715489402921336,
          0.23779924578374612,
          null,
          0.006715489402921336,
          0.17462952883827285,
          null,
          0.006715489402921336,
          0.18343331157605558,
          null,
          0.006715489402921336,
          0.31223111885549,
          null,
          0.006715489402921336,
          -0.20043138312014416,
          null,
          0.006715489402921336,
          -0.03081251982557252,
          null,
          -0.12992087414011674,
          -0.2745812367389578,
          null,
          -0.1640296715623329,
          -0.2745812367389578,
          null,
          0.18103542210338733,
          0.9112481608400483,
          null,
          0.18103542210338733,
          1,
          null,
          0.18103542210338733,
          0.803600451543863,
          null,
          0.18103542210338733,
          0.9913908518084806,
          null,
          0.18103542210338733,
          0.6379017117442206,
          null,
          0.11849119615107796,
          0.5330224755262472,
          null,
          0.11849119615107796,
          -0.2745812367389578,
          null,
          -0.2714822699326624,
          -0.8955662985531644,
          null,
          0.3787427251527754,
          0.6379017117442206,
          null
         ],
         "y": [
          -0.6899456290661838,
          -0.9681240709506623,
          null,
          -0.6899456290661838,
          -0.29168422755334944,
          null,
          -0.6899456290661838,
          -0.35833652498093305,
          null,
          -0.6899456290661838,
          -0.4877505973416841,
          null,
          -0.29168422755334944,
          0.00707637961476567,
          null,
          -0.35833652498093305,
          0.00707637961476567,
          null,
          0.00707637961476567,
          0.07567179377658753,
          null,
          0.00707637961476567,
          -0.07673886194986973,
          null,
          0.00707637961476567,
          0.255882900466971,
          null,
          0.00707637961476567,
          0.38213673516729335,
          null,
          0.00707637961476567,
          0.19692326574784486,
          null,
          0.00707637961476567,
          -0.43419507587678097,
          null,
          0.00707637961476567,
          -0.35596593962266143,
          null,
          0.00707637961476567,
          0.11413982760315186,
          null,
          0.00707637961476567,
          -0.27668188467037924,
          null,
          0.00707637961476567,
          -0.23404549062664043,
          null,
          0.00707637961476567,
          -0.8283322633201669,
          null,
          0.00707637961476567,
          -0.7194937885058362,
          null,
          0.00707637961476567,
          -0.5091471758857529,
          null,
          0.00707637961476567,
          -0.44089719148042544,
          null,
          0.00707637961476567,
          -0.040599590796692064,
          null,
          0.00707637961476567,
          0.004848894926998973,
          null,
          0.00707637961476567,
          -0.05753731178839999,
          null,
          0.00707637961476567,
          -0.167889495541597,
          null,
          0.00707637961476567,
          0.11296214912808505,
          null,
          0.00707637961476567,
          0.3223683833140239,
          null,
          0.00707637961476567,
          -0.4877505973416841,
          null,
          0.00707637961476567,
          0.08216339105057158,
          null,
          0.00707637961476567,
          0.37843921781196704,
          null,
          0.00707637961476567,
          0.09954285376907836,
          null,
          0.00707637961476567,
          -0.4012710632591777,
          null,
          0.00707637961476567,
          -0.04029484071867225,
          null,
          0.00707637961476567,
          0.3942585897524538,
          null,
          0.00707637961476567,
          -0.5637348599416061,
          null,
          0.00707637961476567,
          -0.5518238185720853,
          null,
          0.00707637961476567,
          0.5557426713397176,
          null,
          0.00707637961476567,
          0.12289772703193434,
          null,
          0.00707637961476567,
          -0.18014865312592224,
          null,
          0.00707637961476567,
          0.4990408219338372,
          null,
          0.00707637961476567,
          0.5584241251730673,
          null,
          0.00707637961476567,
          0.2955524825899984,
          null,
          0.00707637961476567,
          0.0374822556916105,
          null,
          0.00707637961476567,
          0.770727706143922,
          null,
          0.00707637961476567,
          -0.18324623522660916,
          null,
          0.00707637961476567,
          0.7423892435868963,
          null,
          0.00707637961476567,
          -0.2606119251106601,
          null,
          0.00707637961476567,
          0.4154137573997197,
          null,
          0.00707637961476567,
          0.649875051802296,
          null,
          0.00707637961476567,
          0.08229454974098964,
          null,
          0.00707637961476567,
          -0.09117878394798956,
          null,
          0.00707637961476567,
          0.8048249551846008,
          null,
          0.00707637961476567,
          0.8437338215170025,
          null,
          0.00707637961476567,
          -0.8353100167181451,
          null,
          0.00707637961476567,
          -0.13227981042518258,
          null,
          0.00707637961476567,
          0.6838315705040336,
          null,
          0.00707637961476567,
          -0.7647729626135858,
          null,
          0.00707637961476567,
          -0.7966142834165946,
          null,
          0.00707637961476567,
          0.5299702284775124,
          null,
          0.00707637961476567,
          0.8382409447879053,
          null,
          0.00707637961476567,
          0.22143539986051322,
          null,
          0.00707637961476567,
          -0.05554690490757896,
          null,
          0.00707637961476567,
          0.5640743217187648,
          null,
          0.00707637961476567,
          -0.14656916428788225,
          null,
          0.00707637961476567,
          -0.13976702571127383,
          null,
          0.00707637961476567,
          0.4371145674330837,
          null,
          0.00707637961476567,
          0.2017020622817025,
          null,
          0.00707637961476567,
          0.2557119881583701,
          null,
          0.00707637961476567,
          0.1382785263993817,
          null,
          0.00707637961476567,
          0.2608985512849775,
          null,
          0.00707637961476567,
          0.0597204136077735,
          null,
          0.00707637961476567,
          0.28742354964633576,
          null,
          0.00707637961476567,
          -0.27513674762226464,
          null,
          0.00707637961476567,
          -0.5309592124221113,
          null,
          0.00707637961476567,
          -0.449314605518961,
          null,
          0.00707637961476567,
          0.8226607888217142,
          null,
          0.00707637961476567,
          0.44338354072290304,
          null,
          0.004848894926998973,
          -0.044637132813748544,
          null,
          0.08216339105057158,
          -0.044637132813748544,
          null,
          -0.04029484071867225,
          -0.4024610166907892,
          null,
          -0.04029484071867225,
          0.029881654223627117,
          null,
          -0.04029484071867225,
          -0.5646783889980737,
          null,
          -0.04029484071867225,
          -0.20665283351590447,
          null,
          -0.04029484071867225,
          -0.14147397124746486,
          null,
          -0.18324623522660916,
          -0.5935010488295661,
          null,
          -0.18324623522660916,
          -0.044637132813748544,
          null,
          0.22143539986051322,
          0.7102087664058819,
          null,
          -0.05554690490757896,
          -0.14147397124746486,
          null
         ]
        },
        {
         "hoverinfo": "text",
         "marker": {
          "color": [
           4,
           1,
           2,
           2,
           72,
           2,
           1,
           1,
           1,
           1,
           1,
           1,
           1,
           1,
           1,
           1,
           1,
           1,
           1,
           1,
           1,
           2,
           1,
           1,
           1,
           1,
           2,
           1,
           1,
           1,
           6,
           1,
           1,
           1,
           1,
           1,
           1,
           1,
           1,
           1,
           1,
           1,
           3,
           1,
           1,
           1,
           1,
           1,
           1,
           1,
           1,
           1,
           1,
           1,
           1,
           1,
           1,
           1,
           1,
           2,
           1,
           1,
           1,
           2,
           1,
           1,
           3,
           1,
           1,
           1,
           1,
           1,
           1,
           1,
           1,
           1,
           1,
           1,
           1,
           1,
           1,
           1,
           2
          ],
          "colorbar": {
           "thickness": 15,
           "title": {
            "side": "right",
            "text": "Node Connections"
           },
           "xanchor": "left"
          },
          "colorscale": [
           [
            0,
            "rgb(255,255,217)"
           ],
           [
            0.125,
            "rgb(237,248,177)"
           ],
           [
            0.25,
            "rgb(199,233,180)"
           ],
           [
            0.375,
            "rgb(127,205,187)"
           ],
           [
            0.5,
            "rgb(65,182,196)"
           ],
           [
            0.625,
            "rgb(29,145,192)"
           ],
           [
            0.75,
            "rgb(34,94,168)"
           ],
           [
            0.875,
            "rgb(37,52,148)"
           ],
           [
            1,
            "rgb(8,29,88)"
           ]
          ],
          "line": {
           "width": 2
          },
          "reversescale": true,
          "showscale": true,
          "size": 10
         },
         "mode": "markers",
         "text": [
          "Name: 3<br># of connections: 4",
          "Name: test.py<br># of connections: 1",
          "Name: pyce.py<br># of connections: 2",
          "Name: ignore<br># of connections: 2",
          "Name: 2<br># of connections: 72",
          "Name: anonymize.py<br># of connections: 2",
          "Name: git2net.py<br># of connections: 1",
          "Name: .gitignore<br># of connections: 1",
          "Name: test_visualisation.py<br># of connections: 1",
          "Name: test_extract_coedits.py<br># of connections: 1",
          "Name: test_git2net.py<br># of connections: 1",
          "Name: test_identify_edits.py<br># of connections: 1",
          "Name: test_extract_edits.py<br># of connections: 1",
          "Name: test_extract_editing_paths.py<br># of connections: 1",
          "Name: test_get_original_line_number.py<br># of connections: 1",
          "Name: get_previous_names.py<br># of connections: 1",
          "Name: test_get_unified_changes.py<br># of connections: 1",
          "Name: test_identify_file_renaming.py<br># of connections: 1",
          "Name: test_get_path_to_origin.py<br># of connections: 1",
          "Name: test_get_paths_to_origin.py<br># of connections: 1",
          "Name: get_original_line_number.md<br># of connections: 1",
          "Name: README.md<br># of connections: 2",
          "Name: __init__.py<br># of connections: 1",
          "Name: setup.py<br># of connections: 1",
          "Name: test_functions.py<br># of connections: 1",
          "Name: test_repo_1.zip<br># of connections: 1",
          "Name: requirements.txt<br># of connections: 2",
          "Name: LICENSE.txt<br># of connections: 1",
          "Name: bug_report.md<br># of connections: 1",
          "Name: feature_request.md<br># of connections: 1",
          "Name: extraction.py<br># of connections: 6",
          "Name: _test_extract_editing_paths.py<br># of connections: 1",
          "Name: _test_extract_edits.py<br># of connections: 1",
          "Name: _test_get_original_line_number.py<br># of connections: 1",
          "Name: _test_get_paths_to_origin.py<br># of connections: 1",
          "Name: _test_get_unified_changes.py<br># of connections: 1",
          "Name: _test_git2net.py<br># of connections: 1",
          "Name: _test_identify_edits.py<br># of connections: 1",
          "Name: _test_identify_file_renaming.py<br># of connections: 1",
          "Name: _test_visualisation.py<br># of connections: 1",
          "Name: visualisation.py<br># of connections: 1",
          "Name: .gitmodules<br># of connections: 1",
          "Name: TUTORIAL.ipynb<br># of connections: 3",
          "Name: 4<br># of connections: 1",
          "Name: .editorconfig<br># of connections: 1",
          "Name: .gitattributes<br># of connections: 1",
          "Name: funding.yml<br># of connections: 1",
          "Name: security.md<br># of connections: 1",
          "Name: .npmrc<br># of connections: 1",
          "Name: .travis.yml<br># of connections: 1",
          "Name: binary-extensions.json<br># of connections: 1",
          "Name: binary-extensions.json.d.ts<br># of connections: 1",
          "Name: index.d.ts<br># of connections: 1",
          "Name: index.js<br># of connections: 1",
          "Name: index.test-d.ts<br># of connections: 1",
          "Name: license<br># of connections: 1",
          "Name: package.json<br># of connections: 1",
          "Name: readme.md<br># of connections: 1",
          "Name: test.js<br># of connections: 1",
          "Name: command_line.py<br># of connections: 2",
          "Name: 6<br># of connections: 1",
          "Name: 5<br># of connections: 1",
          "Name: 1<br># of connections: 1",
          "Name: disambiguation.py<br># of connections: 2",
          "Name: pyproject.toml<br># of connections: 1",
          "Name: setup.cfg<br># of connections: 1",
          "Name: 0<br># of connections: 3",
          "Name: python-app.yml<br># of connections: 1",
          "Name: python-publish.yml<br># of connections: 1",
          "Name: Makefile<br># of connections: 1",
          "Name: make.bat<br># of connections: 1",
          "Name: conf.py<br># of connections: 1",
          "Name: git2net.rst<br># of connections: 1",
          "Name: index.rst<br># of connections: 1",
          "Name: getting_started.rst<br># of connections: 1",
          "Name: modules.rst<br># of connections: 1",
          "Name: index.html<br># of connections: 1",
          "Name: api_reference.rst<br># of connections: 1",
          "Name: overview_installation.rst<br># of connections: 1",
          "Name: complexity.py<br># of connections: 1",
          "Name: 9<br># of connections: 1",
          "Name: 8<br># of connections: 1",
          "Name: 7<br># of connections: 2"
         ],
         "type": "scatter",
         "x": [
          -0.6613556284967265,
          -0.9126588565539675,
          -0.29080189330596473,
          -0.4779090443672446,
          0.006715489402921336,
          -0.454825768128668,
          -0.029662711203458467,
          -0.1776098584926977,
          0.5108844634499482,
          0.7479981452246333,
          0.10404500672907004,
          -0.7141767291331939,
          0.42516593338771586,
          0.24135714596004149,
          -0.08562277190696023,
          0.49565167257792264,
          -0.12687444844469412,
          0.4338468271603922,
          -0.20673191676315716,
          -0.31374571745446955,
          -0.5585679599138589,
          -0.12992087414011674,
          0.02604202472684392,
          -0.1325172355904728,
          0.05258095297179532,
          0.07898422012279166,
          -0.1640296715623329,
          -0.2154043070132471,
          -0.40834841688956125,
          0.06445107220057701,
          0.18103542210338733,
          0.4066517095029376,
          0.039833944470816306,
          -0.09213117123935236,
          -0.15116084508654948,
          -0.5527680095255899,
          -0.5097851263955094,
          0.2660423942587887,
          0.0906408109563925,
          -0.4773064340535802,
          0.1131355026592334,
          -0.34726859624762424,
          0.11849119615107796,
          0.9112481608400483,
          0.4055899930860765,
          -0.7888337688002118,
          -0.7110767114560247,
          0.5418239518733019,
          -0.8317581990416261,
          -0.8285255748479272,
          0.2565809111870571,
          -0.042676027114946634,
          0.08413398113892716,
          0.7959776177126981,
          -0.4798053091736985,
          -0.3324424398369228,
          0.2691512109027217,
          0.6585900926101017,
          0.10250755322240265,
          -0.2714822699326624,
          0.5330224755262472,
          1,
          -0.8955662985531644,
          0.3787427251527754,
          -0.6038174086181359,
          0.0019714212163971707,
          -0.2745812367389578,
          0.27861575319858484,
          -0.35420144206477283,
          0.7977865635641308,
          -0.8011885939464244,
          0.4036985293019337,
          -0.08757629121447616,
          0.5619783714938202,
          0.23779924578374612,
          0.17462952883827285,
          0.18343331157605558,
          0.31223111885549,
          -0.20043138312014416,
          -0.03081251982557252,
          0.803600451543863,
          0.9913908518084806,
          0.6379017117442206
         ],
         "y": [
          -0.6899456290661838,
          -0.9681240709506623,
          -0.29168422755334944,
          -0.35833652498093305,
          0.00707637961476567,
          -0.4877505973416841,
          0.07567179377658753,
          -0.07673886194986973,
          0.255882900466971,
          0.38213673516729335,
          0.19692326574784486,
          -0.43419507587678097,
          -0.35596593962266143,
          0.11413982760315186,
          -0.27668188467037924,
          -0.23404549062664043,
          -0.8283322633201669,
          -0.7194937885058362,
          -0.5091471758857529,
          -0.44089719148042544,
          -0.040599590796692064,
          0.004848894926998973,
          -0.05753731178839999,
          -0.167889495541597,
          0.11296214912808505,
          0.3223683833140239,
          0.08216339105057158,
          0.37843921781196704,
          0.09954285376907836,
          -0.4012710632591777,
          -0.04029484071867225,
          0.3942585897524538,
          -0.5637348599416061,
          -0.5518238185720853,
          0.5557426713397176,
          0.12289772703193434,
          -0.18014865312592224,
          0.4990408219338372,
          0.5584241251730673,
          0.2955524825899984,
          0.0374822556916105,
          0.770727706143922,
          -0.18324623522660916,
          -0.4024610166907892,
          0.7423892435868963,
          -0.2606119251106601,
          0.4154137573997197,
          0.649875051802296,
          0.08229454974098964,
          -0.09117878394798956,
          0.8048249551846008,
          0.8437338215170025,
          -0.8353100167181451,
          -0.13227981042518258,
          0.6838315705040336,
          -0.7647729626135858,
          -0.7966142834165946,
          0.5299702284775124,
          0.8382409447879053,
          0.22143539986051322,
          -0.5935010488295661,
          0.029881654223627117,
          0.7102087664058819,
          -0.05554690490757896,
          0.5640743217187648,
          -0.14656916428788225,
          -0.044637132813748544,
          -0.13976702571127383,
          0.4371145674330837,
          0.2017020622817025,
          0.2557119881583701,
          0.1382785263993817,
          0.2608985512849775,
          0.0597204136077735,
          0.28742354964633576,
          -0.27513674762226464,
          -0.5309592124221113,
          -0.449314605518961,
          0.8226607888217142,
          0.44338354072290304,
          -0.5646783889980737,
          -0.20665283351590447,
          -0.14147397124746486
         ]
        }
       ],
       "layout": {
        "hovermode": "closest",
        "margin": {
         "b": 20,
         "l": 5,
         "r": 5,
         "t": 40
        },
        "showlegend": false,
        "template": {
         "data": {
          "bar": [
           {
            "error_x": {
             "color": "#2a3f5f"
            },
            "error_y": {
             "color": "#2a3f5f"
            },
            "marker": {
             "line": {
              "color": "#E5ECF6",
              "width": 0.5
             },
             "pattern": {
              "fillmode": "overlay",
              "size": 10,
              "solidity": 0.2
             }
            },
            "type": "bar"
           }
          ],
          "barpolar": [
           {
            "marker": {
             "line": {
              "color": "#E5ECF6",
              "width": 0.5
             },
             "pattern": {
              "fillmode": "overlay",
              "size": 10,
              "solidity": 0.2
             }
            },
            "type": "barpolar"
           }
          ],
          "carpet": [
           {
            "aaxis": {
             "endlinecolor": "#2a3f5f",
             "gridcolor": "white",
             "linecolor": "white",
             "minorgridcolor": "white",
             "startlinecolor": "#2a3f5f"
            },
            "baxis": {
             "endlinecolor": "#2a3f5f",
             "gridcolor": "white",
             "linecolor": "white",
             "minorgridcolor": "white",
             "startlinecolor": "#2a3f5f"
            },
            "type": "carpet"
           }
          ],
          "choropleth": [
           {
            "colorbar": {
             "outlinewidth": 0,
             "ticks": ""
            },
            "type": "choropleth"
           }
          ],
          "contour": [
           {
            "colorbar": {
             "outlinewidth": 0,
             "ticks": ""
            },
            "colorscale": [
             [
              0,
              "#0d0887"
             ],
             [
              0.1111111111111111,
              "#46039f"
             ],
             [
              0.2222222222222222,
              "#7201a8"
             ],
             [
              0.3333333333333333,
              "#9c179e"
             ],
             [
              0.4444444444444444,
              "#bd3786"
             ],
             [
              0.5555555555555556,
              "#d8576b"
             ],
             [
              0.6666666666666666,
              "#ed7953"
             ],
             [
              0.7777777777777778,
              "#fb9f3a"
             ],
             [
              0.8888888888888888,
              "#fdca26"
             ],
             [
              1,
              "#f0f921"
             ]
            ],
            "type": "contour"
           }
          ],
          "contourcarpet": [
           {
            "colorbar": {
             "outlinewidth": 0,
             "ticks": ""
            },
            "type": "contourcarpet"
           }
          ],
          "heatmap": [
           {
            "colorbar": {
             "outlinewidth": 0,
             "ticks": ""
            },
            "colorscale": [
             [
              0,
              "#0d0887"
             ],
             [
              0.1111111111111111,
              "#46039f"
             ],
             [
              0.2222222222222222,
              "#7201a8"
             ],
             [
              0.3333333333333333,
              "#9c179e"
             ],
             [
              0.4444444444444444,
              "#bd3786"
             ],
             [
              0.5555555555555556,
              "#d8576b"
             ],
             [
              0.6666666666666666,
              "#ed7953"
             ],
             [
              0.7777777777777778,
              "#fb9f3a"
             ],
             [
              0.8888888888888888,
              "#fdca26"
             ],
             [
              1,
              "#f0f921"
             ]
            ],
            "type": "heatmap"
           }
          ],
          "heatmapgl": [
           {
            "colorbar": {
             "outlinewidth": 0,
             "ticks": ""
            },
            "colorscale": [
             [
              0,
              "#0d0887"
             ],
             [
              0.1111111111111111,
              "#46039f"
             ],
             [
              0.2222222222222222,
              "#7201a8"
             ],
             [
              0.3333333333333333,
              "#9c179e"
             ],
             [
              0.4444444444444444,
              "#bd3786"
             ],
             [
              0.5555555555555556,
              "#d8576b"
             ],
             [
              0.6666666666666666,
              "#ed7953"
             ],
             [
              0.7777777777777778,
              "#fb9f3a"
             ],
             [
              0.8888888888888888,
              "#fdca26"
             ],
             [
              1,
              "#f0f921"
             ]
            ],
            "type": "heatmapgl"
           }
          ],
          "histogram": [
           {
            "marker": {
             "pattern": {
              "fillmode": "overlay",
              "size": 10,
              "solidity": 0.2
             }
            },
            "type": "histogram"
           }
          ],
          "histogram2d": [
           {
            "colorbar": {
             "outlinewidth": 0,
             "ticks": ""
            },
            "colorscale": [
             [
              0,
              "#0d0887"
             ],
             [
              0.1111111111111111,
              "#46039f"
             ],
             [
              0.2222222222222222,
              "#7201a8"
             ],
             [
              0.3333333333333333,
              "#9c179e"
             ],
             [
              0.4444444444444444,
              "#bd3786"
             ],
             [
              0.5555555555555556,
              "#d8576b"
             ],
             [
              0.6666666666666666,
              "#ed7953"
             ],
             [
              0.7777777777777778,
              "#fb9f3a"
             ],
             [
              0.8888888888888888,
              "#fdca26"
             ],
             [
              1,
              "#f0f921"
             ]
            ],
            "type": "histogram2d"
           }
          ],
          "histogram2dcontour": [
           {
            "colorbar": {
             "outlinewidth": 0,
             "ticks": ""
            },
            "colorscale": [
             [
              0,
              "#0d0887"
             ],
             [
              0.1111111111111111,
              "#46039f"
             ],
             [
              0.2222222222222222,
              "#7201a8"
             ],
             [
              0.3333333333333333,
              "#9c179e"
             ],
             [
              0.4444444444444444,
              "#bd3786"
             ],
             [
              0.5555555555555556,
              "#d8576b"
             ],
             [
              0.6666666666666666,
              "#ed7953"
             ],
             [
              0.7777777777777778,
              "#fb9f3a"
             ],
             [
              0.8888888888888888,
              "#fdca26"
             ],
             [
              1,
              "#f0f921"
             ]
            ],
            "type": "histogram2dcontour"
           }
          ],
          "mesh3d": [
           {
            "colorbar": {
             "outlinewidth": 0,
             "ticks": ""
            },
            "type": "mesh3d"
           }
          ],
          "parcoords": [
           {
            "line": {
             "colorbar": {
              "outlinewidth": 0,
              "ticks": ""
             }
            },
            "type": "parcoords"
           }
          ],
          "pie": [
           {
            "automargin": true,
            "type": "pie"
           }
          ],
          "scatter": [
           {
            "fillpattern": {
             "fillmode": "overlay",
             "size": 10,
             "solidity": 0.2
            },
            "type": "scatter"
           }
          ],
          "scatter3d": [
           {
            "line": {
             "colorbar": {
              "outlinewidth": 0,
              "ticks": ""
             }
            },
            "marker": {
             "colorbar": {
              "outlinewidth": 0,
              "ticks": ""
             }
            },
            "type": "scatter3d"
           }
          ],
          "scattercarpet": [
           {
            "marker": {
             "colorbar": {
              "outlinewidth": 0,
              "ticks": ""
             }
            },
            "type": "scattercarpet"
           }
          ],
          "scattergeo": [
           {
            "marker": {
             "colorbar": {
              "outlinewidth": 0,
              "ticks": ""
             }
            },
            "type": "scattergeo"
           }
          ],
          "scattergl": [
           {
            "marker": {
             "colorbar": {
              "outlinewidth": 0,
              "ticks": ""
             }
            },
            "type": "scattergl"
           }
          ],
          "scattermapbox": [
           {
            "marker": {
             "colorbar": {
              "outlinewidth": 0,
              "ticks": ""
             }
            },
            "type": "scattermapbox"
           }
          ],
          "scatterpolar": [
           {
            "marker": {
             "colorbar": {
              "outlinewidth": 0,
              "ticks": ""
             }
            },
            "type": "scatterpolar"
           }
          ],
          "scatterpolargl": [
           {
            "marker": {
             "colorbar": {
              "outlinewidth": 0,
              "ticks": ""
             }
            },
            "type": "scatterpolargl"
           }
          ],
          "scatterternary": [
           {
            "marker": {
             "colorbar": {
              "outlinewidth": 0,
              "ticks": ""
             }
            },
            "type": "scatterternary"
           }
          ],
          "surface": [
           {
            "colorbar": {
             "outlinewidth": 0,
             "ticks": ""
            },
            "colorscale": [
             [
              0,
              "#0d0887"
             ],
             [
              0.1111111111111111,
              "#46039f"
             ],
             [
              0.2222222222222222,
              "#7201a8"
             ],
             [
              0.3333333333333333,
              "#9c179e"
             ],
             [
              0.4444444444444444,
              "#bd3786"
             ],
             [
              0.5555555555555556,
              "#d8576b"
             ],
             [
              0.6666666666666666,
              "#ed7953"
             ],
             [
              0.7777777777777778,
              "#fb9f3a"
             ],
             [
              0.8888888888888888,
              "#fdca26"
             ],
             [
              1,
              "#f0f921"
             ]
            ],
            "type": "surface"
           }
          ],
          "table": [
           {
            "cells": {
             "fill": {
              "color": "#EBF0F8"
             },
             "line": {
              "color": "white"
             }
            },
            "header": {
             "fill": {
              "color": "#C8D4E3"
             },
             "line": {
              "color": "white"
             }
            },
            "type": "table"
           }
          ]
         },
         "layout": {
          "annotationdefaults": {
           "arrowcolor": "#2a3f5f",
           "arrowhead": 0,
           "arrowwidth": 1
          },
          "autotypenumbers": "strict",
          "coloraxis": {
           "colorbar": {
            "outlinewidth": 0,
            "ticks": ""
           }
          },
          "colorscale": {
           "diverging": [
            [
             0,
             "#8e0152"
            ],
            [
             0.1,
             "#c51b7d"
            ],
            [
             0.2,
             "#de77ae"
            ],
            [
             0.3,
             "#f1b6da"
            ],
            [
             0.4,
             "#fde0ef"
            ],
            [
             0.5,
             "#f7f7f7"
            ],
            [
             0.6,
             "#e6f5d0"
            ],
            [
             0.7,
             "#b8e186"
            ],
            [
             0.8,
             "#7fbc41"
            ],
            [
             0.9,
             "#4d9221"
            ],
            [
             1,
             "#276419"
            ]
           ],
           "sequential": [
            [
             0,
             "#0d0887"
            ],
            [
             0.1111111111111111,
             "#46039f"
            ],
            [
             0.2222222222222222,
             "#7201a8"
            ],
            [
             0.3333333333333333,
             "#9c179e"
            ],
            [
             0.4444444444444444,
             "#bd3786"
            ],
            [
             0.5555555555555556,
             "#d8576b"
            ],
            [
             0.6666666666666666,
             "#ed7953"
            ],
            [
             0.7777777777777778,
             "#fb9f3a"
            ],
            [
             0.8888888888888888,
             "#fdca26"
            ],
            [
             1,
             "#f0f921"
            ]
           ],
           "sequentialminus": [
            [
             0,
             "#0d0887"
            ],
            [
             0.1111111111111111,
             "#46039f"
            ],
            [
             0.2222222222222222,
             "#7201a8"
            ],
            [
             0.3333333333333333,
             "#9c179e"
            ],
            [
             0.4444444444444444,
             "#bd3786"
            ],
            [
             0.5555555555555556,
             "#d8576b"
            ],
            [
             0.6666666666666666,
             "#ed7953"
            ],
            [
             0.7777777777777778,
             "#fb9f3a"
            ],
            [
             0.8888888888888888,
             "#fdca26"
            ],
            [
             1,
             "#f0f921"
            ]
           ]
          },
          "colorway": [
           "#636efa",
           "#EF553B",
           "#00cc96",
           "#ab63fa",
           "#FFA15A",
           "#19d3f3",
           "#FF6692",
           "#B6E880",
           "#FF97FF",
           "#FECB52"
          ],
          "font": {
           "color": "#2a3f5f"
          },
          "geo": {
           "bgcolor": "white",
           "lakecolor": "white",
           "landcolor": "#E5ECF6",
           "showlakes": true,
           "showland": true,
           "subunitcolor": "white"
          },
          "hoverlabel": {
           "align": "left"
          },
          "hovermode": "closest",
          "mapbox": {
           "style": "light"
          },
          "paper_bgcolor": "white",
          "plot_bgcolor": "#E5ECF6",
          "polar": {
           "angularaxis": {
            "gridcolor": "white",
            "linecolor": "white",
            "ticks": ""
           },
           "bgcolor": "#E5ECF6",
           "radialaxis": {
            "gridcolor": "white",
            "linecolor": "white",
            "ticks": ""
           }
          },
          "scene": {
           "xaxis": {
            "backgroundcolor": "#E5ECF6",
            "gridcolor": "white",
            "gridwidth": 2,
            "linecolor": "white",
            "showbackground": true,
            "ticks": "",
            "zerolinecolor": "white"
           },
           "yaxis": {
            "backgroundcolor": "#E5ECF6",
            "gridcolor": "white",
            "gridwidth": 2,
            "linecolor": "white",
            "showbackground": true,
            "ticks": "",
            "zerolinecolor": "white"
           },
           "zaxis": {
            "backgroundcolor": "#E5ECF6",
            "gridcolor": "white",
            "gridwidth": 2,
            "linecolor": "white",
            "showbackground": true,
            "ticks": "",
            "zerolinecolor": "white"
           }
          },
          "shapedefaults": {
           "line": {
            "color": "#2a3f5f"
           }
          },
          "ternary": {
           "aaxis": {
            "gridcolor": "white",
            "linecolor": "white",
            "ticks": ""
           },
           "baxis": {
            "gridcolor": "white",
            "linecolor": "white",
            "ticks": ""
           },
           "bgcolor": "#E5ECF6",
           "caxis": {
            "gridcolor": "white",
            "linecolor": "white",
            "ticks": ""
           }
          },
          "title": {
           "x": 0.05
          },
          "xaxis": {
           "automargin": true,
           "gridcolor": "white",
           "linecolor": "white",
           "ticks": "",
           "title": {
            "standoff": 15
           },
           "zerolinecolor": "white",
           "zerolinewidth": 2
          },
          "yaxis": {
           "automargin": true,
           "gridcolor": "white",
           "linecolor": "white",
           "ticks": "",
           "title": {
            "standoff": 15
           },
           "zerolinecolor": "white",
           "zerolinewidth": 2
          }
         }
        },
        "title": {
         "font": {
          "size": 16
         },
         "text": "<br>Network graph"
        },
        "xaxis": {
         "showgrid": false,
         "showticklabels": false,
         "zeroline": false
        },
        "yaxis": {
         "showgrid": false,
         "showticklabels": false,
         "zeroline": false
        }
       }
      }
     },
     "metadata": {},
     "output_type": "display_data"
    }
   ],
   "source": [
    "import networkx as nx\n",
    "from plotly import graph_objects as go\n",
    "\n",
    "# Convert the strings back to dictionaries\n",
    "nodes = n.nodes\n",
    "edges = n.edges\n",
    "\n",
    "# Create the graph\n",
    "G = nx.Graph()\n",
    "\n",
    "# Add nodes and edges to the graph\n",
    "for node, attr in nodes.items():\n",
    "    G.add_node(node, **attr)\n",
    "\n",
    "for edge, attr in edges.items():\n",
    "    G.add_edge(*edge, **attr)\n",
    "\n",
    "# Get positions for the nodes in G\n",
    "pos = nx.spring_layout(G)\n",
    "\n",
    "# Create Edges\n",
    "edge_trace = go.Scatter(\n",
    "    x=[],\n",
    "    y=[],\n",
    "    line=dict(width=0.5, color='#888'),\n",
    "    hoverinfo='none',\n",
    "    mode='lines')\n",
    "\n",
    "for edge in G.edges():\n",
    "    x0, y0 = pos[edge[0]]\n",
    "    x1, y1 = pos[edge[1]]\n",
    "    edge_trace['x'] += tuple([x0, x1, None])\n",
    "    edge_trace['y'] += tuple([y0, y1, None])\n",
    "\n",
    "# Create Nodes\n",
    "node_trace = go.Scatter(\n",
    "    x=[],\n",
    "    y=[],\n",
    "    text=[],\n",
    "    mode='markers',\n",
    "    hoverinfo='text',\n",
    "    marker=dict(\n",
    "        showscale=True,\n",
    "        colorscale='YlGnBu',\n",
    "        reversescale=True,\n",
    "        color=[],\n",
    "        size=10,\n",
    "        colorbar=dict(\n",
    "            thickness=15,\n",
    "            title='Node Connections',\n",
    "            xanchor='left',\n",
    "            titleside='right'\n",
    "        ),\n",
    "        line=dict(width=2)))\n",
    "\n",
    "for node in G.nodes():\n",
    "    x, y = pos[node]\n",
    "    node_trace['x'] += tuple([x])\n",
    "    node_trace['y'] += tuple([y])\n",
    "\n",
    "# Color Node Points\n",
    "for node, adjacencies in enumerate(G.adjacency()):\n",
    "    node_trace['marker']['color'] += tuple([len(adjacencies[1])])\n",
    "    node_info = 'Name: ' + str(adjacencies[0]) + '<br># of connections: ' + str(len(adjacencies[1]))\n",
    "    node_trace['text'] += tuple([node_info])\n",
    "\n",
    "# Create Network Graph\n",
    "fig = go.Figure(data=[edge_trace, node_trace],\n",
    "             layout=go.Layout(\n",
    "                title='<br>Network graph',\n",
    "                titlefont=dict(size=16),\n",
    "                showlegend=False,\n",
    "                hovermode='closest',\n",
    "                margin=dict(b=20,l=5,r=5,t=40),\n",
    "                xaxis=dict(showgrid=False, zeroline=False, showticklabels=False),\n",
    "                yaxis=dict(showgrid=False, zeroline=False, showticklabels=False)))\n",
    "\n",
    "fig.show()"
   ]
  }
 ],
 "metadata": {
  "kernelspec": {
   "display_name": "Python 3 (ipykernel)",
   "language": "python",
   "name": "python3"
  },
  "language_info": {
   "codemirror_mode": {
    "name": "ipython",
    "version": 3
   },
   "file_extension": ".py",
   "mimetype": "text/x-python",
   "name": "python",
   "nbconvert_exporter": "python",
   "pygments_lexer": "ipython3",
   "version": "3.11.3"
  }
 },
 "nbformat": 4,
 "nbformat_minor": 2
}
