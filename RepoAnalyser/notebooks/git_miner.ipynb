{
 "cells": [
  {
   "cell_type": "code",
   "execution_count": 1,
   "metadata": {
    "pycharm": {
     "is_executing": true
    },
    "scrolled": true
   },
   "outputs": [
    {
     "name": "stdout",
     "output_type": "stream",
     "text": [
      "fatal: destination path 'git2net-tutorials' already exists and is not an empty directory.\n",
      "Requirement already satisfied: git2net>=1.6.0 in /Users/imamad/opt/anaconda3/envs/lab_env/lib/python3.11/site-packages (from -r requirements.txt (line 1)) (1.7.0)\n",
      "Requirement already satisfied: pygit2 in /Users/imamad/opt/anaconda3/envs/lab_env/lib/python3.11/site-packages (from -r requirements.txt (line 2)) (1.12.1)\n",
      "Requirement already satisfied: GitPython in /Users/imamad/opt/anaconda3/envs/lab_env/lib/python3.11/site-packages (from -r requirements.txt (line 3)) (3.1.31)\n",
      "Requirement already satisfied: pandas in /Users/imamad/opt/anaconda3/envs/lab_env/lib/python3.11/site-packages (from -r requirements.txt (line 4)) (2.0.1)\n",
      "Requirement already satisfied: pathpy2 in /Users/imamad/opt/anaconda3/envs/lab_env/lib/python3.11/site-packages (from -r requirements.txt (line 5)) (2.2.0)\n",
      "Requirement already satisfied: matplotlib in /Users/imamad/opt/anaconda3/envs/lab_env/lib/python3.11/site-packages (from -r requirements.txt (line 6)) (3.7.1)\n",
      "Requirement already satisfied: seaborn in /Users/imamad/opt/anaconda3/envs/lab_env/lib/python3.11/site-packages (from -r requirements.txt (line 7)) (0.12.2)\n",
      "Requirement already satisfied: networkx in /Users/imamad/opt/anaconda3/envs/lab_env/lib/python3.11/site-packages (from -r requirements.txt (line 8)) (3.1)\n",
      "Requirement already satisfied: tqdm>=4.27.0 in /Users/imamad/opt/anaconda3/envs/lab_env/lib/python3.11/site-packages (from git2net>=1.6.0->-r requirements.txt (line 1)) (4.65.0)\n",
      "Requirement already satisfied: numpy in /Users/imamad/opt/anaconda3/envs/lab_env/lib/python3.11/site-packages (from git2net>=1.6.0->-r requirements.txt (line 1)) (1.24.3)\n",
      "Requirement already satisfied: scipy in /Users/imamad/opt/anaconda3/envs/lab_env/lib/python3.11/site-packages (from git2net>=1.6.0->-r requirements.txt (line 1)) (1.10.1)\n",
      "Requirement already satisfied: python-levenshtein in /Users/imamad/opt/anaconda3/envs/lab_env/lib/python3.11/site-packages (from git2net>=1.6.0->-r requirements.txt (line 1)) (0.21.0)\n",
      "Requirement already satisfied: lizard in /Users/imamad/opt/anaconda3/envs/lab_env/lib/python3.11/site-packages (from git2net>=1.6.0->-r requirements.txt (line 1)) (1.17.10)\n",
      "Requirement already satisfied: pydriller<2.2.0,>=2.0.0 in /Users/imamad/opt/anaconda3/envs/lab_env/lib/python3.11/site-packages (from git2net>=1.6.0->-r requirements.txt (line 1)) (2.1)\n",
      "Requirement already satisfied: gambit-disambig in /Users/imamad/opt/anaconda3/envs/lab_env/lib/python3.11/site-packages (from git2net>=1.6.0->-r requirements.txt (line 1)) (1.0.3)\n",
      "Requirement already satisfied: setuptools in /Users/imamad/opt/anaconda3/envs/lab_env/lib/python3.11/site-packages (from git2net>=1.6.0->-r requirements.txt (line 1)) (67.7.2)\n",
      "Requirement already satisfied: pygments in /Users/imamad/opt/anaconda3/envs/lab_env/lib/python3.11/site-packages (from git2net>=1.6.0->-r requirements.txt (line 1)) (2.15.1)\n",
      "Requirement already satisfied: cffi>=1.9.1 in /Users/imamad/opt/anaconda3/envs/lab_env/lib/python3.11/site-packages (from pygit2->-r requirements.txt (line 2)) (1.15.1)\n",
      "Requirement already satisfied: gitdb<5,>=4.0.1 in /Users/imamad/opt/anaconda3/envs/lab_env/lib/python3.11/site-packages (from GitPython->-r requirements.txt (line 3)) (4.0.10)\n",
      "Requirement already satisfied: python-dateutil>=2.8.2 in /Users/imamad/opt/anaconda3/envs/lab_env/lib/python3.11/site-packages (from pandas->-r requirements.txt (line 4)) (2.8.2)\n",
      "Requirement already satisfied: pytz>=2020.1 in /Users/imamad/opt/anaconda3/envs/lab_env/lib/python3.11/site-packages (from pandas->-r requirements.txt (line 4)) (2023.3)\n",
      "Requirement already satisfied: tzdata>=2022.1 in /Users/imamad/opt/anaconda3/envs/lab_env/lib/python3.11/site-packages (from pandas->-r requirements.txt (line 4)) (2023.3)\n",
      "Requirement already satisfied: contourpy>=1.0.1 in /Users/imamad/opt/anaconda3/envs/lab_env/lib/python3.11/site-packages (from matplotlib->-r requirements.txt (line 6)) (1.0.7)\n",
      "Requirement already satisfied: cycler>=0.10 in /Users/imamad/opt/anaconda3/envs/lab_env/lib/python3.11/site-packages (from matplotlib->-r requirements.txt (line 6)) (0.11.0)\n",
      "Requirement already satisfied: fonttools>=4.22.0 in /Users/imamad/opt/anaconda3/envs/lab_env/lib/python3.11/site-packages (from matplotlib->-r requirements.txt (line 6)) (4.39.4)\n",
      "Requirement already satisfied: kiwisolver>=1.0.1 in /Users/imamad/opt/anaconda3/envs/lab_env/lib/python3.11/site-packages (from matplotlib->-r requirements.txt (line 6)) (1.4.4)\n",
      "Requirement already satisfied: packaging>=20.0 in /Users/imamad/opt/anaconda3/envs/lab_env/lib/python3.11/site-packages (from matplotlib->-r requirements.txt (line 6)) (23.1)\n",
      "Requirement already satisfied: pillow>=6.2.0 in /Users/imamad/opt/anaconda3/envs/lab_env/lib/python3.11/site-packages (from matplotlib->-r requirements.txt (line 6)) (9.5.0)\n",
      "Requirement already satisfied: pyparsing>=2.3.1 in /Users/imamad/opt/anaconda3/envs/lab_env/lib/python3.11/site-packages (from matplotlib->-r requirements.txt (line 6)) (3.0.9)\n",
      "Requirement already satisfied: pycparser in /Users/imamad/opt/anaconda3/envs/lab_env/lib/python3.11/site-packages (from cffi>=1.9.1->pygit2->-r requirements.txt (line 2)) (2.21)\n",
      "Requirement already satisfied: smmap<6,>=3.0.1 in /Users/imamad/opt/anaconda3/envs/lab_env/lib/python3.11/site-packages (from gitdb<5,>=4.0.1->GitPython->-r requirements.txt (line 3)) (5.0.0)\n",
      "Requirement already satisfied: types-pytz in /Users/imamad/opt/anaconda3/envs/lab_env/lib/python3.11/site-packages (from pydriller<2.2.0,>=2.0.0->git2net>=1.6.0->-r requirements.txt (line 1)) (2023.3.0.0)\n",
      "Requirement already satisfied: six>=1.5 in /Users/imamad/opt/anaconda3/envs/lab_env/lib/python3.11/site-packages (from python-dateutil>=2.8.2->pandas->-r requirements.txt (line 4)) (1.16.0)\n",
      "Requirement already satisfied: unidecode in /Users/imamad/opt/anaconda3/envs/lab_env/lib/python3.11/site-packages (from gambit-disambig->git2net>=1.6.0->-r requirements.txt (line 1)) (1.3.6)\n",
      "Requirement already satisfied: pyjarowinkler in /Users/imamad/opt/anaconda3/envs/lab_env/lib/python3.11/site-packages (from gambit-disambig->git2net>=1.6.0->-r requirements.txt (line 1)) (1.8)\n",
      "Requirement already satisfied: Levenshtein==0.21.0 in /Users/imamad/opt/anaconda3/envs/lab_env/lib/python3.11/site-packages (from python-levenshtein->git2net>=1.6.0->-r requirements.txt (line 1)) (0.21.0)\n",
      "Requirement already satisfied: rapidfuzz<4.0.0,>=2.3.0 in /Users/imamad/opt/anaconda3/envs/lab_env/lib/python3.11/site-packages (from Levenshtein==0.21.0->python-levenshtein->git2net>=1.6.0->-r requirements.txt (line 1)) (3.0.0)\n",
      "fatal: destination path 'git2net4analysis' already exists and is not an empty directory.\n"
     ]
    }
   ],
   "source": [
    "!git clone https://github.com/gotec/git2net-tutorials\n",
    "import os\n",
    "os.chdir('git2net-tutorials')\n",
    "!pip install -r requirements.txt\n",
    "os.chdir('..')\n",
    "!git clone https://github.com/gotec/git2net git2net4analysis"
   ]
  },
  {
   "cell_type": "code",
   "execution_count": 2,
   "metadata": {},
   "outputs": [],
   "source": [
    "# Analyse cloned repo\n",
    "\n",
    "import git2net\n",
    "import os\n",
    "import sqlite3\n",
    "from collections import Counter\n",
    "import pandas as pd\n",
    "from collections import defaultdict\n",
    "import pathpy as pp\n",
    "\n",
    "db_filename = 'git2net4analysis.db'\n",
    "\n",
    "def mine_cloned_repo(repo_folder, repo_db):\n",
    "    # We assume a clone of git2net's repository exists in the folder below following the first tutorial.\n",
    "    git_repo_dir = repo_folder\n",
    "\n",
    "    # Here, we specify the database in which we will store the results of the mining process.\n",
    "    sqlite_db_file = repo_db\n",
    "\n",
    "    # Remove database if exists\n",
    "    if os.path.exists(sqlite_db_file):\n",
    "        os.remove(sqlite_db_file)\n",
    "\n",
    "    git2net.mine_git_repo(git_repo_dir, sqlite_db_file)\n",
    "\n",
    "# mine_cloned_repo('git2net4analysis', 'git2net4analysis.db')\n"
   ]
  },
  {
   "cell_type": "code",
   "execution_count": 3,
   "metadata": {},
   "outputs": [
    {
     "name": "stderr",
     "output_type": "stream",
     "text": [
      "author identity disambiguation: 100%|██████████| 66/66 [00:00<00:00, 11344.32it/s]\n"
     ]
    }
   ],
   "source": [
    "# disambiguate author aliases\n",
    "def disambiguate_aliases(db_filename):\n",
    "    git2net.disambiguate_aliases_db(db_filename)\n",
    "\n",
    "    with sqlite3.connect(db_filename) as con:\n",
    "        authors = pd.read_sql(\"\"\"SELECT author_name, author_email, author_id FROM commits\"\"\", con)\n",
    "\n",
    "    Counter(['{} --- {}, <{}>'.format(row.author_id, row.author_name, row.author_email)\n",
    "             for idx, row in authors.iterrows()])\n",
    "\n",
    "disambiguate_aliases(db_filename)"
   ]
  },
  {
   "attachments": {},
   "cell_type": "markdown",
   "metadata": {},
   "source": [
    "A co-editing network represents the collaboration relationships between contributors based on their interactions in the project, such as code commits or file changes.\n",
    "\n",
    "In both the temporal and aggregated network, a node represents an author, whereas edges point from the person changing a line of code to the person who was the original author."
   ]
  },
  {
   "cell_type": "code",
   "execution_count": 4,
   "metadata": {},
   "outputs": [],
   "source": [
    "# The function returns a pathpy temporal network object and two dictionaries containing properties of nodes and edges.\n",
    "# dictionaries are not implemented yet\n",
    "\n",
    "def make_coediting_net(db_filename):\n",
    "    t, node_info, edge_info = git2net.get_bipartite_network(db_filename)\n",
    "    n = pp.Network.from_temporal_network(t)\n",
    "    return (n, node_info, edge_info)\n",
    "\n",
    "n, node_info, edge_info = make_coediting_net(db_filename)\n",
    "\n",
    "# res.adjacency_matrix() # it works only after using func from_temporal_network\n"
   ]
  },
  {
   "cell_type": "code",
   "execution_count": 5,
   "metadata": {
    "scrolled": false
   },
   "outputs": [
    {
     "data": {
      "text/html": [
       "<style>\n",
       "    text.label_VDQYvaqW {\n",
       "        text-anchor: middle;\n",
       "        font-size: 8px;\n",
       "        font-family: Arial, Helvetica, sans-serif;\n",
       "        fill: #999999;\n",
       "        stroke: #ffffff;\n",
       "        stroke-width: 0.1px;\n",
       "        opacity: 1.0;\n",
       "    }\n",
       "    .links_VDQYvaqW line {\n",
       "    stroke-opacity: 1.0;\n",
       "    }\n",
       "    .arrows svg:path {\n",
       "        stroke: #666;\n",
       "    }\n",
       "    .nodes_VDQYvaqW circle {\n",
       "    stroke: #fff;\n",
       "    stroke-width: 0.5px;\n",
       "    }\n",
       "</style>\n",
       "\n",
       "<svg width=\"400\" height=\"400\" id=\"VDQYvaqW\">        \n",
       "    <text x=\"20\" y=\"20\" font-family=\"sans-serif\" font-size=\"14px\" fill=\"#666\" style=\"cursor: pointer\"\n",
       "        id='VDQYvaqW_svg_txt'>[save svg]</text>\n",
       "</svg>\n",
       "\n",
       "<script charset=\"utf-8\" src=\"https://d3js.org/d3.v4.min.js\"></script>\n",
       "<script charset=\"utf-8\">\n",
       "\n",
       "// Load via requireJS if available (jupyter notebook environment)\n",
       "try {\n",
       "    // Problem: require.config will raise an exception when called for the second time \n",
       "    require.config({\n",
       "        paths: {\n",
       "            //d3: \"https://d3js.org/d3.v4.min\"\n",
       "            d3: \"https://d3js.org/d3.v4.min.js\".replace(\".js\", \"\")\n",
       "        }\n",
       "    });\n",
       "    console.log(\"Detected requireJS\");\n",
       "}\n",
       "catch(err){\n",
       "    // a reference error indicates that requireJS does not exist. \n",
       "    // other errors may occur due to multiple calls to config\n",
       "    if (err instanceof ReferenceError){\n",
       "        console.log(\"Detected no requireJS\");\n",
       "\n",
       "        // Helper function that waits for d3js to be loaded\n",
       "        require = function require(symbols, callback) {\n",
       "            var ms = 5;\n",
       "            window.setTimeout(function(t) {\n",
       "                if (window[symbols[0]])\n",
       "                    callback(window[symbols[0]]);\n",
       "                else \n",
       "                    window.setTimeout(arguments.callee, ms);\n",
       "            }, ms);\n",
       "        }\n",
       "    }\n",
       "}\n",
       "\n",
       "// wait until d3js has been loaded\n",
       "require([\"d3\"], function(d3) {\n",
       "    var svg = d3.select(\"#\"+\"VDQYvaqW\"), radius = 6, width = +svg.attr(\"width\"), height = +svg.attr(\"height\");\n",
       "\n",
       "    var color = d3.scaleOrdinal(d3.schemeCategory20);\n",
       "\n",
       "    var graph = {\"links\": [{\"source\": \"n_3\", \"target\": \"test.py\", \"color\": \"#999999\", \"width\": 0.5, \"weight\": 1.0}, {\"source\": \"n_3\", \"target\": \"pyce.py\", \"color\": \"#999999\", \"width\": 0.5, \"weight\": 0.3}, {\"source\": \"n_3\", \"target\": \"ignore\", \"color\": \"#999999\", \"width\": 0.5, \"weight\": 0.3333333333333333}, {\"source\": \"n_2\", \"target\": \"pyce.py\", \"color\": \"#999999\", \"width\": 0.5, \"weight\": 0.7272727272727273}, {\"source\": \"n_2\", \"target\": \"ignore\", \"color\": \"#999999\", \"width\": 0.5, \"weight\": 0.6666666666666666}, {\"source\": \"n_3\", \"target\": \"anonymize.py\", \"color\": \"#999999\", \"width\": 0.5, \"weight\": 0.5}, {\"source\": \"n_2\", \"target\": \"git2net.py\", \"color\": \"#999999\", \"width\": 0.5, \"weight\": 1.0}, {\"source\": \"n_2\", \"target\": \".gitignore\", \"color\": \"#999999\", \"width\": 0.5, \"weight\": 1.0}, {\"source\": \"n_2\", \"target\": \"test_visualisation.py\", \"color\": \"#999999\", \"width\": 0.5, \"weight\": 1.0}, {\"source\": \"n_2\", \"target\": \"test_extract_coedits.py\", \"color\": \"#999999\", \"width\": 0.5, \"weight\": 1.0}, {\"source\": \"n_2\", \"target\": \"test_git2net.py\", \"color\": \"#999999\", \"width\": 0.5, \"weight\": 1.0}, {\"source\": \"n_2\", \"target\": \"test_identify_edits.py\", \"color\": \"#999999\", \"width\": 0.5, \"weight\": 1.0}, {\"source\": \"n_2\", \"target\": \"test_extract_edits.py\", \"color\": \"#999999\", \"width\": 0.5, \"weight\": 1.0}, {\"source\": \"n_2\", \"target\": \"test_extract_editing_paths.py\", \"color\": \"#999999\", \"width\": 0.5, \"weight\": 1.0}, {\"source\": \"n_2\", \"target\": \"test_get_original_line_number.py\", \"color\": \"#999999\", \"width\": 0.5, \"weight\": 1.0}, {\"source\": \"n_2\", \"target\": \"get_previous_names.py\", \"color\": \"#999999\", \"width\": 0.5, \"weight\": 1.0}, {\"source\": \"n_2\", \"target\": \"test_get_unified_changes.py\", \"color\": \"#999999\", \"width\": 0.5, \"weight\": 1.0}, {\"source\": \"n_2\", \"target\": \"test_identify_file_renaming.py\", \"color\": \"#999999\", \"width\": 0.5, \"weight\": 1.0}, {\"source\": \"n_2\", \"target\": \"test_get_path_to_origin.py\", \"color\": \"#999999\", \"width\": 0.5, \"weight\": 1.0}, {\"source\": \"n_2\", \"target\": \"test_get_paths_to_origin.py\", \"color\": \"#999999\", \"width\": 0.5, \"weight\": 1.0}, {\"source\": \"n_2\", \"target\": \"get_original_line_number.md\", \"color\": \"#999999\", \"width\": 0.5, \"weight\": 1.0}, {\"source\": \"n_2\", \"target\": \"README.md\", \"color\": \"#999999\", \"width\": 0.5, \"weight\": 0.8}, {\"source\": \"n_2\", \"target\": \"__init__.py\", \"color\": \"#999999\", \"width\": 0.5, \"weight\": 1.0}, {\"source\": \"n_2\", \"target\": \"setup.py\", \"color\": \"#999999\", \"width\": 0.5, \"weight\": 1.0}, {\"source\": \"n_2\", \"target\": \"test_functions.py\", \"color\": \"#999999\", \"width\": 0.5, \"weight\": 1.0}, {\"source\": \"n_2\", \"target\": \"test_repo_1.zip\", \"color\": \"#999999\", \"width\": 0.5, \"weight\": 1.0}, {\"source\": \"n_2\", \"target\": \"anonymize.py\", \"color\": \"#999999\", \"width\": 0.5, \"weight\": 0.5}, {\"source\": \"n_2\", \"target\": \"requirements.txt\", \"color\": \"#999999\", \"width\": 0.5, \"weight\": 0.7777777777777778}, {\"source\": \"n_2\", \"target\": \"LICENSE.txt\", \"color\": \"#999999\", \"width\": 0.5, \"weight\": 1.0}, {\"source\": \"n_2\", \"target\": \"bug_report.md\", \"color\": \"#999999\", \"width\": 0.5, \"weight\": 1.0}, {\"source\": \"n_2\", \"target\": \"feature_request.md\", \"color\": \"#999999\", \"width\": 0.5, \"weight\": 1.0}, {\"source\": \"n_2\", \"target\": \"extraction.py\", \"color\": \"#999999\", \"width\": 0.5, \"weight\": 0.9411764705882353}, {\"source\": \"n_2\", \"target\": \"_test_extract_editing_paths.py\", \"color\": \"#999999\", \"width\": 0.5, \"weight\": 1.0}, {\"source\": \"n_2\", \"target\": \"_test_extract_edits.py\", \"color\": \"#999999\", \"width\": 0.5, \"weight\": 1.0}, {\"source\": \"n_2\", \"target\": \"_test_get_original_line_number.py\", \"color\": \"#999999\", \"width\": 0.5, \"weight\": 1.0}, {\"source\": \"n_2\", \"target\": \"_test_get_paths_to_origin.py\", \"color\": \"#999999\", \"width\": 0.5, \"weight\": 1.0}, {\"source\": \"n_2\", \"target\": \"_test_get_unified_changes.py\", \"color\": \"#999999\", \"width\": 0.5, \"weight\": 1.0}, {\"source\": \"n_2\", \"target\": \"_test_git2net.py\", \"color\": \"#999999\", \"width\": 0.5, \"weight\": 1.0}, {\"source\": \"n_2\", \"target\": \"_test_identify_edits.py\", \"color\": \"#999999\", \"width\": 0.5, \"weight\": 1.0}, {\"source\": \"n_2\", \"target\": \"_test_identify_file_renaming.py\", \"color\": \"#999999\", \"width\": 0.5, \"weight\": 1.0}, {\"source\": \"n_2\", \"target\": \"_test_visualisation.py\", \"color\": \"#999999\", \"width\": 0.5, \"weight\": 1.0}, {\"source\": \"n_2\", \"target\": \"visualisation.py\", \"color\": \"#999999\", \"width\": 0.5, \"weight\": 1.0}, {\"source\": \"n_2\", \"target\": \".gitmodules\", \"color\": \"#999999\", \"width\": 0.5, \"weight\": 1.0}, {\"source\": \"n_2\", \"target\": \"TUTORIAL.ipynb\", \"color\": \"#999999\", \"width\": 0.5, \"weight\": 0.8}, {\"source\": \"n_4\", \"target\": \"extraction.py\", \"color\": \"#999999\", \"width\": 0.5, \"weight\": 1.0}, {\"source\": \"n_2\", \"target\": \".editorconfig\", \"color\": \"#999999\", \"width\": 0.5, \"weight\": 1.0}, {\"source\": \"n_2\", \"target\": \".gitattributes\", \"color\": \"#999999\", \"width\": 0.5, \"weight\": 1.0}, {\"source\": \"n_2\", \"target\": \"funding.yml\", \"color\": \"#999999\", \"width\": 0.5, \"weight\": 1.0}, {\"source\": \"n_2\", \"target\": \"security.md\", \"color\": \"#999999\", \"width\": 0.5, \"weight\": 1.0}, {\"source\": \"n_2\", \"target\": \".npmrc\", \"color\": \"#999999\", \"width\": 0.5, \"weight\": 1.0}, {\"source\": \"n_2\", \"target\": \".travis.yml\", \"color\": \"#999999\", \"width\": 0.5, \"weight\": 1.0}, {\"source\": \"n_2\", \"target\": \"binary-extensions.json\", \"color\": \"#999999\", \"width\": 0.5, \"weight\": 1.0}, {\"source\": \"n_2\", \"target\": \"binary-extensions.json.d.ts\", \"color\": \"#999999\", \"width\": 0.5, \"weight\": 1.0}, {\"source\": \"n_2\", \"target\": \"index.d.ts\", \"color\": \"#999999\", \"width\": 0.5, \"weight\": 1.0}, {\"source\": \"n_2\", \"target\": \"index.js\", \"color\": \"#999999\", \"width\": 0.5, \"weight\": 1.0}, {\"source\": \"n_2\", \"target\": \"index.test-d.ts\", \"color\": \"#999999\", \"width\": 0.5, \"weight\": 1.0}, {\"source\": \"n_2\", \"target\": \"license\", \"color\": \"#999999\", \"width\": 0.5, \"weight\": 1.0}, {\"source\": \"n_2\", \"target\": \"package.json\", \"color\": \"#999999\", \"width\": 0.5, \"weight\": 1.0}, {\"source\": \"n_2\", \"target\": \"readme.md\", \"color\": \"#999999\", \"width\": 0.5, \"weight\": 1.0}, {\"source\": \"n_2\", \"target\": \"test.js\", \"color\": \"#999999\", \"width\": 0.5, \"weight\": 1.0}, {\"source\": \"n_2\", \"target\": \"command_line.py\", \"color\": \"#999999\", \"width\": 0.5, \"weight\": 0.9}, {\"source\": \"n_6\", \"target\": \"TUTORIAL.ipynb\", \"color\": \"#999999\", \"width\": 0.5, \"weight\": 1.0}, {\"source\": \"n_5\", \"target\": \"extraction.py\", \"color\": \"#999999\", \"width\": 0.5, \"weight\": 1.0}, {\"source\": \"n_1\", \"target\": \"command_line.py\", \"color\": \"#999999\", \"width\": 0.5, \"weight\": 1.0}, {\"source\": \"n_2\", \"target\": \"disambiguation.py\", \"color\": \"#999999\", \"width\": 0.5, \"weight\": 0.7142857142857143}, {\"source\": \"n_2\", \"target\": \"pyproject.toml\", \"color\": \"#999999\", \"width\": 0.5, \"weight\": 1.0}, {\"source\": \"n_2\", \"target\": \"setup.cfg\", \"color\": \"#999999\", \"width\": 0.5, \"weight\": 1.0}, {\"source\": \"n_0\", \"target\": \"README.md\", \"color\": \"#999999\", \"width\": 0.5, \"weight\": 0.45454545454545453}, {\"source\": \"n_0\", \"target\": \"requirements.txt\", \"color\": \"#999999\", \"width\": 0.5, \"weight\": 0.36363636363636365}, {\"source\": \"n_0\", \"target\": \"TUTORIAL.ipynb\", \"color\": \"#999999\", \"width\": 0.5, \"weight\": 0.18181818181818182}, {\"source\": \"n_2\", \"target\": \"python-app.yml\", \"color\": \"#999999\", \"width\": 0.5, \"weight\": 1.0}, {\"source\": \"n_2\", \"target\": \"python-publish.yml\", \"color\": \"#999999\", \"width\": 0.5, \"weight\": 1.0}, {\"source\": \"n_2\", \"target\": \"Makefile\", \"color\": \"#999999\", \"width\": 0.5, \"weight\": 1.0}, {\"source\": \"n_2\", \"target\": \"make.bat\", \"color\": \"#999999\", \"width\": 0.5, \"weight\": 1.0}, {\"source\": \"n_2\", \"target\": \"conf.py\", \"color\": \"#999999\", \"width\": 0.5, \"weight\": 1.0}, {\"source\": \"n_2\", \"target\": \"git2net.rst\", \"color\": \"#999999\", \"width\": 0.5, \"weight\": 1.0}, {\"source\": \"n_2\", \"target\": \"index.rst\", \"color\": \"#999999\", \"width\": 0.5, \"weight\": 1.0}, {\"source\": \"n_2\", \"target\": \"getting_started.rst\", \"color\": \"#999999\", \"width\": 0.5, \"weight\": 1.0}, {\"source\": \"n_2\", \"target\": \"modules.rst\", \"color\": \"#999999\", \"width\": 0.5, \"weight\": 1.0}, {\"source\": \"n_2\", \"target\": \"index.html\", \"color\": \"#999999\", \"width\": 0.5, \"weight\": 1.0}, {\"source\": \"n_2\", \"target\": \"api_reference.rst\", \"color\": \"#999999\", \"width\": 0.5, \"weight\": 1.0}, {\"source\": \"n_2\", \"target\": \"overview_installation.rst\", \"color\": \"#999999\", \"width\": 0.5, \"weight\": 1.0}, {\"source\": \"n_2\", \"target\": \"complexity.py\", \"color\": \"#999999\", \"width\": 0.5, \"weight\": 1.0}, {\"source\": \"n_9\", \"target\": \"extraction.py\", \"color\": \"#999999\", \"width\": 0.5, \"weight\": 1.0}, {\"source\": \"n_8\", \"target\": \"extraction.py\", \"color\": \"#999999\", \"width\": 0.5, \"weight\": 1.0}, {\"source\": \"n_7\", \"target\": \"extraction.py\", \"color\": \"#999999\", \"width\": 0.5, \"weight\": 0.5}, {\"source\": \"n_7\", \"target\": \"disambiguation.py\", \"color\": \"#999999\", \"width\": 0.5, \"weight\": 0.5}], \"nodes\": [{\"id\": \"n_3\", \"text\": \"n_3\", \"color\": \"#73D2DE\", \"size\": 5.0}, {\"id\": \"test.py\", \"text\": \"test.py\", \"color\": \"#2E5EAA\", \"size\": 5.0}, {\"id\": \"pyce.py\", \"text\": \"pyce.py\", \"color\": \"#2E5EAA\", \"size\": 5.0}, {\"id\": \"ignore\", \"text\": \"ignore\", \"color\": \"#2E5EAA\", \"size\": 5.0}, {\"id\": \"n_2\", \"text\": \"n_2\", \"color\": \"#73D2DE\", \"size\": 5.0}, {\"id\": \"anonymize.py\", \"text\": \"anonymize.py\", \"color\": \"#2E5EAA\", \"size\": 5.0}, {\"id\": \"git2net.py\", \"text\": \"git2net.py\", \"color\": \"#2E5EAA\", \"size\": 5.0}, {\"id\": \".gitignore\", \"text\": \".gitignore\", \"color\": \"#2E5EAA\", \"size\": 5.0}, {\"id\": \"test_visualisation.py\", \"text\": \"test_visualisation.py\", \"color\": \"#2E5EAA\", \"size\": 5.0}, {\"id\": \"test_extract_coedits.py\", \"text\": \"test_extract_coedits.py\", \"color\": \"#2E5EAA\", \"size\": 5.0}, {\"id\": \"test_git2net.py\", \"text\": \"test_git2net.py\", \"color\": \"#2E5EAA\", \"size\": 5.0}, {\"id\": \"test_identify_edits.py\", \"text\": \"test_identify_edits.py\", \"color\": \"#2E5EAA\", \"size\": 5.0}, {\"id\": \"test_extract_edits.py\", \"text\": \"test_extract_edits.py\", \"color\": \"#2E5EAA\", \"size\": 5.0}, {\"id\": \"test_extract_editing_paths.py\", \"text\": \"test_extract_editing_paths.py\", \"color\": \"#2E5EAA\", \"size\": 5.0}, {\"id\": \"test_get_original_line_number.py\", \"text\": \"test_get_original_line_number.py\", \"color\": \"#2E5EAA\", \"size\": 5.0}, {\"id\": \"get_previous_names.py\", \"text\": \"get_previous_names.py\", \"color\": \"#2E5EAA\", \"size\": 5.0}, {\"id\": \"test_get_unified_changes.py\", \"text\": \"test_get_unified_changes.py\", \"color\": \"#2E5EAA\", \"size\": 5.0}, {\"id\": \"test_identify_file_renaming.py\", \"text\": \"test_identify_file_renaming.py\", \"color\": \"#2E5EAA\", \"size\": 5.0}, {\"id\": \"test_get_path_to_origin.py\", \"text\": \"test_get_path_to_origin.py\", \"color\": \"#2E5EAA\", \"size\": 5.0}, {\"id\": \"test_get_paths_to_origin.py\", \"text\": \"test_get_paths_to_origin.py\", \"color\": \"#2E5EAA\", \"size\": 5.0}, {\"id\": \"get_original_line_number.md\", \"text\": \"get_original_line_number.md\", \"color\": \"#2E5EAA\", \"size\": 5.0}, {\"id\": \"README.md\", \"text\": \"README.md\", \"color\": \"#2E5EAA\", \"size\": 5.0}, {\"id\": \"__init__.py\", \"text\": \"__init__.py\", \"color\": \"#2E5EAA\", \"size\": 5.0}, {\"id\": \"setup.py\", \"text\": \"setup.py\", \"color\": \"#2E5EAA\", \"size\": 5.0}, {\"id\": \"test_functions.py\", \"text\": \"test_functions.py\", \"color\": \"#2E5EAA\", \"size\": 5.0}, {\"id\": \"test_repo_1.zip\", \"text\": \"test_repo_1.zip\", \"color\": \"#2E5EAA\", \"size\": 5.0}, {\"id\": \"requirements.txt\", \"text\": \"requirements.txt\", \"color\": \"#2E5EAA\", \"size\": 5.0}, {\"id\": \"LICENSE.txt\", \"text\": \"LICENSE.txt\", \"color\": \"#2E5EAA\", \"size\": 5.0}, {\"id\": \"bug_report.md\", \"text\": \"bug_report.md\", \"color\": \"#2E5EAA\", \"size\": 5.0}, {\"id\": \"feature_request.md\", \"text\": \"feature_request.md\", \"color\": \"#2E5EAA\", \"size\": 5.0}, {\"id\": \"extraction.py\", \"text\": \"extraction.py\", \"color\": \"#2E5EAA\", \"size\": 5.0}, {\"id\": \"_test_extract_editing_paths.py\", \"text\": \"_test_extract_editing_paths.py\", \"color\": \"#2E5EAA\", \"size\": 5.0}, {\"id\": \"_test_extract_edits.py\", \"text\": \"_test_extract_edits.py\", \"color\": \"#2E5EAA\", \"size\": 5.0}, {\"id\": \"_test_get_original_line_number.py\", \"text\": \"_test_get_original_line_number.py\", \"color\": \"#2E5EAA\", \"size\": 5.0}, {\"id\": \"_test_get_paths_to_origin.py\", \"text\": \"_test_get_paths_to_origin.py\", \"color\": \"#2E5EAA\", \"size\": 5.0}, {\"id\": \"_test_get_unified_changes.py\", \"text\": \"_test_get_unified_changes.py\", \"color\": \"#2E5EAA\", \"size\": 5.0}, {\"id\": \"_test_git2net.py\", \"text\": \"_test_git2net.py\", \"color\": \"#2E5EAA\", \"size\": 5.0}, {\"id\": \"_test_identify_edits.py\", \"text\": \"_test_identify_edits.py\", \"color\": \"#2E5EAA\", \"size\": 5.0}, {\"id\": \"_test_identify_file_renaming.py\", \"text\": \"_test_identify_file_renaming.py\", \"color\": \"#2E5EAA\", \"size\": 5.0}, {\"id\": \"_test_visualisation.py\", \"text\": \"_test_visualisation.py\", \"color\": \"#2E5EAA\", \"size\": 5.0}, {\"id\": \"visualisation.py\", \"text\": \"visualisation.py\", \"color\": \"#2E5EAA\", \"size\": 5.0}, {\"id\": \".gitmodules\", \"text\": \".gitmodules\", \"color\": \"#2E5EAA\", \"size\": 5.0}, {\"id\": \"TUTORIAL.ipynb\", \"text\": \"TUTORIAL.ipynb\", \"color\": \"#2E5EAA\", \"size\": 5.0}, {\"id\": \"n_4\", \"text\": \"n_4\", \"color\": \"#73D2DE\", \"size\": 5.0}, {\"id\": \".editorconfig\", \"text\": \".editorconfig\", \"color\": \"#2E5EAA\", \"size\": 5.0}, {\"id\": \".gitattributes\", \"text\": \".gitattributes\", \"color\": \"#2E5EAA\", \"size\": 5.0}, {\"id\": \"funding.yml\", \"text\": \"funding.yml\", \"color\": \"#2E5EAA\", \"size\": 5.0}, {\"id\": \"security.md\", \"text\": \"security.md\", \"color\": \"#2E5EAA\", \"size\": 5.0}, {\"id\": \".npmrc\", \"text\": \".npmrc\", \"color\": \"#2E5EAA\", \"size\": 5.0}, {\"id\": \".travis.yml\", \"text\": \".travis.yml\", \"color\": \"#2E5EAA\", \"size\": 5.0}, {\"id\": \"binary-extensions.json\", \"text\": \"binary-extensions.json\", \"color\": \"#2E5EAA\", \"size\": 5.0}, {\"id\": \"binary-extensions.json.d.ts\", \"text\": \"binary-extensions.json.d.ts\", \"color\": \"#2E5EAA\", \"size\": 5.0}, {\"id\": \"index.d.ts\", \"text\": \"index.d.ts\", \"color\": \"#2E5EAA\", \"size\": 5.0}, {\"id\": \"index.js\", \"text\": \"index.js\", \"color\": \"#2E5EAA\", \"size\": 5.0}, {\"id\": \"index.test-d.ts\", \"text\": \"index.test-d.ts\", \"color\": \"#2E5EAA\", \"size\": 5.0}, {\"id\": \"license\", \"text\": \"license\", \"color\": \"#2E5EAA\", \"size\": 5.0}, {\"id\": \"package.json\", \"text\": \"package.json\", \"color\": \"#2E5EAA\", \"size\": 5.0}, {\"id\": \"readme.md\", \"text\": \"readme.md\", \"color\": \"#2E5EAA\", \"size\": 5.0}, {\"id\": \"test.js\", \"text\": \"test.js\", \"color\": \"#2E5EAA\", \"size\": 5.0}, {\"id\": \"command_line.py\", \"text\": \"command_line.py\", \"color\": \"#2E5EAA\", \"size\": 5.0}, {\"id\": \"n_6\", \"text\": \"n_6\", \"color\": \"#73D2DE\", \"size\": 5.0}, {\"id\": \"n_5\", \"text\": \"n_5\", \"color\": \"#73D2DE\", \"size\": 5.0}, {\"id\": \"n_1\", \"text\": \"n_1\", \"color\": \"#73D2DE\", \"size\": 5.0}, {\"id\": \"disambiguation.py\", \"text\": \"disambiguation.py\", \"color\": \"#2E5EAA\", \"size\": 5.0}, {\"id\": \"pyproject.toml\", \"text\": \"pyproject.toml\", \"color\": \"#2E5EAA\", \"size\": 5.0}, {\"id\": \"setup.cfg\", \"text\": \"setup.cfg\", \"color\": \"#2E5EAA\", \"size\": 5.0}, {\"id\": \"n_0\", \"text\": \"n_0\", \"color\": \"#73D2DE\", \"size\": 5.0}, {\"id\": \"python-app.yml\", \"text\": \"python-app.yml\", \"color\": \"#2E5EAA\", \"size\": 5.0}, {\"id\": \"python-publish.yml\", \"text\": \"python-publish.yml\", \"color\": \"#2E5EAA\", \"size\": 5.0}, {\"id\": \"Makefile\", \"text\": \"Makefile\", \"color\": \"#2E5EAA\", \"size\": 5.0}, {\"id\": \"make.bat\", \"text\": \"make.bat\", \"color\": \"#2E5EAA\", \"size\": 5.0}, {\"id\": \"conf.py\", \"text\": \"conf.py\", \"color\": \"#2E5EAA\", \"size\": 5.0}, {\"id\": \"git2net.rst\", \"text\": \"git2net.rst\", \"color\": \"#2E5EAA\", \"size\": 5.0}, {\"id\": \"index.rst\", \"text\": \"index.rst\", \"color\": \"#2E5EAA\", \"size\": 5.0}, {\"id\": \"getting_started.rst\", \"text\": \"getting_started.rst\", \"color\": \"#2E5EAA\", \"size\": 5.0}, {\"id\": \"modules.rst\", \"text\": \"modules.rst\", \"color\": \"#2E5EAA\", \"size\": 5.0}, {\"id\": \"index.html\", \"text\": \"index.html\", \"color\": \"#2E5EAA\", \"size\": 5.0}, {\"id\": \"api_reference.rst\", \"text\": \"api_reference.rst\", \"color\": \"#2E5EAA\", \"size\": 5.0}, {\"id\": \"overview_installation.rst\", \"text\": \"overview_installation.rst\", \"color\": \"#2E5EAA\", \"size\": 5.0}, {\"id\": \"complexity.py\", \"text\": \"complexity.py\", \"color\": \"#2E5EAA\", \"size\": 5.0}, {\"id\": \"n_9\", \"text\": \"n_9\", \"color\": \"#73D2DE\", \"size\": 5.0}, {\"id\": \"n_8\", \"text\": \"n_8\", \"color\": \"#73D2DE\", \"size\": 5.0}, {\"id\": \"n_7\", \"text\": \"n_7\", \"color\": \"#73D2DE\", \"size\": 5.0}]};\n",
       "    var directed = true;\n",
       "\n",
       "    var simulation = d3.forceSimulation()        \n",
       "       .force(\"link\", d3.forceLink().id(function(d) { return d.id; }).strength(function(d){return d.weight;}))\n",
       "        .force(\"charge\", d3.forceManyBody().strength(-20).distanceMax(400))\n",
       "       .force(\"repelForce\", d3.forceManyBody().strength(-200).distanceMax(100))\n",
       "       .force(\"center\", d3.forceCenter(400 / 2, 400 / 2))\n",
       "       .alphaTarget(0.0);\n",
       "\n",
       "    svg.append(\"defs\").selectAll(\"marker\")\n",
       "        .data([\"end\"])\n",
       "    .enter().append(\"marker\")\n",
       "        .attr(\"id\", String)\n",
       "        .attr(\"viewBox\", \"0 -5 20 20\")\n",
       "        .attr(\"refX\", 34)\n",
       "        .attr(\"refY\", 0)\n",
       "        .attr(\"markerWidth\", 15)\n",
       "        .attr(\"markerHeight\", 15)\n",
       "        .attr(\"orient\", \"auto\")\n",
       "    .append(\"path\")\n",
       "        // draws a filled path (triangle) between three points\n",
       "        .attr(\"d\", \"M0,-5 L20,0 L0,5 z\")\n",
       "        .attr(\"fill\", '#999')\n",
       "        .attr(\"stroke\", 'none');\n",
       "\n",
       "    var g = svg.append(\"g\")\n",
       "        .attr(\"class\", \"everything\");\n",
       "\n",
       "    var link = g.append(\"g\")\n",
       "        .attr(\"class\", \"links_VDQYvaqW\")\n",
       "        .selectAll(\"line\")\n",
       "        .data(graph.links)\n",
       "        .enter().append(\"line\")\n",
       "        .attr(\"stroke-width\", function(d) { return d.width; })\n",
       "        .attr(\"stroke\", function(d) { return d.color; } );\n",
       "\n",
       "    if (directed)\n",
       "        link.attr(\"marker-end\", \"url(#end)\");\n",
       "\n",
       "    var node_g = g.append(\"g\")\n",
       "        .attr(\"class\", \"nodes_VDQYvaqW\")\n",
       "        .selectAll(\"circle\")\n",
       "        .data(graph.nodes)\n",
       "        .enter()\n",
       "        .append(\"g\"); \n",
       "\n",
       "    var node = node_g.append(\"circle\")\n",
       "        .attr('id', function(d) { return d.id; })\n",
       "        .attr(\"r\", function(d) { return d.size; })\n",
       "        .attr(\"fill\", function(d) { return d.color; })\n",
       "        .call(d3.drag()\n",
       "            .on(\"start\", dragstarted)\n",
       "            .on(\"drag\", dragged)\n",
       "            .on(\"end\", dragended));\n",
       "\n",
       "    var text = node_g.append(\"text\")\n",
       "    .attr(\"x\", [0, -10][0])\n",
       "    .attr(\"y\", [0, -10][1]+3)\n",
       "    .attr(\"id\", function(d) {return d.id; })\n",
       "    .attr(\"class\", \"label_VDQYvaqW\")\n",
       "    .text(function(d) { return d.id; });\n",
       "\n",
       "    node.append(\"title\")\n",
       "        .text(function(d) { return d.text; });\n",
       "\n",
       "    var zoom_handler = d3.zoom()\n",
       "        .on(\"zoom\", zoom_actions);\n",
       "    zoom_handler(svg);\n",
       "\n",
       "    // attach event handler for svg export\n",
       "    d3.select('#VDQYvaqW_svg_txt').on(\"click\", save_svg);\n",
       "\n",
       "    simulation\n",
       "        .nodes(graph.nodes)\n",
       "        .on(\"tick\", ticked);\n",
       "\n",
       "    simulation.force(\"link\")\n",
       "        .links(graph.links);\n",
       "\n",
       "    function ticked() {\n",
       "        link.attr(\"x1\", function(d) { return d.source.x; })\n",
       "            .attr(\"y1\", function(d) { return d.source.y; })\n",
       "            .attr(\"x2\", function(d) { return d.target.x; })\n",
       "            .attr(\"y2\", function(d) { return d.target.y; });\n",
       "\n",
       "         text.attr(\"transform\", transform);\n",
       "\n",
       "\n",
       "        text.attr(\"cx\", function(d) { return d.x; })\n",
       "            .attr(\"cy\", function(d) { return d.y; });\n",
       "\n",
       "        node.attr(\"cx\", function(d) { return d.x; })\n",
       "            .attr(\"cy\", function(d) { return d.y; });\n",
       "    }\n",
       "\n",
       "    function transform(d) {\n",
       "        return \"translate(\" + d.x + \",\" + d.y + \")\";\n",
       "    }\n",
       "\n",
       "    function dragstarted(d) {\n",
       "    if (!d3.event.active) simulation.alphaTarget(0.3).restart();\n",
       "    d.fx = d.x;\n",
       "    d.fy = d.y;\n",
       "    }\n",
       "\n",
       "    function zoom_actions(){\n",
       "        g.attr(\"transform\", d3.event.transform)\n",
       "    }    \n",
       "\n",
       "    function dragged(d) {\n",
       "    d.fx = d3.event.x;\n",
       "    d.fy = d3.event.y;\n",
       "    }\n",
       "\n",
       "    function dragended(d) {\n",
       "    if (!d3.event.active) simulation.alphaTarget(0);\n",
       "    d.fx = null;\n",
       "    d.fy = null;\n",
       "    }\n",
       "\n",
       "    function to_svg() {\n",
       "        // Returns a SVG representation of the current state of the visualisation\n",
       "\t    var svg  = document.getElementById('VDQYvaqW');\n",
       "\t    var xml = (new XMLSerializer).serializeToString(svg);\n",
       "        return xml;\n",
       "    }\n",
       "\n",
       "    function save_svg() {\n",
       "        var svg  = document.getElementById('VDQYvaqW');\n",
       "        var xml = (new XMLSerializer).serializeToString(svg);        \n",
       "        var blob = new Blob([xml], {type: 'text/xml'});\n",
       "        if(window.navigator.msSaveOrOpenBlob) {\n",
       "            window.navigator.msSaveBlob(blob, 'network.svg');\n",
       "        }\n",
       "        else{\n",
       "            var elem = window.document.createElement('a');\n",
       "            elem.href = window.URL.createObjectURL(blob);\n",
       "            elem.download = 'network.svg';\n",
       "            document.body.appendChild(elem);\n",
       "            elem.click();\n",
       "            document.body.removeChild(elem);\n",
       "        }\n",
       "    }\n",
       "});\n",
       "</script>"
      ],
      "text/plain": [
       "<IPython.core.display.HTML object>"
      ]
     },
     "metadata": {},
     "output_type": "display_data"
    }
   ],
   "source": [
    "colour_map = {'author': '#73D2DE', 'file': '#2E5EAA'}\n",
    "node_color = {node: colour_map[node_info['class'][node]] for node in n.nodes}\n",
    "pp.visualisation.plot(n, node_color=node_color)"
   ]
  },
  {
   "cell_type": "code",
   "execution_count": 6,
   "metadata": {},
   "outputs": [],
   "source": [
    "# node_info['class']"
   ]
  },
  {
   "cell_type": "code",
   "execution_count": 7,
   "metadata": {},
   "outputs": [],
   "source": [
    "# for node in n.nodes:\n",
    "#     print(node , '\\n\\n')"
   ]
  },
  {
   "cell_type": "code",
   "execution_count": 8,
   "metadata": {},
   "outputs": [
    {
     "data": {
      "text/html": [
       "<style>\n",
       "    text.label_baKOnFvK {\n",
       "        text-anchor: middle;\n",
       "        font-size: 8px;\n",
       "        font-family: Arial, Helvetica, sans-serif;\n",
       "        fill: #999999;\n",
       "        stroke: #ffffff;\n",
       "        stroke-width: 0.1px;\n",
       "        opacity: 1.0;\n",
       "    }\n",
       "    .links_baKOnFvK line {\n",
       "    stroke-opacity: 1.0;\n",
       "    }\n",
       "    .arrows svg:path {\n",
       "        stroke: #666;\n",
       "    }\n",
       "    .nodes_baKOnFvK circle {\n",
       "    stroke: #fff;\n",
       "    stroke-width: 0.5px;\n",
       "    }\n",
       "</style>\n",
       "\n",
       "<svg width=\"400\" height=\"400\" id=\"baKOnFvK\">        \n",
       "    <text x=\"20\" y=\"20\" font-family=\"sans-serif\" font-size=\"14px\" fill=\"#666\" style=\"cursor: pointer\"\n",
       "        id='baKOnFvK_svg_txt'>[save svg]</text>\n",
       "</svg>\n",
       "\n",
       "<script charset=\"utf-8\" src=\"https://d3js.org/d3.v4.min.js\"></script>\n",
       "<script charset=\"utf-8\">\n",
       "\n",
       "// Load via requireJS if available (jupyter notebook environment)\n",
       "try {\n",
       "    // Problem: require.config will raise an exception when called for the second time \n",
       "    require.config({\n",
       "        paths: {\n",
       "            //d3: \"https://d3js.org/d3.v4.min\"\n",
       "            d3: \"https://d3js.org/d3.v4.min.js\".replace(\".js\", \"\")\n",
       "        }\n",
       "    });\n",
       "    console.log(\"Detected requireJS\");\n",
       "}\n",
       "catch(err){\n",
       "    // a reference error indicates that requireJS does not exist. \n",
       "    // other errors may occur due to multiple calls to config\n",
       "    if (err instanceof ReferenceError){\n",
       "        console.log(\"Detected no requireJS\");\n",
       "\n",
       "        // Helper function that waits for d3js to be loaded\n",
       "        require = function require(symbols, callback) {\n",
       "            var ms = 5;\n",
       "            window.setTimeout(function(t) {\n",
       "                if (window[symbols[0]])\n",
       "                    callback(window[symbols[0]]);\n",
       "                else \n",
       "                    window.setTimeout(arguments.callee, ms);\n",
       "            }, ms);\n",
       "        }\n",
       "    }\n",
       "}\n",
       "\n",
       "// wait until d3js has been loaded\n",
       "require([\"d3\"], function(d3) {\n",
       "    var svg = d3.select(\"#\"+\"baKOnFvK\"), radius = 6, width = +svg.attr(\"width\"), height = +svg.attr(\"height\");\n",
       "\n",
       "    var color = d3.scaleOrdinal(d3.schemeCategory20);\n",
       "\n",
       "    var graph = {\"links\": [{\"source\": \"n_3\", \"target\": \"test.py\", \"color\": \"#999999\", \"width\": 0.5, \"weight\": 1.0}, {\"source\": \"n_3\", \"target\": \"pyce.py\", \"color\": \"#999999\", \"width\": 0.5, \"weight\": 0.3}, {\"source\": \"n_3\", \"target\": \"ignore\", \"color\": \"#999999\", \"width\": 0.5, \"weight\": 0.3333333333333333}, {\"source\": \"n_2\", \"target\": \"pyce.py\", \"color\": \"#999999\", \"width\": 0.5, \"weight\": 0.7272727272727273}, {\"source\": \"n_2\", \"target\": \"ignore\", \"color\": \"#999999\", \"width\": 0.5, \"weight\": 0.6666666666666666}, {\"source\": \"n_3\", \"target\": \"anonymize.py\", \"color\": \"#999999\", \"width\": 0.5, \"weight\": 0.5}, {\"source\": \"n_2\", \"target\": \"git2net.py\", \"color\": \"#999999\", \"width\": 0.5, \"weight\": 1.0}, {\"source\": \"n_2\", \"target\": \".gitignore\", \"color\": \"#999999\", \"width\": 0.5, \"weight\": 1.0}, {\"source\": \"n_2\", \"target\": \"test_visualisation.py\", \"color\": \"#999999\", \"width\": 0.5, \"weight\": 1.0}, {\"source\": \"n_2\", \"target\": \"test_extract_coedits.py\", \"color\": \"#999999\", \"width\": 0.5, \"weight\": 1.0}, {\"source\": \"n_2\", \"target\": \"test_git2net.py\", \"color\": \"#999999\", \"width\": 0.5, \"weight\": 1.0}, {\"source\": \"n_2\", \"target\": \"test_identify_edits.py\", \"color\": \"#999999\", \"width\": 0.5, \"weight\": 1.0}, {\"source\": \"n_2\", \"target\": \"test_extract_edits.py\", \"color\": \"#999999\", \"width\": 0.5, \"weight\": 1.0}, {\"source\": \"n_2\", \"target\": \"test_extract_editing_paths.py\", \"color\": \"#999999\", \"width\": 0.5, \"weight\": 1.0}, {\"source\": \"n_2\", \"target\": \"test_get_original_line_number.py\", \"color\": \"#999999\", \"width\": 0.5, \"weight\": 1.0}, {\"source\": \"n_2\", \"target\": \"get_previous_names.py\", \"color\": \"#999999\", \"width\": 0.5, \"weight\": 1.0}, {\"source\": \"n_2\", \"target\": \"test_get_unified_changes.py\", \"color\": \"#999999\", \"width\": 0.5, \"weight\": 1.0}, {\"source\": \"n_2\", \"target\": \"test_identify_file_renaming.py\", \"color\": \"#999999\", \"width\": 0.5, \"weight\": 1.0}, {\"source\": \"n_2\", \"target\": \"test_get_path_to_origin.py\", \"color\": \"#999999\", \"width\": 0.5, \"weight\": 1.0}, {\"source\": \"n_2\", \"target\": \"test_get_paths_to_origin.py\", \"color\": \"#999999\", \"width\": 0.5, \"weight\": 1.0}, {\"source\": \"n_2\", \"target\": \"get_original_line_number.md\", \"color\": \"#999999\", \"width\": 0.5, \"weight\": 1.0}, {\"source\": \"n_2\", \"target\": \"README.md\", \"color\": \"#999999\", \"width\": 0.5, \"weight\": 0.8}, {\"source\": \"n_2\", \"target\": \"__init__.py\", \"color\": \"#999999\", \"width\": 0.5, \"weight\": 1.0}, {\"source\": \"n_2\", \"target\": \"setup.py\", \"color\": \"#999999\", \"width\": 0.5, \"weight\": 1.0}, {\"source\": \"n_2\", \"target\": \"test_functions.py\", \"color\": \"#999999\", \"width\": 0.5, \"weight\": 1.0}, {\"source\": \"n_2\", \"target\": \"test_repo_1.zip\", \"color\": \"#999999\", \"width\": 0.5, \"weight\": 1.0}, {\"source\": \"n_2\", \"target\": \"anonymize.py\", \"color\": \"#999999\", \"width\": 0.5, \"weight\": 0.5}, {\"source\": \"n_2\", \"target\": \"requirements.txt\", \"color\": \"#999999\", \"width\": 0.5, \"weight\": 0.7777777777777778}, {\"source\": \"n_2\", \"target\": \"LICENSE.txt\", \"color\": \"#999999\", \"width\": 0.5, \"weight\": 1.0}, {\"source\": \"n_2\", \"target\": \"bug_report.md\", \"color\": \"#999999\", \"width\": 0.5, \"weight\": 1.0}, {\"source\": \"n_2\", \"target\": \"feature_request.md\", \"color\": \"#999999\", \"width\": 0.5, \"weight\": 1.0}, {\"source\": \"n_2\", \"target\": \"extraction.py\", \"color\": \"#999999\", \"width\": 0.5, \"weight\": 0.9411764705882353}, {\"source\": \"n_2\", \"target\": \"_test_extract_editing_paths.py\", \"color\": \"#999999\", \"width\": 0.5, \"weight\": 1.0}, {\"source\": \"n_2\", \"target\": \"_test_extract_edits.py\", \"color\": \"#999999\", \"width\": 0.5, \"weight\": 1.0}, {\"source\": \"n_2\", \"target\": \"_test_get_original_line_number.py\", \"color\": \"#999999\", \"width\": 0.5, \"weight\": 1.0}, {\"source\": \"n_2\", \"target\": \"_test_get_paths_to_origin.py\", \"color\": \"#999999\", \"width\": 0.5, \"weight\": 1.0}, {\"source\": \"n_2\", \"target\": \"_test_get_unified_changes.py\", \"color\": \"#999999\", \"width\": 0.5, \"weight\": 1.0}, {\"source\": \"n_2\", \"target\": \"_test_git2net.py\", \"color\": \"#999999\", \"width\": 0.5, \"weight\": 1.0}, {\"source\": \"n_2\", \"target\": \"_test_identify_edits.py\", \"color\": \"#999999\", \"width\": 0.5, \"weight\": 1.0}, {\"source\": \"n_2\", \"target\": \"_test_identify_file_renaming.py\", \"color\": \"#999999\", \"width\": 0.5, \"weight\": 1.0}, {\"source\": \"n_2\", \"target\": \"_test_visualisation.py\", \"color\": \"#999999\", \"width\": 0.5, \"weight\": 1.0}, {\"source\": \"n_2\", \"target\": \"visualisation.py\", \"color\": \"#999999\", \"width\": 0.5, \"weight\": 1.0}, {\"source\": \"n_2\", \"target\": \".gitmodules\", \"color\": \"#999999\", \"width\": 0.5, \"weight\": 1.0}, {\"source\": \"n_2\", \"target\": \"TUTORIAL.ipynb\", \"color\": \"#999999\", \"width\": 0.5, \"weight\": 0.8}, {\"source\": \"n_4\", \"target\": \"extraction.py\", \"color\": \"#999999\", \"width\": 0.5, \"weight\": 1.0}, {\"source\": \"n_2\", \"target\": \".editorconfig\", \"color\": \"#999999\", \"width\": 0.5, \"weight\": 1.0}, {\"source\": \"n_2\", \"target\": \".gitattributes\", \"color\": \"#999999\", \"width\": 0.5, \"weight\": 1.0}, {\"source\": \"n_2\", \"target\": \"funding.yml\", \"color\": \"#999999\", \"width\": 0.5, \"weight\": 1.0}, {\"source\": \"n_2\", \"target\": \"security.md\", \"color\": \"#999999\", \"width\": 0.5, \"weight\": 1.0}, {\"source\": \"n_2\", \"target\": \".npmrc\", \"color\": \"#999999\", \"width\": 0.5, \"weight\": 1.0}, {\"source\": \"n_2\", \"target\": \".travis.yml\", \"color\": \"#999999\", \"width\": 0.5, \"weight\": 1.0}, {\"source\": \"n_2\", \"target\": \"binary-extensions.json\", \"color\": \"#999999\", \"width\": 0.5, \"weight\": 1.0}, {\"source\": \"n_2\", \"target\": \"binary-extensions.json.d.ts\", \"color\": \"#999999\", \"width\": 0.5, \"weight\": 1.0}, {\"source\": \"n_2\", \"target\": \"index.d.ts\", \"color\": \"#999999\", \"width\": 0.5, \"weight\": 1.0}, {\"source\": \"n_2\", \"target\": \"index.js\", \"color\": \"#999999\", \"width\": 0.5, \"weight\": 1.0}, {\"source\": \"n_2\", \"target\": \"index.test-d.ts\", \"color\": \"#999999\", \"width\": 0.5, \"weight\": 1.0}, {\"source\": \"n_2\", \"target\": \"license\", \"color\": \"#999999\", \"width\": 0.5, \"weight\": 1.0}, {\"source\": \"n_2\", \"target\": \"package.json\", \"color\": \"#999999\", \"width\": 0.5, \"weight\": 1.0}, {\"source\": \"n_2\", \"target\": \"readme.md\", \"color\": \"#999999\", \"width\": 0.5, \"weight\": 1.0}, {\"source\": \"n_2\", \"target\": \"test.js\", \"color\": \"#999999\", \"width\": 0.5, \"weight\": 1.0}, {\"source\": \"n_2\", \"target\": \"command_line.py\", \"color\": \"#999999\", \"width\": 0.5, \"weight\": 0.9}, {\"source\": \"n_6\", \"target\": \"TUTORIAL.ipynb\", \"color\": \"#999999\", \"width\": 0.5, \"weight\": 1.0}, {\"source\": \"n_5\", \"target\": \"extraction.py\", \"color\": \"#999999\", \"width\": 0.5, \"weight\": 1.0}, {\"source\": \"n_1\", \"target\": \"command_line.py\", \"color\": \"#999999\", \"width\": 0.5, \"weight\": 1.0}, {\"source\": \"n_2\", \"target\": \"disambiguation.py\", \"color\": \"#999999\", \"width\": 0.5, \"weight\": 0.7142857142857143}, {\"source\": \"n_2\", \"target\": \"pyproject.toml\", \"color\": \"#999999\", \"width\": 0.5, \"weight\": 1.0}, {\"source\": \"n_2\", \"target\": \"setup.cfg\", \"color\": \"#999999\", \"width\": 0.5, \"weight\": 1.0}, {\"source\": \"n_0\", \"target\": \"README.md\", \"color\": \"#999999\", \"width\": 0.5, \"weight\": 0.45454545454545453}, {\"source\": \"n_0\", \"target\": \"requirements.txt\", \"color\": \"#999999\", \"width\": 0.5, \"weight\": 0.36363636363636365}, {\"source\": \"n_0\", \"target\": \"TUTORIAL.ipynb\", \"color\": \"#999999\", \"width\": 0.5, \"weight\": 0.18181818181818182}, {\"source\": \"n_2\", \"target\": \"python-app.yml\", \"color\": \"#999999\", \"width\": 0.5, \"weight\": 1.0}, {\"source\": \"n_2\", \"target\": \"python-publish.yml\", \"color\": \"#999999\", \"width\": 0.5, \"weight\": 1.0}, {\"source\": \"n_2\", \"target\": \"Makefile\", \"color\": \"#999999\", \"width\": 0.5, \"weight\": 1.0}, {\"source\": \"n_2\", \"target\": \"make.bat\", \"color\": \"#999999\", \"width\": 0.5, \"weight\": 1.0}, {\"source\": \"n_2\", \"target\": \"conf.py\", \"color\": \"#999999\", \"width\": 0.5, \"weight\": 1.0}, {\"source\": \"n_2\", \"target\": \"git2net.rst\", \"color\": \"#999999\", \"width\": 0.5, \"weight\": 1.0}, {\"source\": \"n_2\", \"target\": \"index.rst\", \"color\": \"#999999\", \"width\": 0.5, \"weight\": 1.0}, {\"source\": \"n_2\", \"target\": \"getting_started.rst\", \"color\": \"#999999\", \"width\": 0.5, \"weight\": 1.0}, {\"source\": \"n_2\", \"target\": \"modules.rst\", \"color\": \"#999999\", \"width\": 0.5, \"weight\": 1.0}, {\"source\": \"n_2\", \"target\": \"index.html\", \"color\": \"#999999\", \"width\": 0.5, \"weight\": 1.0}, {\"source\": \"n_2\", \"target\": \"api_reference.rst\", \"color\": \"#999999\", \"width\": 0.5, \"weight\": 1.0}, {\"source\": \"n_2\", \"target\": \"overview_installation.rst\", \"color\": \"#999999\", \"width\": 0.5, \"weight\": 1.0}, {\"source\": \"n_2\", \"target\": \"complexity.py\", \"color\": \"#999999\", \"width\": 0.5, \"weight\": 1.0}, {\"source\": \"n_9\", \"target\": \"extraction.py\", \"color\": \"#999999\", \"width\": 0.5, \"weight\": 1.0}, {\"source\": \"n_8\", \"target\": \"extraction.py\", \"color\": \"#999999\", \"width\": 0.5, \"weight\": 1.0}, {\"source\": \"n_7\", \"target\": \"extraction.py\", \"color\": \"#999999\", \"width\": 0.5, \"weight\": 0.5}, {\"source\": \"n_7\", \"target\": \"disambiguation.py\", \"color\": \"#999999\", \"width\": 0.5, \"weight\": 0.5}], \"nodes\": [{\"id\": \"n_3\", \"text\": \"n_3\", \"color\": \"#73D2DE\", \"size\": 5.0}, {\"id\": \"test.py\", \"text\": \"test.py\", \"color\": \"#2E5EAA\", \"size\": 5.0}, {\"id\": \"pyce.py\", \"text\": \"pyce.py\", \"color\": \"#2E5EAA\", \"size\": 5.0}, {\"id\": \"ignore\", \"text\": \"ignore\", \"color\": \"#2E5EAA\", \"size\": 5.0}, {\"id\": \"n_2\", \"text\": \"n_2\", \"color\": \"#73D2DE\", \"size\": 5.0}, {\"id\": \"anonymize.py\", \"text\": \"anonymize.py\", \"color\": \"#2E5EAA\", \"size\": 5.0}, {\"id\": \"git2net.py\", \"text\": \"git2net.py\", \"color\": \"#2E5EAA\", \"size\": 5.0}, {\"id\": \".gitignore\", \"text\": \".gitignore\", \"color\": \"#2E5EAA\", \"size\": 5.0}, {\"id\": \"test_visualisation.py\", \"text\": \"test_visualisation.py\", \"color\": \"#2E5EAA\", \"size\": 5.0}, {\"id\": \"test_extract_coedits.py\", \"text\": \"test_extract_coedits.py\", \"color\": \"#2E5EAA\", \"size\": 5.0}, {\"id\": \"test_git2net.py\", \"text\": \"test_git2net.py\", \"color\": \"#2E5EAA\", \"size\": 5.0}, {\"id\": \"test_identify_edits.py\", \"text\": \"test_identify_edits.py\", \"color\": \"#2E5EAA\", \"size\": 5.0}, {\"id\": \"test_extract_edits.py\", \"text\": \"test_extract_edits.py\", \"color\": \"#2E5EAA\", \"size\": 5.0}, {\"id\": \"test_extract_editing_paths.py\", \"text\": \"test_extract_editing_paths.py\", \"color\": \"#2E5EAA\", \"size\": 5.0}, {\"id\": \"test_get_original_line_number.py\", \"text\": \"test_get_original_line_number.py\", \"color\": \"#2E5EAA\", \"size\": 5.0}, {\"id\": \"get_previous_names.py\", \"text\": \"get_previous_names.py\", \"color\": \"#2E5EAA\", \"size\": 5.0}, {\"id\": \"test_get_unified_changes.py\", \"text\": \"test_get_unified_changes.py\", \"color\": \"#2E5EAA\", \"size\": 5.0}, {\"id\": \"test_identify_file_renaming.py\", \"text\": \"test_identify_file_renaming.py\", \"color\": \"#2E5EAA\", \"size\": 5.0}, {\"id\": \"test_get_path_to_origin.py\", \"text\": \"test_get_path_to_origin.py\", \"color\": \"#2E5EAA\", \"size\": 5.0}, {\"id\": \"test_get_paths_to_origin.py\", \"text\": \"test_get_paths_to_origin.py\", \"color\": \"#2E5EAA\", \"size\": 5.0}, {\"id\": \"get_original_line_number.md\", \"text\": \"get_original_line_number.md\", \"color\": \"#2E5EAA\", \"size\": 5.0}, {\"id\": \"README.md\", \"text\": \"README.md\", \"color\": \"#2E5EAA\", \"size\": 5.0}, {\"id\": \"__init__.py\", \"text\": \"__init__.py\", \"color\": \"#2E5EAA\", \"size\": 5.0}, {\"id\": \"setup.py\", \"text\": \"setup.py\", \"color\": \"#2E5EAA\", \"size\": 5.0}, {\"id\": \"test_functions.py\", \"text\": \"test_functions.py\", \"color\": \"#2E5EAA\", \"size\": 5.0}, {\"id\": \"test_repo_1.zip\", \"text\": \"test_repo_1.zip\", \"color\": \"#2E5EAA\", \"size\": 5.0}, {\"id\": \"requirements.txt\", \"text\": \"requirements.txt\", \"color\": \"#2E5EAA\", \"size\": 5.0}, {\"id\": \"LICENSE.txt\", \"text\": \"LICENSE.txt\", \"color\": \"#2E5EAA\", \"size\": 5.0}, {\"id\": \"bug_report.md\", \"text\": \"bug_report.md\", \"color\": \"#2E5EAA\", \"size\": 5.0}, {\"id\": \"feature_request.md\", \"text\": \"feature_request.md\", \"color\": \"#2E5EAA\", \"size\": 5.0}, {\"id\": \"extraction.py\", \"text\": \"extraction.py\", \"color\": \"#2E5EAA\", \"size\": 5.0}, {\"id\": \"_test_extract_editing_paths.py\", \"text\": \"_test_extract_editing_paths.py\", \"color\": \"#2E5EAA\", \"size\": 5.0}, {\"id\": \"_test_extract_edits.py\", \"text\": \"_test_extract_edits.py\", \"color\": \"#2E5EAA\", \"size\": 5.0}, {\"id\": \"_test_get_original_line_number.py\", \"text\": \"_test_get_original_line_number.py\", \"color\": \"#2E5EAA\", \"size\": 5.0}, {\"id\": \"_test_get_paths_to_origin.py\", \"text\": \"_test_get_paths_to_origin.py\", \"color\": \"#2E5EAA\", \"size\": 5.0}, {\"id\": \"_test_get_unified_changes.py\", \"text\": \"_test_get_unified_changes.py\", \"color\": \"#2E5EAA\", \"size\": 5.0}, {\"id\": \"_test_git2net.py\", \"text\": \"_test_git2net.py\", \"color\": \"#2E5EAA\", \"size\": 5.0}, {\"id\": \"_test_identify_edits.py\", \"text\": \"_test_identify_edits.py\", \"color\": \"#2E5EAA\", \"size\": 5.0}, {\"id\": \"_test_identify_file_renaming.py\", \"text\": \"_test_identify_file_renaming.py\", \"color\": \"#2E5EAA\", \"size\": 5.0}, {\"id\": \"_test_visualisation.py\", \"text\": \"_test_visualisation.py\", \"color\": \"#2E5EAA\", \"size\": 5.0}, {\"id\": \"visualisation.py\", \"text\": \"visualisation.py\", \"color\": \"#2E5EAA\", \"size\": 5.0}, {\"id\": \".gitmodules\", \"text\": \".gitmodules\", \"color\": \"#2E5EAA\", \"size\": 5.0}, {\"id\": \"TUTORIAL.ipynb\", \"text\": \"TUTORIAL.ipynb\", \"color\": \"#2E5EAA\", \"size\": 5.0}, {\"id\": \"n_4\", \"text\": \"n_4\", \"color\": \"#73D2DE\", \"size\": 5.0}, {\"id\": \".editorconfig\", \"text\": \".editorconfig\", \"color\": \"#2E5EAA\", \"size\": 5.0}, {\"id\": \".gitattributes\", \"text\": \".gitattributes\", \"color\": \"#2E5EAA\", \"size\": 5.0}, {\"id\": \"funding.yml\", \"text\": \"funding.yml\", \"color\": \"#2E5EAA\", \"size\": 5.0}, {\"id\": \"security.md\", \"text\": \"security.md\", \"color\": \"#2E5EAA\", \"size\": 5.0}, {\"id\": \".npmrc\", \"text\": \".npmrc\", \"color\": \"#2E5EAA\", \"size\": 5.0}, {\"id\": \".travis.yml\", \"text\": \".travis.yml\", \"color\": \"#2E5EAA\", \"size\": 5.0}, {\"id\": \"binary-extensions.json\", \"text\": \"binary-extensions.json\", \"color\": \"#2E5EAA\", \"size\": 5.0}, {\"id\": \"binary-extensions.json.d.ts\", \"text\": \"binary-extensions.json.d.ts\", \"color\": \"#2E5EAA\", \"size\": 5.0}, {\"id\": \"index.d.ts\", \"text\": \"index.d.ts\", \"color\": \"#2E5EAA\", \"size\": 5.0}, {\"id\": \"index.js\", \"text\": \"index.js\", \"color\": \"#2E5EAA\", \"size\": 5.0}, {\"id\": \"index.test-d.ts\", \"text\": \"index.test-d.ts\", \"color\": \"#2E5EAA\", \"size\": 5.0}, {\"id\": \"license\", \"text\": \"license\", \"color\": \"#2E5EAA\", \"size\": 5.0}, {\"id\": \"package.json\", \"text\": \"package.json\", \"color\": \"#2E5EAA\", \"size\": 5.0}, {\"id\": \"readme.md\", \"text\": \"readme.md\", \"color\": \"#2E5EAA\", \"size\": 5.0}, {\"id\": \"test.js\", \"text\": \"test.js\", \"color\": \"#2E5EAA\", \"size\": 5.0}, {\"id\": \"command_line.py\", \"text\": \"command_line.py\", \"color\": \"#2E5EAA\", \"size\": 5.0}, {\"id\": \"n_6\", \"text\": \"n_6\", \"color\": \"#73D2DE\", \"size\": 5.0}, {\"id\": \"n_5\", \"text\": \"n_5\", \"color\": \"#73D2DE\", \"size\": 5.0}, {\"id\": \"n_1\", \"text\": \"n_1\", \"color\": \"#73D2DE\", \"size\": 5.0}, {\"id\": \"disambiguation.py\", \"text\": \"disambiguation.py\", \"color\": \"#2E5EAA\", \"size\": 5.0}, {\"id\": \"pyproject.toml\", \"text\": \"pyproject.toml\", \"color\": \"#2E5EAA\", \"size\": 5.0}, {\"id\": \"setup.cfg\", \"text\": \"setup.cfg\", \"color\": \"#2E5EAA\", \"size\": 5.0}, {\"id\": \"n_0\", \"text\": \"n_0\", \"color\": \"#73D2DE\", \"size\": 5.0}, {\"id\": \"python-app.yml\", \"text\": \"python-app.yml\", \"color\": \"#2E5EAA\", \"size\": 5.0}, {\"id\": \"python-publish.yml\", \"text\": \"python-publish.yml\", \"color\": \"#2E5EAA\", \"size\": 5.0}, {\"id\": \"Makefile\", \"text\": \"Makefile\", \"color\": \"#2E5EAA\", \"size\": 5.0}, {\"id\": \"make.bat\", \"text\": \"make.bat\", \"color\": \"#2E5EAA\", \"size\": 5.0}, {\"id\": \"conf.py\", \"text\": \"conf.py\", \"color\": \"#2E5EAA\", \"size\": 5.0}, {\"id\": \"git2net.rst\", \"text\": \"git2net.rst\", \"color\": \"#2E5EAA\", \"size\": 5.0}, {\"id\": \"index.rst\", \"text\": \"index.rst\", \"color\": \"#2E5EAA\", \"size\": 5.0}, {\"id\": \"getting_started.rst\", \"text\": \"getting_started.rst\", \"color\": \"#2E5EAA\", \"size\": 5.0}, {\"id\": \"modules.rst\", \"text\": \"modules.rst\", \"color\": \"#2E5EAA\", \"size\": 5.0}, {\"id\": \"index.html\", \"text\": \"index.html\", \"color\": \"#2E5EAA\", \"size\": 5.0}, {\"id\": \"api_reference.rst\", \"text\": \"api_reference.rst\", \"color\": \"#2E5EAA\", \"size\": 5.0}, {\"id\": \"overview_installation.rst\", \"text\": \"overview_installation.rst\", \"color\": \"#2E5EAA\", \"size\": 5.0}, {\"id\": \"complexity.py\", \"text\": \"complexity.py\", \"color\": \"#2E5EAA\", \"size\": 5.0}, {\"id\": \"n_9\", \"text\": \"n_9\", \"color\": \"#73D2DE\", \"size\": 5.0}, {\"id\": \"n_8\", \"text\": \"n_8\", \"color\": \"#73D2DE\", \"size\": 5.0}, {\"id\": \"n_7\", \"text\": \"n_7\", \"color\": \"#73D2DE\", \"size\": 5.0}]};\n",
       "    var directed = true;\n",
       "\n",
       "    var simulation = d3.forceSimulation()        \n",
       "       .force(\"link\", d3.forceLink().id(function(d) { return d.id; }).strength(function(d){return d.weight;}))\n",
       "        .force(\"charge\", d3.forceManyBody().strength(-20).distanceMax(400))\n",
       "       .force(\"repelForce\", d3.forceManyBody().strength(-200).distanceMax(100))\n",
       "       .force(\"center\", d3.forceCenter(400 / 2, 400 / 2))\n",
       "       .alphaTarget(0.0);\n",
       "\n",
       "    svg.append(\"defs\").selectAll(\"marker\")\n",
       "        .data([\"end\"])\n",
       "    .enter().append(\"marker\")\n",
       "        .attr(\"id\", String)\n",
       "        .attr(\"viewBox\", \"0 -5 20 20\")\n",
       "        .attr(\"refX\", 34)\n",
       "        .attr(\"refY\", 0)\n",
       "        .attr(\"markerWidth\", 15)\n",
       "        .attr(\"markerHeight\", 15)\n",
       "        .attr(\"orient\", \"auto\")\n",
       "    .append(\"path\")\n",
       "        // draws a filled path (triangle) between three points\n",
       "        .attr(\"d\", \"M0,-5 L20,0 L0,5 z\")\n",
       "        .attr(\"fill\", '#999')\n",
       "        .attr(\"stroke\", 'none');\n",
       "\n",
       "    var g = svg.append(\"g\")\n",
       "        .attr(\"class\", \"everything\");\n",
       "\n",
       "    var link = g.append(\"g\")\n",
       "        .attr(\"class\", \"links_baKOnFvK\")\n",
       "        .selectAll(\"line\")\n",
       "        .data(graph.links)\n",
       "        .enter().append(\"line\")\n",
       "        .attr(\"stroke-width\", function(d) { return d.width; })\n",
       "        .attr(\"stroke\", function(d) { return d.color; } );\n",
       "\n",
       "    if (directed)\n",
       "        link.attr(\"marker-end\", \"url(#end)\");\n",
       "\n",
       "    var node_g = g.append(\"g\")\n",
       "        .attr(\"class\", \"nodes_baKOnFvK\")\n",
       "        .selectAll(\"circle\")\n",
       "        .data(graph.nodes)\n",
       "        .enter()\n",
       "        .append(\"g\"); \n",
       "\n",
       "    var node = node_g.append(\"circle\")\n",
       "        .attr('id', function(d) { return d.id; })\n",
       "        .attr(\"r\", function(d) { return d.size; })\n",
       "        .attr(\"fill\", function(d) { return d.color; })\n",
       "        .call(d3.drag()\n",
       "            .on(\"start\", dragstarted)\n",
       "            .on(\"drag\", dragged)\n",
       "            .on(\"end\", dragended));\n",
       "\n",
       "    var text = node_g.append(\"text\")\n",
       "    .attr(\"x\", [0, -10][0])\n",
       "    .attr(\"y\", [0, -10][1]+3)\n",
       "    .attr(\"id\", function(d) {return d.id; })\n",
       "    .attr(\"class\", \"label_baKOnFvK\")\n",
       "    .text(function(d) { return d.id; });\n",
       "\n",
       "    node.append(\"title\")\n",
       "        .text(function(d) { return d.text; });\n",
       "\n",
       "    var zoom_handler = d3.zoom()\n",
       "        .on(\"zoom\", zoom_actions);\n",
       "    zoom_handler(svg);\n",
       "\n",
       "    // attach event handler for svg export\n",
       "    d3.select('#baKOnFvK_svg_txt').on(\"click\", save_svg);\n",
       "\n",
       "    simulation\n",
       "        .nodes(graph.nodes)\n",
       "        .on(\"tick\", ticked);\n",
       "\n",
       "    simulation.force(\"link\")\n",
       "        .links(graph.links);\n",
       "\n",
       "    function ticked() {\n",
       "        link.attr(\"x1\", function(d) { return d.source.x; })\n",
       "            .attr(\"y1\", function(d) { return d.source.y; })\n",
       "            .attr(\"x2\", function(d) { return d.target.x; })\n",
       "            .attr(\"y2\", function(d) { return d.target.y; });\n",
       "\n",
       "         text.attr(\"transform\", transform);\n",
       "\n",
       "\n",
       "        text.attr(\"cx\", function(d) { return d.x; })\n",
       "            .attr(\"cy\", function(d) { return d.y; });\n",
       "\n",
       "        node.attr(\"cx\", function(d) { return d.x; })\n",
       "            .attr(\"cy\", function(d) { return d.y; });\n",
       "    }\n",
       "\n",
       "    function transform(d) {\n",
       "        return \"translate(\" + d.x + \",\" + d.y + \")\";\n",
       "    }\n",
       "\n",
       "    function dragstarted(d) {\n",
       "    if (!d3.event.active) simulation.alphaTarget(0.3).restart();\n",
       "    d.fx = d.x;\n",
       "    d.fy = d.y;\n",
       "    }\n",
       "\n",
       "    function zoom_actions(){\n",
       "        g.attr(\"transform\", d3.event.transform)\n",
       "    }    \n",
       "\n",
       "    function dragged(d) {\n",
       "    d.fx = d3.event.x;\n",
       "    d.fy = d3.event.y;\n",
       "    }\n",
       "\n",
       "    function dragended(d) {\n",
       "    if (!d3.event.active) simulation.alphaTarget(0);\n",
       "    d.fx = null;\n",
       "    d.fy = null;\n",
       "    }\n",
       "\n",
       "    function to_svg() {\n",
       "        // Returns a SVG representation of the current state of the visualisation\n",
       "\t    var svg  = document.getElementById('baKOnFvK');\n",
       "\t    var xml = (new XMLSerializer).serializeToString(svg);\n",
       "        return xml;\n",
       "    }\n",
       "\n",
       "    function save_svg() {\n",
       "        var svg  = document.getElementById('baKOnFvK');\n",
       "        var xml = (new XMLSerializer).serializeToString(svg);        \n",
       "        var blob = new Blob([xml], {type: 'text/xml'});\n",
       "        if(window.navigator.msSaveOrOpenBlob) {\n",
       "            window.navigator.msSaveBlob(blob, 'network.svg');\n",
       "        }\n",
       "        else{\n",
       "            var elem = window.document.createElement('a');\n",
       "            elem.href = window.URL.createObjectURL(blob);\n",
       "            elem.download = 'network.svg';\n",
       "            document.body.appendChild(elem);\n",
       "            elem.click();\n",
       "            document.body.removeChild(elem);\n",
       "        }\n",
       "    }\n",
       "});\n",
       "</script>"
      ],
      "text/plain": [
       "<IPython.core.display.HTML object>"
      ]
     },
     "metadata": {},
     "output_type": "display_data"
    }
   ],
   "source": [
    "\n",
    "colour_map = {'author': '#73D2DE', 'file': '#2E5EAA'}\n",
    "node_color = {node: colour_map[node_info['class'][node]] for node in n.nodes}\n",
    "pp.visualisation.plot(n, node_color=node_color)\n",
    "\n"
   ]
  },
  {
   "cell_type": "code",
   "execution_count": 9,
   "metadata": {},
   "outputs": [
    {
     "name": "stdout",
     "output_type": "stream",
     "text": [
      "{(3, 'test.py'): {'weight': 4.0}, (3, 'pyce.py'): {'weight': 3.0}, (3, 'ignore'): {'weight': 1.0}, (2, 'pyce.py'): {'weight': 8.0}, (2, 'ignore'): {'weight': 2.0}, (3, 'anonymize.py'): {'weight': 2.0}, (2, 'git2net.py'): {'weight': 59.0}, (2, '.gitignore'): {'weight': 11.0}, (2, 'test_visualisation.py'): {'weight': 2.0}, (2, 'test_extract_coedits.py'): {'weight': 1.0}, (2, 'test_git2net.py'): {'weight': 10.0}, (2, 'test_identify_edits.py'): {'weight': 1.0}, (2, 'test_extract_edits.py'): {'weight': 2.0}, (2, 'test_extract_editing_paths.py'): {'weight': 7.0}, (2, 'test_get_original_line_number.py'): {'weight': 6.0}, (2, 'get_previous_names.py'): {'weight': 2.0}, (2, 'test_get_unified_changes.py'): {'weight': 1.0}, (2, 'test_identify_file_renaming.py'): {'weight': 1.0}, (2, 'test_get_path_to_origin.py'): {'weight': 2.0}, (2, 'test_get_paths_to_origin.py'): {'weight': 2.0}, (2, 'get_original_line_number.md'): {'weight': 2.0}, (2, 'README.md'): {'weight': 20.0}, (2, '__init__.py'): {'weight': 53.0}, (2, 'setup.py'): {'weight': 9.0}, (2, 'test_functions.py'): {'weight': 26.0}, (2, 'test_repo_1.zip'): {'weight': 5.0}, (2, 'anonymize.py'): {'weight': 2.0}, (2, 'requirements.txt'): {'weight': 14.0}, (2, 'LICENSE.txt'): {'weight': 3.0}, (2, 'bug_report.md'): {'weight': 3.0}, (2, 'feature_request.md'): {'weight': 3.0}, (2, 'extraction.py'): {'weight': 96.0}, (2, '_test_extract_editing_paths.py'): {'weight': 2.0}, (2, '_test_extract_edits.py'): {'weight': 2.0}, (2, '_test_get_original_line_number.py'): {'weight': 2.0}, (2, '_test_get_paths_to_origin.py'): {'weight': 2.0}, (2, '_test_get_unified_changes.py'): {'weight': 2.0}, (2, '_test_git2net.py'): {'weight': 2.0}, (2, '_test_identify_edits.py'): {'weight': 2.0}, (2, '_test_identify_file_renaming.py'): {'weight': 2.0}, (2, '_test_visualisation.py'): {'weight': 2.0}, (2, 'visualisation.py'): {'weight': 27.0}, (2, '.gitmodules'): {'weight': 1.0}, (2, 'TUTORIAL.ipynb'): {'weight': 16.0}, (4, 'extraction.py'): {'weight': 1.0}, (2, '.editorconfig'): {'weight': 1.0}, (2, '.gitattributes'): {'weight': 1.0}, (2, 'funding.yml'): {'weight': 1.0}, (2, 'security.md'): {'weight': 1.0}, (2, '.npmrc'): {'weight': 1.0}, (2, '.travis.yml'): {'weight': 1.0}, (2, 'binary-extensions.json'): {'weight': 1.0}, (2, 'binary-extensions.json.d.ts'): {'weight': 1.0}, (2, 'index.d.ts'): {'weight': 1.0}, (2, 'index.js'): {'weight': 1.0}, (2, 'index.test-d.ts'): {'weight': 1.0}, (2, 'license'): {'weight': 1.0}, (2, 'package.json'): {'weight': 1.0}, (2, 'readme.md'): {'weight': 1.0}, (2, 'test.js'): {'weight': 1.0}, (2, 'command_line.py'): {'weight': 9.0}, (6, 'TUTORIAL.ipynb'): {'weight': 2.0}, (5, 'extraction.py'): {'weight': 1.0}, (1, 'command_line.py'): {'weight': 1.0}, (2, 'disambiguation.py'): {'weight': 5.0}, (2, 'pyproject.toml'): {'weight': 1.0}, (2, 'setup.cfg'): {'weight': 15.0}, (0, 'README.md'): {'weight': 5.0}, (0, 'requirements.txt'): {'weight': 4.0}, (0, 'TUTORIAL.ipynb'): {'weight': 2.0}, (2, 'python-app.yml'): {'weight': 5.0}, (2, 'python-publish.yml'): {'weight': 2.0}, (2, 'Makefile'): {'weight': 1.0}, (2, 'make.bat'): {'weight': 1.0}, (2, 'conf.py'): {'weight': 3.0}, (2, 'git2net.rst'): {'weight': 6.0}, (2, 'index.rst'): {'weight': 2.0}, (2, 'getting_started.rst'): {'weight': 4.0}, (2, 'modules.rst'): {'weight': 5.0}, (2, 'index.html'): {'weight': 2.0}, (2, 'api_reference.rst'): {'weight': 2.0}, (2, 'overview_installation.rst'): {'weight': 1.0}, (2, 'complexity.py'): {'weight': 3.0}, (9, 'extraction.py'): {'weight': 1.0}, (8, 'extraction.py'): {'weight': 1.0}, (7, 'extraction.py'): {'weight': 2.0}, (7, 'disambiguation.py'): {'weight': 2.0}}\n"
     ]
    }
   ],
   "source": [
    "print(dict(n.edges))"
   ]
  },
  {
   "cell_type": "code",
   "execution_count": 10,
   "metadata": {
    "scrolled": true
   },
   "outputs": [
    {
     "name": "stdout",
     "output_type": "stream",
     "text": [
      "{3: {'inweight': 0.0, 'outweight': 10.0, 'indegree': 0, 'outdegree': 4}, 'test.py': {'inweight': 4.0, 'outweight': 0.0, 'indegree': 1, 'outdegree': 0}, 'pyce.py': {'inweight': 11.0, 'outweight': 0.0, 'indegree': 2, 'outdegree': 0}, 'ignore': {'inweight': 3.0, 'outweight': 0.0, 'indegree': 2, 'outdegree': 0}, 2: {'inweight': 0.0, 'outweight': 497.0, 'indegree': 0, 'outdegree': 72}, 'anonymize.py': {'inweight': 4.0, 'outweight': 0.0, 'indegree': 2, 'outdegree': 0}, 'git2net.py': {'inweight': 59.0, 'outweight': 0.0, 'indegree': 1, 'outdegree': 0}, '.gitignore': {'inweight': 11.0, 'outweight': 0.0, 'indegree': 1, 'outdegree': 0}, 'test_visualisation.py': {'inweight': 2.0, 'outweight': 0.0, 'indegree': 1, 'outdegree': 0}, 'test_extract_coedits.py': {'inweight': 1.0, 'outweight': 0.0, 'indegree': 1, 'outdegree': 0}, 'test_git2net.py': {'inweight': 10.0, 'outweight': 0.0, 'indegree': 1, 'outdegree': 0}, 'test_identify_edits.py': {'inweight': 1.0, 'outweight': 0.0, 'indegree': 1, 'outdegree': 0}, 'test_extract_edits.py': {'inweight': 2.0, 'outweight': 0.0, 'indegree': 1, 'outdegree': 0}, 'test_extract_editing_paths.py': {'inweight': 7.0, 'outweight': 0.0, 'indegree': 1, 'outdegree': 0}, 'test_get_original_line_number.py': {'inweight': 6.0, 'outweight': 0.0, 'indegree': 1, 'outdegree': 0}, 'get_previous_names.py': {'inweight': 2.0, 'outweight': 0.0, 'indegree': 1, 'outdegree': 0}, 'test_get_unified_changes.py': {'inweight': 1.0, 'outweight': 0.0, 'indegree': 1, 'outdegree': 0}, 'test_identify_file_renaming.py': {'inweight': 1.0, 'outweight': 0.0, 'indegree': 1, 'outdegree': 0}, 'test_get_path_to_origin.py': {'inweight': 2.0, 'outweight': 0.0, 'indegree': 1, 'outdegree': 0}, 'test_get_paths_to_origin.py': {'inweight': 2.0, 'outweight': 0.0, 'indegree': 1, 'outdegree': 0}, 'get_original_line_number.md': {'inweight': 2.0, 'outweight': 0.0, 'indegree': 1, 'outdegree': 0}, 'README.md': {'inweight': 25.0, 'outweight': 0.0, 'indegree': 2, 'outdegree': 0}, '__init__.py': {'inweight': 53.0, 'outweight': 0.0, 'indegree': 1, 'outdegree': 0}, 'setup.py': {'inweight': 9.0, 'outweight': 0.0, 'indegree': 1, 'outdegree': 0}, 'test_functions.py': {'inweight': 26.0, 'outweight': 0.0, 'indegree': 1, 'outdegree': 0}, 'test_repo_1.zip': {'inweight': 5.0, 'outweight': 0.0, 'indegree': 1, 'outdegree': 0}, 'requirements.txt': {'inweight': 18.0, 'outweight': 0.0, 'indegree': 2, 'outdegree': 0}, 'LICENSE.txt': {'inweight': 3.0, 'outweight': 0.0, 'indegree': 1, 'outdegree': 0}, 'bug_report.md': {'inweight': 3.0, 'outweight': 0.0, 'indegree': 1, 'outdegree': 0}, 'feature_request.md': {'inweight': 3.0, 'outweight': 0.0, 'indegree': 1, 'outdegree': 0}, 'extraction.py': {'inweight': 102.0, 'outweight': 0.0, 'indegree': 6, 'outdegree': 0}, '_test_extract_editing_paths.py': {'inweight': 2.0, 'outweight': 0.0, 'indegree': 1, 'outdegree': 0}, '_test_extract_edits.py': {'inweight': 2.0, 'outweight': 0.0, 'indegree': 1, 'outdegree': 0}, '_test_get_original_line_number.py': {'inweight': 2.0, 'outweight': 0.0, 'indegree': 1, 'outdegree': 0}, '_test_get_paths_to_origin.py': {'inweight': 2.0, 'outweight': 0.0, 'indegree': 1, 'outdegree': 0}, '_test_get_unified_changes.py': {'inweight': 2.0, 'outweight': 0.0, 'indegree': 1, 'outdegree': 0}, '_test_git2net.py': {'inweight': 2.0, 'outweight': 0.0, 'indegree': 1, 'outdegree': 0}, '_test_identify_edits.py': {'inweight': 2.0, 'outweight': 0.0, 'indegree': 1, 'outdegree': 0}, '_test_identify_file_renaming.py': {'inweight': 2.0, 'outweight': 0.0, 'indegree': 1, 'outdegree': 0}, '_test_visualisation.py': {'inweight': 2.0, 'outweight': 0.0, 'indegree': 1, 'outdegree': 0}, 'visualisation.py': {'inweight': 27.0, 'outweight': 0.0, 'indegree': 1, 'outdegree': 0}, '.gitmodules': {'inweight': 1.0, 'outweight': 0.0, 'indegree': 1, 'outdegree': 0}, 'TUTORIAL.ipynb': {'inweight': 20.0, 'outweight': 0.0, 'indegree': 3, 'outdegree': 0}, 4: {'inweight': 0.0, 'outweight': 1.0, 'indegree': 0, 'outdegree': 1}, '.editorconfig': {'inweight': 1.0, 'outweight': 0.0, 'indegree': 1, 'outdegree': 0}, '.gitattributes': {'inweight': 1.0, 'outweight': 0.0, 'indegree': 1, 'outdegree': 0}, 'funding.yml': {'inweight': 1.0, 'outweight': 0.0, 'indegree': 1, 'outdegree': 0}, 'security.md': {'inweight': 1.0, 'outweight': 0.0, 'indegree': 1, 'outdegree': 0}, '.npmrc': {'inweight': 1.0, 'outweight': 0.0, 'indegree': 1, 'outdegree': 0}, '.travis.yml': {'inweight': 1.0, 'outweight': 0.0, 'indegree': 1, 'outdegree': 0}, 'binary-extensions.json': {'inweight': 1.0, 'outweight': 0.0, 'indegree': 1, 'outdegree': 0}, 'binary-extensions.json.d.ts': {'inweight': 1.0, 'outweight': 0.0, 'indegree': 1, 'outdegree': 0}, 'index.d.ts': {'inweight': 1.0, 'outweight': 0.0, 'indegree': 1, 'outdegree': 0}, 'index.js': {'inweight': 1.0, 'outweight': 0.0, 'indegree': 1, 'outdegree': 0}, 'index.test-d.ts': {'inweight': 1.0, 'outweight': 0.0, 'indegree': 1, 'outdegree': 0}, 'license': {'inweight': 1.0, 'outweight': 0.0, 'indegree': 1, 'outdegree': 0}, 'package.json': {'inweight': 1.0, 'outweight': 0.0, 'indegree': 1, 'outdegree': 0}, 'readme.md': {'inweight': 1.0, 'outweight': 0.0, 'indegree': 1, 'outdegree': 0}, 'test.js': {'inweight': 1.0, 'outweight': 0.0, 'indegree': 1, 'outdegree': 0}, 'command_line.py': {'inweight': 10.0, 'outweight': 0.0, 'indegree': 2, 'outdegree': 0}, 6: {'inweight': 0.0, 'outweight': 2.0, 'indegree': 0, 'outdegree': 1}, 5: {'inweight': 0.0, 'outweight': 1.0, 'indegree': 0, 'outdegree': 1}, 1: {'inweight': 0.0, 'outweight': 1.0, 'indegree': 0, 'outdegree': 1}, 'disambiguation.py': {'inweight': 7.0, 'outweight': 0.0, 'indegree': 2, 'outdegree': 0}, 'pyproject.toml': {'inweight': 1.0, 'outweight': 0.0, 'indegree': 1, 'outdegree': 0}, 'setup.cfg': {'inweight': 15.0, 'outweight': 0.0, 'indegree': 1, 'outdegree': 0}, 0: {'inweight': 0.0, 'outweight': 11.0, 'indegree': 0, 'outdegree': 3}, 'python-app.yml': {'inweight': 5.0, 'outweight': 0.0, 'indegree': 1, 'outdegree': 0}, 'python-publish.yml': {'inweight': 2.0, 'outweight': 0.0, 'indegree': 1, 'outdegree': 0}, 'Makefile': {'inweight': 1.0, 'outweight': 0.0, 'indegree': 1, 'outdegree': 0}, 'make.bat': {'inweight': 1.0, 'outweight': 0.0, 'indegree': 1, 'outdegree': 0}, 'conf.py': {'inweight': 3.0, 'outweight': 0.0, 'indegree': 1, 'outdegree': 0}, 'git2net.rst': {'inweight': 6.0, 'outweight': 0.0, 'indegree': 1, 'outdegree': 0}, 'index.rst': {'inweight': 2.0, 'outweight': 0.0, 'indegree': 1, 'outdegree': 0}, 'getting_started.rst': {'inweight': 4.0, 'outweight': 0.0, 'indegree': 1, 'outdegree': 0}, 'modules.rst': {'inweight': 5.0, 'outweight': 0.0, 'indegree': 1, 'outdegree': 0}, 'index.html': {'inweight': 2.0, 'outweight': 0.0, 'indegree': 1, 'outdegree': 0}, 'api_reference.rst': {'inweight': 2.0, 'outweight': 0.0, 'indegree': 1, 'outdegree': 0}, 'overview_installation.rst': {'inweight': 1.0, 'outweight': 0.0, 'indegree': 1, 'outdegree': 0}, 'complexity.py': {'inweight': 3.0, 'outweight': 0.0, 'indegree': 1, 'outdegree': 0}, 9: {'inweight': 0.0, 'outweight': 1.0, 'indegree': 0, 'outdegree': 1}, 8: {'inweight': 0.0, 'outweight': 1.0, 'indegree': 0, 'outdegree': 1}, 7: {'inweight': 0.0, 'outweight': 4.0, 'indegree': 0, 'outdegree': 2}}\n"
     ]
    }
   ],
   "source": [
    "print(dict(n.nodes))"
   ]
  },
  {
   "cell_type": "code",
   "execution_count": 11,
   "metadata": {},
   "outputs": [],
   "source": [
    "# Artificial arrays\n",
    "\n",
    "# my_edges = \"{(3, 'test.py'): {'weight': 4.0}, (3, 'pyce.py'): {'weight': 3.0}, (3, 'ignore'): {'weight': 1.0}, (2, 'pyce.py'): {'weight': 8.0}, (2, 'ignore'): {'weight': 2.0}, (3, 'anonymize.py'): {'weight': 2.0}, (2, 'git2net.py'): {'weight': 59.0}}\"\n",
    "# print(my_edges)\n",
    "# my_nodes = \"{3: {'inweight': 0.0, 'outweight': 10.0, 'indegree': 0, 'outdegree': 4}, 'test.py': {'inweight': 4.0, 'outweight': 0.0, 'indegree': 1, 'outdegree': 0}}\"\n",
    "# print(my_nodes)"
   ]
  },
  {
   "cell_type": "code",
   "execution_count": 12,
   "metadata": {},
   "outputs": [
    {
     "name": "stdout",
     "output_type": "stream",
     "text": [
      "there are 10 authors\n"
     ]
    }
   ],
   "source": [
    "i = 0\n",
    "for key in n.nodes.keys():\n",
    "    if type(key) == int:\n",
    "        i+=1\n",
    "        \n",
    "print('there are %d authors' %i)"
   ]
  },
  {
   "cell_type": "code",
   "execution_count": 13,
   "metadata": {},
   "outputs": [],
   "source": [
    "n.nodes\n",
    "n.edges\n",
    "\n",
    "from collections import defaultdict\n",
    "from webweb import Web\n",
    "\n",
    "nodes_data = defaultdict(dict, n.nodes)\n",
    "edges_data = defaultdict(dict, n.edges)\n",
    "\n",
    "# Convert edges_data to list of edge pairs\n",
    "edge_list = [list(k) for k in edges_data.keys()]\n",
    "\n",
    "\n",
    "# Define node emotions based on your conditions\n",
    "node_emotions = {}\n",
    "for node in nodes_data.keys():\n",
    "    if isinstance(node, int):\n",
    "        node_emotions[node] = 'angry' # Author\n",
    "    elif isinstance(node, str):\n",
    "        node_emotions[node] = 'happy' # File\n",
    "\n",
    "# Create display object with metadata for nodes\n",
    "display = {\n",
    "    'metadata': {\n",
    "        'emotion': {\n",
    "            'values': [node_emotions[node] for node in nodes_data.keys()]\n",
    "        }\n",
    "    },\n",
    "    'nodes' : {\n",
    "        'labels' : list(nodes_data.keys()),\n",
    "        'color' : {\n",
    "            'attribute' : 'emotion'\n",
    "        },\n",
    "    },\n",
    "}\n",
    "\n",
    "# Create web object\n",
    "web = Web(edge_list, display=display)\n",
    "\n",
    "# use the 'emotion' attribute to color nodes\n",
    "web.display.colorBy = 'emotion'\n",
    "\n",
    "# show the visualization\n",
    "web.show()"
   ]
  },
  {
   "cell_type": "code",
   "execution_count": 14,
   "metadata": {},
   "outputs": [
    {
     "data": {
      "image/png": "[encoded data removed]",
      "text/plain": [
       "<Figure size 640x480 with 1 Axes>"
      ]
     },
     "metadata": {},
     "output_type": "display_data"
    }
   ],
   "source": [
    "import matplotlib.pyplot as plt\n",
    "import networkx as nx\n",
    "from collections import defaultdict\n",
    "\n",
    "# assuming n is your network object\n",
    "nodes_data = defaultdict(dict, n.nodes)\n",
    "edges_data = defaultdict(dict, n.edges)\n",
    "\n",
    "# Create a new graph\n",
    "G = nx.Graph()\n",
    "\n",
    "# Add nodes to the graph\n",
    "for node, attr in nodes_data.items():\n",
    "    G.add_node(node, **attr)\n",
    "\n",
    "# Add edges to the graph\n",
    "for edge, attr in edges_data.items():\n",
    "    G.add_edge(*edge, **attr)\n",
    "\n",
    "# Draw the graph\n",
    "nx.draw(G, with_labels=True)\n",
    "plt.show()"
   ]
  },
  {
   "cell_type": "code",
   "execution_count": 15,
   "metadata": {},
   "outputs": [
    {
     "data": {
      "application/vnd.plotly.v1+json": {
       "config": {
        "plotlyServerURL": "https://plot.ly"
       },
       "data": [
        {
         "hoverinfo": "none",
         "line": {
          "color": "#888",
          "width": 0.5
         },
         "mode": "lines",
         "type": "scatter",
         "x": [
          0.5381170112024537,
          0.753284319325029,
          null,
          0.5381170112024537,
          0.21550167127807074,
          null,
          0.5381170112024537,
          0.3494972353606164,
          null,
          0.5381170112024537,
          0.28167504663253784,
          null,
          0.21550167127807074,
          -0.007132720937376578,
          null,
          0.3494972353606164,
          -0.007132720937376578,
          null,
          -0.007132720937376578,
          0.05702027642662946,
          null,
          -0.007132720937376578,
          -0.15974242405189684,
          null,
          -0.007132720937376578,
          -0.5195437055751194,
          null,
          -0.007132720937376578,
          -0.7649281185375405,
          null,
          -0.007132720937376578,
          -0.14885688806666975,
          null,
          -0.007132720937376578,
          -0.003120540804274152,
          null,
          -0.007132720937376578,
          -0.03842095033060544,
          null,
          -0.007132720937376578,
          0.08935444440100464,
          null,
          -0.007132720937376578,
          -0.06093805165235473,
          null,
          -0.007132720937376578,
          0.2781339824973886,
          null,
          -0.007132720937376578,
          -0.34630093219577157,
          null,
          -0.007132720937376578,
          0.1601454889764681,
          null,
          -0.007132720937376578,
          0.03119029748604629,
          null,
          -0.007132720937376578,
          -0.3320385904423385,
          null,
          -0.007132720937376578,
          0.4135476198352709,
          null,
          -0.007132720937376578,
          0.02101369999091515,
          null,
          -0.007132720937376578,
          -0.014548325449068242,
          null,
          -0.007132720937376578,
          -0.09879905442718791,
          null,
          -0.007132720937376578,
          -0.07301177018613819,
          null,
          -0.007132720937376578,
          0.22731656183069127,
          null,
          -0.007132720937376578,
          0.28167504663253784,
          null,
          -0.007132720937376578,
          0.09778986918296996,
          null,
          -0.007132720937376578,
          -0.2845890751282146,
          null,
          -0.007132720937376578,
          -0.1957618898888338,
          null,
          -0.007132720937376578,
          -0.4114678995306077,
          null,
          -0.007132720937376578,
          0.14686031898104887,
          null,
          -0.007132720937376578,
          -0.4330045861514684,
          null,
          -0.007132720937376578,
          -0.13003136743013083,
          null,
          -0.007132720937376578,
          0.4823626839170225,
          null,
          -0.007132720937376578,
          0.4176647247453657,
          null,
          -0.007132720937376578,
          -0.4474056028257885,
          null,
          -0.007132720937376578,
          0.5083179530571892,
          null,
          -0.007132720937376578,
          0.3309896366478234,
          null,
          -0.007132720937376578,
          0.17678352529270178,
          null,
          -0.007132720937376578,
          -0.28670686646642957,
          null,
          -0.007132720937376578,
          0.04543989811452265,
          null,
          -0.007132720937376578,
          0.7221423709897508,
          null,
          -0.007132720937376578,
          -0.21931931505811,
          null,
          -0.007132720937376578,
          0.47070976856867036,
          null,
          -0.007132720937376578,
          -0.4628145422569517,
          null,
          -0.007132720937376578,
          0.17675942984768403,
          null,
          -0.007132720937376578,
          -0.7088457830029423,
          null,
          -0.007132720937376578,
          0.6746317465222645,
          null,
          -0.007132720937376578,
          -0.5636136592619045,
          null,
          -0.007132720937376578,
          0.42626097203025637,
          null,
          -0.007132720937376578,
          -0.16497015492500255,
          null,
          -0.007132720937376578,
          -0.21955671878126592,
          null,
          -0.007132720937376578,
          -0.46908051982651777,
          null,
          -0.007132720937376578,
          -0.6771287041436137,
          null,
          -0.007132720937376578,
          0.5893045107494213,
          null,
          -0.007132720937376578,
          0.32054847029556904,
          null,
          -0.007132720937376578,
          -0.5909202620326456,
          null,
          -0.007132720937376578,
          -0.08922924508600433,
          null,
          -0.007132720937376578,
          -0.31594692695078797,
          null,
          -0.007132720937376578,
          0.3073389740155494,
          null,
          -0.007132720937376578,
          -0.32187026539054936,
          null,
          -0.007132720937376578,
          -0.04606009759196547,
          null,
          -0.007132720937376578,
          -0.1504512997478231,
          null,
          -0.007132720937376578,
          -0.17169635731050184,
          null,
          -0.007132720937376578,
          0.036052738750114985,
          null,
          -0.007132720937376578,
          -0.7354192957603984,
          null,
          -0.007132720937376578,
          0.3495328224359506,
          null,
          -0.007132720937376578,
          -0.023747505513904855,
          null,
          -0.007132720937376578,
          0.46751216493238695,
          null,
          -0.007132720937376578,
          -0.2744073245851027,
          null,
          -0.007132720937376578,
          -0.29877931377936157,
          null,
          -0.007132720937376578,
          -0.5016448988073806,
          null,
          -0.007132720937376578,
          0.08110494780902958,
          null,
          -0.007132720937376578,
          -0.6413207422513565,
          null,
          -0.007132720937376578,
          0.29681519865802386,
          null,
          0.02101369999091515,
          0.03354889744769585,
          null,
          0.09778986918296996,
          0.03354889744769585,
          null,
          0.14686031898104887,
          0.8617504423996799,
          null,
          0.14686031898104887,
          0.8041646775909415,
          null,
          0.14686031898104887,
          0.4475977151130444,
          null,
          0.14686031898104887,
          0.8802958357515958,
          null,
          0.14686031898104887,
          0.571535051664614,
          null,
          -0.21931931505811,
          -0.7364407086121242,
          null,
          -0.21931931505811,
          0.03354889744769585,
          null,
          -0.31594692695078797,
          -1,
          null,
          0.3073389740155494,
          0.571535051664614,
          null
         ],
         "y": [
          -0.6482819339896518,
          -0.9023535919061023,
          null,
          -0.6482819339896518,
          -0.2823389814757444,
          null,
          -0.6482819339896518,
          -0.3885866428101474,
          null,
          -0.6482819339896518,
          -0.4737044195568074,
          null,
          -0.2823389814757444,
          0.013470933360098195,
          null,
          -0.3885866428101474,
          0.013470933360098195,
          null,
          0.013470933360098195,
          0.018857317397468223,
          null,
          0.013470933360098195,
          -0.021446180713187768,
          null,
          0.013470933360098195,
          -0.05968287798933768,
          null,
          0.013470933360098195,
          0.08088131752780123,
          null,
          0.013470933360098195,
          0.11340079747077832,
          null,
          0.013470933360098195,
          0.7796902170044357,
          null,
          0.013470933360098195,
          0.5259779954000393,
          null,
          0.013470933360098195,
          -0.20563285403360643,
          null,
          0.013470933360098195,
          0.2841886584405218,
          null,
          0.013470933360098195,
          0.4518452863379979,
          null,
          0.013470933360098195,
          -0.6544261844702757,
          null,
          0.013470933360098195,
          0.7685555826123741,
          null,
          0.013470933360098195,
          -0.46792099751667515,
          null,
          0.013470933360098195,
          0.4352987027384872,
          null,
          0.013470933360098195,
          -0.2633472501740666,
          null,
          0.013470933360098195,
          0.15888797575234442,
          null,
          0.013470933360098195,
          0.07464314399375387,
          null,
          0.013470933360098195,
          0.19444118040062042,
          null,
          0.013470933360098195,
          -0.050584835993749494,
          null,
          0.013470933360098195,
          0.1615092916690466,
          null,
          0.013470933360098195,
          -0.4737044195568074,
          null,
          0.013470933360098195,
          0.14297454565843287,
          null,
          0.013470933360098195,
          -0.2581704782458553,
          null,
          0.013470933360098195,
          0.3595163234838171,
          null,
          0.013470933360098195,
          0.02226172607261049,
          null,
          0.013470933360098195,
          -0.04454473694148438,
          null,
          0.013470933360098195,
          0.31295596556484856,
          null,
          0.013470933360098195,
          -0.4576615762337538,
          null,
          0.013470933360098195,
          -0.07547737685430013,
          null,
          0.013470933360098195,
          0.2928481720584256,
          null,
          0.013470933360098195,
          -0.2359895805359637,
          null,
          0.013470933360098195,
          0.05414999246563604,
          null,
          0.013470933360098195,
          0.3580202299545463,
          null,
          0.013470933360098195,
          0.4650278736001971,
          null,
          0.013470933360098195,
          -0.40168652798915594,
          null,
          0.013470933360098195,
          -0.07449952747669313,
          null,
          0.013470933360098195,
          0.16276694350886156,
          null,
          0.013470933360098195,
          0.03657221037452575,
          null,
          0.013470933360098195,
          0.610714299992983,
          null,
          0.013470933360098195,
          -0.5809349466730449,
          null,
          0.013470933360098195,
          -0.7000005704187141,
          null,
          0.013470933360098195,
          -0.23407245902262042,
          null,
          0.013470933360098195,
          0.34853770434503584,
          null,
          0.013470933360098195,
          -0.49151610726588896,
          null,
          0.013470933360098195,
          -0.5514236520474178,
          null,
          0.013470933360098195,
          0.7651521772625902,
          null,
          0.013470933360098195,
          -0.6993346098080844,
          null,
          0.013470933360098195,
          0.6335169172622586,
          null,
          0.013470933360098195,
          0.3783326481708976,
          null,
          0.013470933360098195,
          0.49193919941816666,
          null,
          0.013470933360098195,
          0.7119829336668204,
          null,
          0.013470933360098195,
          0.5195117705947843,
          null,
          0.013470933360098195,
          -0.741587462141355,
          null,
          0.013470933360098195,
          -0.09405580133306309,
          null,
          0.013470933360098195,
          -0.07518864531125942,
          null,
          0.013470933360098195,
          0.7137209070012536,
          null,
          0.013470933360098195,
          -0.13133377522433218,
          null,
          0.013470933360098195,
          -0.22826004618613877,
          null,
          0.013470933360098195,
          0.5084593678075184,
          null,
          0.013470933360098195,
          -0.715354158742213,
          null,
          0.013470933360098195,
          0.23075789846210795,
          null,
          0.013470933360098195,
          0.07815149943967163,
          null,
          0.013470933360098195,
          -0.2502341436236294,
          null,
          0.013470933360098195,
          0.18737664825383948,
          null,
          0.013470933360098195,
          0.23624468462692416,
          null,
          0.013470933360098195,
          0.10866938899666374,
          null,
          0.013470933360098195,
          0.16380876036622,
          null,
          0.013470933360098195,
          0.51619257322497,
          null,
          0.013470933360098195,
          -0.3778078448800023,
          null,
          0.013470933360098195,
          -0.18834527594723943,
          null,
          0.15888797575234442,
          0.3015881784676182,
          null,
          0.14297454565843287,
          0.3015881784676182,
          null,
          -0.04454473694148438,
          -0.1674222824795925,
          null,
          -0.04454473694148438,
          -0.3499403385878028,
          null,
          -0.04454473694148438,
          -0.7221133375158933,
          null,
          -0.04454473694148438,
          0.02378041757577076,
          null,
          -0.04454473694148438,
          -0.18322567056262865,
          null,
          0.03657221037452575,
          -0.05051052815873503,
          null,
          0.03657221037452575,
          0.3015881784676182,
          null,
          -0.09405580133306309,
          -0.2981821469475513,
          null,
          -0.07518864531125942,
          -0.18322567056262865,
          null
         ]
        },
        {
         "hoverinfo": "text",
         "marker": {
          "color": [
           4,
           1,
           2,
           2,
           72,
           2,
           1,
           1,
           1,
           1,
           1,
           1,
           1,
           1,
           1,
           1,
           1,
           1,
           1,
           1,
           1,
           2,
           1,
           1,
           1,
           1,
           2,
           1,
           1,
           1,
           6,
           1,
           1,
           1,
           1,
           1,
           1,
           1,
           1,
           1,
           1,
           1,
           3,
           1,
           1,
           1,
           1,
           1,
           1,
           1,
           1,
           1,
           1,
           1,
           1,
           1,
           1,
           1,
           1,
           2,
           1,
           1,
           1,
           2,
           1,
           1,
           3,
           1,
           1,
           1,
           1,
           1,
           1,
           1,
           1,
           1,
           1,
           1,
           1,
           1,
           1,
           1,
           2
          ],
          "colorbar": {
           "thickness": 15,
           "title": {
            "side": "right",
            "text": "Node Connections"
           },
           "xanchor": "left"
          },
          "colorscale": [
           [
            0,
            "rgb(255,255,217)"
           ],
           [
            0.125,
            "rgb(237,248,177)"
           ],
           [
            0.25,
            "rgb(199,233,180)"
           ],
           [
            0.375,
            "rgb(127,205,187)"
           ],
           [
            0.5,
            "rgb(65,182,196)"
           ],
           [
            0.625,
            "rgb(29,145,192)"
           ],
           [
            0.75,
            "rgb(34,94,168)"
           ],
           [
            0.875,
            "rgb(37,52,148)"
           ],
           [
            1,
            "rgb(8,29,88)"
           ]
          ],
          "line": {
           "width": 2
          },
          "reversescale": true,
          "showscale": true,
          "size": 10
         },
         "mode": "markers",
         "text": [
          "Name: 3<br># of connections: 4",
          "Name: test.py<br># of connections: 1",
          "Name: pyce.py<br># of connections: 2",
          "Name: ignore<br># of connections: 2",
          "Name: 2<br># of connections: 72",
          "Name: anonymize.py<br># of connections: 2",
          "Name: git2net.py<br># of connections: 1",
          "Name: .gitignore<br># of connections: 1",
          "Name: test_visualisation.py<br># of connections: 1",
          "Name: test_extract_coedits.py<br># of connections: 1",
          "Name: test_git2net.py<br># of connections: 1",
          "Name: test_identify_edits.py<br># of connections: 1",
          "Name: test_extract_edits.py<br># of connections: 1",
          "Name: test_extract_editing_paths.py<br># of connections: 1",
          "Name: test_get_original_line_number.py<br># of connections: 1",
          "Name: get_previous_names.py<br># of connections: 1",
          "Name: test_get_unified_changes.py<br># of connections: 1",
          "Name: test_identify_file_renaming.py<br># of connections: 1",
          "Name: test_get_path_to_origin.py<br># of connections: 1",
          "Name: test_get_paths_to_origin.py<br># of connections: 1",
          "Name: get_original_line_number.md<br># of connections: 1",
          "Name: README.md<br># of connections: 2",
          "Name: __init__.py<br># of connections: 1",
          "Name: setup.py<br># of connections: 1",
          "Name: test_functions.py<br># of connections: 1",
          "Name: test_repo_1.zip<br># of connections: 1",
          "Name: requirements.txt<br># of connections: 2",
          "Name: LICENSE.txt<br># of connections: 1",
          "Name: bug_report.md<br># of connections: 1",
          "Name: feature_request.md<br># of connections: 1",
          "Name: extraction.py<br># of connections: 6",
          "Name: _test_extract_editing_paths.py<br># of connections: 1",
          "Name: _test_extract_edits.py<br># of connections: 1",
          "Name: _test_get_original_line_number.py<br># of connections: 1",
          "Name: _test_get_paths_to_origin.py<br># of connections: 1",
          "Name: _test_get_unified_changes.py<br># of connections: 1",
          "Name: _test_git2net.py<br># of connections: 1",
          "Name: _test_identify_edits.py<br># of connections: 1",
          "Name: _test_identify_file_renaming.py<br># of connections: 1",
          "Name: _test_visualisation.py<br># of connections: 1",
          "Name: visualisation.py<br># of connections: 1",
          "Name: .gitmodules<br># of connections: 1",
          "Name: TUTORIAL.ipynb<br># of connections: 3",
          "Name: 4<br># of connections: 1",
          "Name: .editorconfig<br># of connections: 1",
          "Name: .gitattributes<br># of connections: 1",
          "Name: funding.yml<br># of connections: 1",
          "Name: security.md<br># of connections: 1",
          "Name: .npmrc<br># of connections: 1",
          "Name: .travis.yml<br># of connections: 1",
          "Name: binary-extensions.json<br># of connections: 1",
          "Name: binary-extensions.json.d.ts<br># of connections: 1",
          "Name: index.d.ts<br># of connections: 1",
          "Name: index.js<br># of connections: 1",
          "Name: index.test-d.ts<br># of connections: 1",
          "Name: license<br># of connections: 1",
          "Name: package.json<br># of connections: 1",
          "Name: readme.md<br># of connections: 1",
          "Name: test.js<br># of connections: 1",
          "Name: command_line.py<br># of connections: 2",
          "Name: 6<br># of connections: 1",
          "Name: 5<br># of connections: 1",
          "Name: 1<br># of connections: 1",
          "Name: disambiguation.py<br># of connections: 2",
          "Name: pyproject.toml<br># of connections: 1",
          "Name: setup.cfg<br># of connections: 1",
          "Name: 0<br># of connections: 3",
          "Name: python-app.yml<br># of connections: 1",
          "Name: python-publish.yml<br># of connections: 1",
          "Name: Makefile<br># of connections: 1",
          "Name: make.bat<br># of connections: 1",
          "Name: conf.py<br># of connections: 1",
          "Name: git2net.rst<br># of connections: 1",
          "Name: index.rst<br># of connections: 1",
          "Name: getting_started.rst<br># of connections: 1",
          "Name: modules.rst<br># of connections: 1",
          "Name: index.html<br># of connections: 1",
          "Name: api_reference.rst<br># of connections: 1",
          "Name: overview_installation.rst<br># of connections: 1",
          "Name: complexity.py<br># of connections: 1",
          "Name: 9<br># of connections: 1",
          "Name: 8<br># of connections: 1",
          "Name: 7<br># of connections: 2"
         ],
         "type": "scatter",
         "x": [
          0.5381170112024537,
          0.753284319325029,
          0.21550167127807074,
          0.3494972353606164,
          -0.007132720937376578,
          0.28167504663253784,
          0.05702027642662946,
          -0.15974242405189684,
          -0.5195437055751194,
          -0.7649281185375405,
          -0.14885688806666975,
          -0.003120540804274152,
          -0.03842095033060544,
          0.08935444440100464,
          -0.06093805165235473,
          0.2781339824973886,
          -0.34630093219577157,
          0.1601454889764681,
          0.03119029748604629,
          -0.3320385904423385,
          0.4135476198352709,
          0.02101369999091515,
          -0.014548325449068242,
          -0.09879905442718791,
          -0.07301177018613819,
          0.22731656183069127,
          0.09778986918296996,
          -0.2845890751282146,
          -0.1957618898888338,
          -0.4114678995306077,
          0.14686031898104887,
          -0.4330045861514684,
          -0.13003136743013083,
          0.4823626839170225,
          0.4176647247453657,
          -0.4474056028257885,
          0.5083179530571892,
          0.3309896366478234,
          0.17678352529270178,
          -0.28670686646642957,
          0.04543989811452265,
          0.7221423709897508,
          -0.21931931505811,
          0.8617504423996799,
          0.47070976856867036,
          -0.4628145422569517,
          0.17675942984768403,
          -0.7088457830029423,
          0.6746317465222645,
          -0.5636136592619045,
          0.42626097203025637,
          -0.16497015492500255,
          -0.21955671878126592,
          -0.46908051982651777,
          -0.6771287041436137,
          0.5893045107494213,
          0.32054847029556904,
          -0.5909202620326456,
          -0.08922924508600433,
          -0.31594692695078797,
          -0.7364407086121242,
          0.8041646775909415,
          -1,
          0.3073389740155494,
          -0.32187026539054936,
          -0.04606009759196547,
          0.03354889744769585,
          -0.1504512997478231,
          -0.17169635731050184,
          0.036052738750114985,
          -0.7354192957603984,
          0.3495328224359506,
          -0.023747505513904855,
          0.46751216493238695,
          -0.2744073245851027,
          -0.29877931377936157,
          -0.5016448988073806,
          0.08110494780902958,
          -0.6413207422513565,
          0.29681519865802386,
          0.4475977151130444,
          0.8802958357515958,
          0.571535051664614
         ],
         "y": [
          -0.6482819339896518,
          -0.9023535919061023,
          -0.2823389814757444,
          -0.3885866428101474,
          0.013470933360098195,
          -0.4737044195568074,
          0.018857317397468223,
          -0.021446180713187768,
          -0.05968287798933768,
          0.08088131752780123,
          0.11340079747077832,
          0.7796902170044357,
          0.5259779954000393,
          -0.20563285403360643,
          0.2841886584405218,
          0.4518452863379979,
          -0.6544261844702757,
          0.7685555826123741,
          -0.46792099751667515,
          0.4352987027384872,
          -0.2633472501740666,
          0.15888797575234442,
          0.07464314399375387,
          0.19444118040062042,
          -0.050584835993749494,
          0.1615092916690466,
          0.14297454565843287,
          -0.2581704782458553,
          0.3595163234838171,
          0.02226172607261049,
          -0.04454473694148438,
          0.31295596556484856,
          -0.4576615762337538,
          -0.07547737685430013,
          0.2928481720584256,
          -0.2359895805359637,
          0.05414999246563604,
          0.3580202299545463,
          0.4650278736001971,
          -0.40168652798915594,
          -0.07449952747669313,
          0.16276694350886156,
          0.03657221037452575,
          -0.1674222824795925,
          0.610714299992983,
          -0.5809349466730449,
          -0.7000005704187141,
          -0.23407245902262042,
          0.34853770434503584,
          -0.49151610726588896,
          -0.5514236520474178,
          0.7651521772625902,
          -0.6993346098080844,
          0.6335169172622586,
          0.3783326481708976,
          0.49193919941816666,
          0.7119829336668204,
          0.5195117705947843,
          -0.741587462141355,
          -0.09405580133306309,
          -0.05051052815873503,
          -0.3499403385878028,
          -0.2981821469475513,
          -0.07518864531125942,
          0.7137209070012536,
          -0.13133377522433218,
          0.3015881784676182,
          -0.22826004618613877,
          0.5084593678075184,
          -0.715354158742213,
          0.23075789846210795,
          0.07815149943967163,
          -0.2502341436236294,
          0.18737664825383948,
          0.23624468462692416,
          0.10866938899666374,
          0.16380876036622,
          0.51619257322497,
          -0.3778078448800023,
          -0.18834527594723943,
          -0.7221133375158933,
          0.02378041757577076,
          -0.18322567056262865
         ]
        }
       ],
       "layout": {
        "hovermode": "closest",
        "margin": {
         "b": 20,
         "l": 5,
         "r": 5,
         "t": 40
        },
        "showlegend": false,
        "template": {
         "data": {
          "bar": [
           {
            "error_x": {
             "color": "#2a3f5f"
            },
            "error_y": {
             "color": "#2a3f5f"
            },
            "marker": {
             "line": {
              "color": "#E5ECF6",
              "width": 0.5
             },
             "pattern": {
              "fillmode": "overlay",
              "size": 10,
              "solidity": 0.2
             }
            },
            "type": "bar"
           }
          ],
          "barpolar": [
           {
            "marker": {
             "line": {
              "color": "#E5ECF6",
              "width": 0.5
             },
             "pattern": {
              "fillmode": "overlay",
              "size": 10,
              "solidity": 0.2
             }
            },
            "type": "barpolar"
           }
          ],
          "carpet": [
           {
            "aaxis": {
             "endlinecolor": "#2a3f5f",
             "gridcolor": "white",
             "linecolor": "white",
             "minorgridcolor": "white",
             "startlinecolor": "#2a3f5f"
            },
            "baxis": {
             "endlinecolor": "#2a3f5f",
             "gridcolor": "white",
             "linecolor": "white",
             "minorgridcolor": "white",
             "startlinecolor": "#2a3f5f"
            },
            "type": "carpet"
           }
          ],
          "choropleth": [
           {
            "colorbar": {
             "outlinewidth": 0,
             "ticks": ""
            },
            "type": "choropleth"
           }
          ],
          "contour": [
           {
            "colorbar": {
             "outlinewidth": 0,
             "ticks": ""
            },
            "colorscale": [
             [
              0,
              "#0d0887"
             ],
             [
              0.1111111111111111,
              "#46039f"
             ],
             [
              0.2222222222222222,
              "#7201a8"
             ],
             [
              0.3333333333333333,
              "#9c179e"
             ],
             [
              0.4444444444444444,
              "#bd3786"
             ],
             [
              0.5555555555555556,
              "#d8576b"
             ],
             [
              0.6666666666666666,
              "#ed7953"
             ],
             [
              0.7777777777777778,
              "#fb9f3a"
             ],
             [
              0.8888888888888888,
              "#fdca26"
             ],
             [
              1,
              "#f0f921"
             ]
            ],
            "type": "contour"
           }
          ],
          "contourcarpet": [
           {
            "colorbar": {
             "outlinewidth": 0,
             "ticks": ""
            },
            "type": "contourcarpet"
           }
          ],
          "heatmap": [
           {
            "colorbar": {
             "outlinewidth": 0,
             "ticks": ""
            },
            "colorscale": [
             [
              0,
              "#0d0887"
             ],
             [
              0.1111111111111111,
              "#46039f"
             ],
             [
              0.2222222222222222,
              "#7201a8"
             ],
             [
              0.3333333333333333,
              "#9c179e"
             ],
             [
              0.4444444444444444,
              "#bd3786"
             ],
             [
              0.5555555555555556,
              "#d8576b"
             ],
             [
              0.6666666666666666,
              "#ed7953"
             ],
             [
              0.7777777777777778,
              "#fb9f3a"
             ],
             [
              0.8888888888888888,
              "#fdca26"
             ],
             [
              1,
              "#f0f921"
             ]
            ],
            "type": "heatmap"
           }
          ],
          "heatmapgl": [
           {
            "colorbar": {
             "outlinewidth": 0,
             "ticks": ""
            },
            "colorscale": [
             [
              0,
              "#0d0887"
             ],
             [
              0.1111111111111111,
              "#46039f"
             ],
             [
              0.2222222222222222,
              "#7201a8"
             ],
             [
              0.3333333333333333,
              "#9c179e"
             ],
             [
              0.4444444444444444,
              "#bd3786"
             ],
             [
              0.5555555555555556,
              "#d8576b"
             ],
             [
              0.6666666666666666,
              "#ed7953"
             ],
             [
              0.7777777777777778,
              "#fb9f3a"
             ],
             [
              0.8888888888888888,
              "#fdca26"
             ],
             [
              1,
              "#f0f921"
             ]
            ],
            "type": "heatmapgl"
           }
          ],
          "histogram": [
           {
            "marker": {
             "pattern": {
              "fillmode": "overlay",
              "size": 10,
              "solidity": 0.2
             }
            },
            "type": "histogram"
           }
          ],
          "histogram2d": [
           {
            "colorbar": {
             "outlinewidth": 0,
             "ticks": ""
            },
            "colorscale": [
             [
              0,
              "#0d0887"
             ],
             [
              0.1111111111111111,
              "#46039f"
             ],
             [
              0.2222222222222222,
              "#7201a8"
             ],
             [
              0.3333333333333333,
              "#9c179e"
             ],
             [
              0.4444444444444444,
              "#bd3786"
             ],
             [
              0.5555555555555556,
              "#d8576b"
             ],
             [
              0.6666666666666666,
              "#ed7953"
             ],
             [
              0.7777777777777778,
              "#fb9f3a"
             ],
             [
              0.8888888888888888,
              "#fdca26"
             ],
             [
              1,
              "#f0f921"
             ]
            ],
            "type": "histogram2d"
           }
          ],
          "histogram2dcontour": [
           {
            "colorbar": {
             "outlinewidth": 0,
             "ticks": ""
            },
            "colorscale": [
             [
              0,
              "#0d0887"
             ],
             [
              0.1111111111111111,
              "#46039f"
             ],
             [
              0.2222222222222222,
              "#7201a8"
             ],
             [
              0.3333333333333333,
              "#9c179e"
             ],
             [
              0.4444444444444444,
              "#bd3786"
             ],
             [
              0.5555555555555556,
              "#d8576b"
             ],
             [
              0.6666666666666666,
              "#ed7953"
             ],
             [
              0.7777777777777778,
              "#fb9f3a"
             ],
             [
              0.8888888888888888,
              "#fdca26"
             ],
             [
              1,
              "#f0f921"
             ]
            ],
            "type": "histogram2dcontour"
           }
          ],
          "mesh3d": [
           {
            "colorbar": {
             "outlinewidth": 0,
             "ticks": ""
            },
            "type": "mesh3d"
           }
          ],
          "parcoords": [
           {
            "line": {
             "colorbar": {
              "outlinewidth": 0,
              "ticks": ""
             }
            },
            "type": "parcoords"
           }
          ],
          "pie": [
           {
            "automargin": true,
            "type": "pie"
           }
          ],
          "scatter": [
           {
            "fillpattern": {
             "fillmode": "overlay",
             "size": 10,
             "solidity": 0.2
            },
            "type": "scatter"
           }
          ],
          "scatter3d": [
           {
            "line": {
             "colorbar": {
              "outlinewidth": 0,
              "ticks": ""
             }
            },
            "marker": {
             "colorbar": {
              "outlinewidth": 0,
              "ticks": ""
             }
            },
            "type": "scatter3d"
           }
          ],
          "scattercarpet": [
           {
            "marker": {
             "colorbar": {
              "outlinewidth": 0,
              "ticks": ""
             }
            },
            "type": "scattercarpet"
           }
          ],
          "scattergeo": [
           {
            "marker": {
             "colorbar": {
              "outlinewidth": 0,
              "ticks": ""
             }
            },
            "type": "scattergeo"
           }
          ],
          "scattergl": [
           {
            "marker": {
             "colorbar": {
              "outlinewidth": 0,
              "ticks": ""
             }
            },
            "type": "scattergl"
           }
          ],
          "scattermapbox": [
           {
            "marker": {
             "colorbar": {
              "outlinewidth": 0,
              "ticks": ""
             }
            },
            "type": "scattermapbox"
           }
          ],
          "scatterpolar": [
           {
            "marker": {
             "colorbar": {
              "outlinewidth": 0,
              "ticks": ""
             }
            },
            "type": "scatterpolar"
           }
          ],
          "scatterpolargl": [
           {
            "marker": {
             "colorbar": {
              "outlinewidth": 0,
              "ticks": ""
             }
            },
            "type": "scatterpolargl"
           }
          ],
          "scatterternary": [
           {
            "marker": {
             "colorbar": {
              "outlinewidth": 0,
              "ticks": ""
             }
            },
            "type": "scatterternary"
           }
          ],
          "surface": [
           {
            "colorbar": {
             "outlinewidth": 0,
             "ticks": ""
            },
            "colorscale": [
             [
              0,
              "#0d0887"
             ],
             [
              0.1111111111111111,
              "#46039f"
             ],
             [
              0.2222222222222222,
              "#7201a8"
             ],
             [
              0.3333333333333333,
              "#9c179e"
             ],
             [
              0.4444444444444444,
              "#bd3786"
             ],
             [
              0.5555555555555556,
              "#d8576b"
             ],
             [
              0.6666666666666666,
              "#ed7953"
             ],
             [
              0.7777777777777778,
              "#fb9f3a"
             ],
             [
              0.8888888888888888,
              "#fdca26"
             ],
             [
              1,
              "#f0f921"
             ]
            ],
            "type": "surface"
           }
          ],
          "table": [
           {
            "cells": {
             "fill": {
              "color": "#EBF0F8"
             },
             "line": {
              "color": "white"
             }
            },
            "header": {
             "fill": {
              "color": "#C8D4E3"
             },
             "line": {
              "color": "white"
             }
            },
            "type": "table"
           }
          ]
         },
         "layout": {
          "annotationdefaults": {
           "arrowcolor": "#2a3f5f",
           "arrowhead": 0,
           "arrowwidth": 1
          },
          "autotypenumbers": "strict",
          "coloraxis": {
           "colorbar": {
            "outlinewidth": 0,
            "ticks": ""
           }
          },
          "colorscale": {
           "diverging": [
            [
             0,
             "#8e0152"
            ],
            [
             0.1,
             "#c51b7d"
            ],
            [
             0.2,
             "#de77ae"
            ],
            [
             0.3,
             "#f1b6da"
            ],
            [
             0.4,
             "#fde0ef"
            ],
            [
             0.5,
             "#f7f7f7"
            ],
            [
             0.6,
             "#e6f5d0"
            ],
            [
             0.7,
             "#b8e186"
            ],
            [
             0.8,
             "#7fbc41"
            ],
            [
             0.9,
             "#4d9221"
            ],
            [
             1,
             "#276419"
            ]
           ],
           "sequential": [
            [
             0,
             "#0d0887"
            ],
            [
             0.1111111111111111,
             "#46039f"
            ],
            [
             0.2222222222222222,
             "#7201a8"
            ],
            [
             0.3333333333333333,
             "#9c179e"
            ],
            [
             0.4444444444444444,
             "#bd3786"
            ],
            [
             0.5555555555555556,
             "#d8576b"
            ],
            [
             0.6666666666666666,
             "#ed7953"
            ],
            [
             0.7777777777777778,
             "#fb9f3a"
            ],
            [
             0.8888888888888888,
             "#fdca26"
            ],
            [
             1,
             "#f0f921"
            ]
           ],
           "sequentialminus": [
            [
             0,
             "#0d0887"
            ],
            [
             0.1111111111111111,
             "#46039f"
            ],
            [
             0.2222222222222222,
             "#7201a8"
            ],
            [
             0.3333333333333333,
             "#9c179e"
            ],
            [
             0.4444444444444444,
             "#bd3786"
            ],
            [
             0.5555555555555556,
             "#d8576b"
            ],
            [
             0.6666666666666666,
             "#ed7953"
            ],
            [
             0.7777777777777778,
             "#fb9f3a"
            ],
            [
             0.8888888888888888,
             "#fdca26"
            ],
            [
             1,
             "#f0f921"
            ]
           ]
          },
          "colorway": [
           "#636efa",
           "#EF553B",
           "#00cc96",
           "#ab63fa",
           "#FFA15A",
           "#19d3f3",
           "#FF6692",
           "#B6E880",
           "#FF97FF",
           "#FECB52"
          ],
          "font": {
           "color": "#2a3f5f"
          },
          "geo": {
           "bgcolor": "white",
           "lakecolor": "white",
           "landcolor": "#E5ECF6",
           "showlakes": true,
           "showland": true,
           "subunitcolor": "white"
          },
          "hoverlabel": {
           "align": "left"
          },
          "hovermode": "closest",
          "mapbox": {
           "style": "light"
          },
          "paper_bgcolor": "white",
          "plot_bgcolor": "#E5ECF6",
          "polar": {
           "angularaxis": {
            "gridcolor": "white",
            "linecolor": "white",
            "ticks": ""
           },
           "bgcolor": "#E5ECF6",
           "radialaxis": {
            "gridcolor": "white",
            "linecolor": "white",
            "ticks": ""
           }
          },
          "scene": {
           "xaxis": {
            "backgroundcolor": "#E5ECF6",
            "gridcolor": "white",
            "gridwidth": 2,
            "linecolor": "white",
            "showbackground": true,
            "ticks": "",
            "zerolinecolor": "white"
           },
           "yaxis": {
            "backgroundcolor": "#E5ECF6",
            "gridcolor": "white",
            "gridwidth": 2,
            "linecolor": "white",
            "showbackground": true,
            "ticks": "",
            "zerolinecolor": "white"
           },
           "zaxis": {
            "backgroundcolor": "#E5ECF6",
            "gridcolor": "white",
            "gridwidth": 2,
            "linecolor": "white",
            "showbackground": true,
            "ticks": "",
            "zerolinecolor": "white"
           }
          },
          "shapedefaults": {
           "line": {
            "color": "#2a3f5f"
           }
          },
          "ternary": {
           "aaxis": {
            "gridcolor": "white",
            "linecolor": "white",
            "ticks": ""
           },
           "baxis": {
            "gridcolor": "white",
            "linecolor": "white",
            "ticks": ""
           },
           "bgcolor": "#E5ECF6",
           "caxis": {
            "gridcolor": "white",
            "linecolor": "white",
            "ticks": ""
           }
          },
          "title": {
           "x": 0.05
          },
          "xaxis": {
           "automargin": true,
           "gridcolor": "white",
           "linecolor": "white",
           "ticks": "",
           "title": {
            "standoff": 15
           },
           "zerolinecolor": "white",
           "zerolinewidth": 2
          },
          "yaxis": {
           "automargin": true,
           "gridcolor": "white",
           "linecolor": "white",
           "ticks": "",
           "title": {
            "standoff": 15
           },
           "zerolinecolor": "white",
           "zerolinewidth": 2
          }
         }
        },
        "title": {
         "font": {
          "size": 16
         },
         "text": "<br>Network graph"
        },
        "xaxis": {
         "showgrid": false,
         "showticklabels": false,
         "zeroline": false
        },
        "yaxis": {
         "showgrid": false,
         "showticklabels": false,
         "zeroline": false
        }
       }
      }
     },
     "metadata": {},
     "output_type": "display_data"
    }
   ],
   "source": [
    "import networkx as nx\n",
    "from plotly import graph_objects as go\n",
    "\n",
    "# Convert the strings back to dictionaries\n",
    "nodes = n.nodes\n",
    "edges = n.edges\n",
    "\n",
    "# Create the graph\n",
    "G = nx.Graph()\n",
    "\n",
    "# Add nodes and edges to the graph\n",
    "for node, attr in nodes.items():\n",
    "    G.add_node(node, **attr)\n",
    "\n",
    "for edge, attr in edges.items():\n",
    "    G.add_edge(*edge, **attr)\n",
    "\n",
    "# Get positions for the nodes in G\n",
    "pos = nx.spring_layout(G)\n",
    "\n",
    "# Create Edges\n",
    "edge_trace = go.Scatter(\n",
    "    x=[],\n",
    "    y=[],\n",
    "    line=dict(width=0.5, color='#888'),\n",
    "    hoverinfo='none',\n",
    "    mode='lines')\n",
    "\n",
    "for edge in G.edges():\n",
    "    x0, y0 = pos[edge[0]]\n",
    "    x1, y1 = pos[edge[1]]\n",
    "    edge_trace['x'] += tuple([x0, x1, None])\n",
    "    edge_trace['y'] += tuple([y0, y1, None])\n",
    "\n",
    "# Create Nodes\n",
    "node_trace = go.Scatter(\n",
    "    x=[],\n",
    "    y=[],\n",
    "    text=[],\n",
    "    mode='markers',\n",
    "    hoverinfo='text',\n",
    "    marker=dict(\n",
    "        showscale=True,\n",
    "        colorscale='YlGnBu',\n",
    "        reversescale=True,\n",
    "        color=[],\n",
    "        size=10,\n",
    "        colorbar=dict(\n",
    "            thickness=15,\n",
    "            title='Node Connections',\n",
    "            xanchor='left',\n",
    "            titleside='right'\n",
    "        ),\n",
    "        line=dict(width=2)))\n",
    "\n",
    "for node in G.nodes():\n",
    "    x, y = pos[node]\n",
    "    node_trace['x'] += tuple([x])\n",
    "    node_trace['y'] += tuple([y])\n",
    "\n",
    "# Color Node Points\n",
    "for node, adjacencies in enumerate(G.adjacency()):\n",
    "    node_trace['marker']['color'] += tuple([len(adjacencies[1])])\n",
    "    node_info = 'Name: ' + str(adjacencies[0]) + '<br># of connections: ' + str(len(adjacencies[1]))\n",
    "    node_trace['text'] += tuple([node_info])\n",
    "\n",
    "# Create Network Graph\n",
    "fig = go.Figure(data=[edge_trace, node_trace],\n",
    "             layout=go.Layout(\n",
    "                title='<br>Network graph',\n",
    "                titlefont=dict(size=16),\n",
    "                showlegend=False,\n",
    "                hovermode='closest',\n",
    "                margin=dict(b=20,l=5,r=5,t=40),\n",
    "                xaxis=dict(showgrid=False, zeroline=False, showticklabels=False),\n",
    "                yaxis=dict(showgrid=False, zeroline=False, showticklabels=False)))\n",
    "\n",
    "fig.show()"
   ]
  },
  {
   "cell_type": "code",
   "execution_count": 32,
   "metadata": {},
   "outputs": [
    {
     "data": {
      "text/html": [
       "<style>\n",
       "    text.label_jDJpHKwt {\n",
       "        text-anchor: middle;\n",
       "        font-size: 8px;\n",
       "        font-family: Arial, Helvetica, sans-serif;\n",
       "        fill: #999999;\n",
       "        stroke: #ffffff;\n",
       "        stroke-width: 0.1px;\n",
       "        opacity: 1.0;\n",
       "    }\n",
       "    .links_jDJpHKwt line {\n",
       "    stroke-opacity: 1.0;\n",
       "    }\n",
       "    .arrows svg:path {\n",
       "        stroke: #666;\n",
       "    }\n",
       "    .nodes_jDJpHKwt circle {\n",
       "    stroke: #fff;\n",
       "    stroke-width: 0.5px;\n",
       "    }\n",
       "</style>\n",
       "\n",
       "<svg width=\"400\" height=\"400\" id=\"jDJpHKwt\">        \n",
       "    <text x=\"20\" y=\"20\" font-family=\"sans-serif\" font-size=\"14px\" fill=\"#666\" style=\"cursor: pointer\"\n",
       "        id='jDJpHKwt_svg_txt'>[save svg]</text>\n",
       "</svg>\n",
       "\n",
       "<script charset=\"utf-8\" src=\"https://d3js.org/d3.v4.min.js\"></script>\n",
       "<script charset=\"utf-8\">\n",
       "\n",
       "// Load via requireJS if available (jupyter notebook environment)\n",
       "try {\n",
       "    // Problem: require.config will raise an exception when called for the second time \n",
       "    require.config({\n",
       "        paths: {\n",
       "            //d3: \"https://d3js.org/d3.v4.min\"\n",
       "            d3: \"https://d3js.org/d3.v4.min.js\".replace(\".js\", \"\")\n",
       "        }\n",
       "    });\n",
       "    console.log(\"Detected requireJS\");\n",
       "}\n",
       "catch(err){\n",
       "    // a reference error indicates that requireJS does not exist. \n",
       "    // other errors may occur due to multiple calls to config\n",
       "    if (err instanceof ReferenceError){\n",
       "        console.log(\"Detected no requireJS\");\n",
       "\n",
       "        // Helper function that waits for d3js to be loaded\n",
       "        require = function require(symbols, callback) {\n",
       "            var ms = 5;\n",
       "            window.setTimeout(function(t) {\n",
       "                if (window[symbols[0]])\n",
       "                    callback(window[symbols[0]]);\n",
       "                else \n",
       "                    window.setTimeout(arguments.callee, ms);\n",
       "            }, ms);\n",
       "        }\n",
       "    }\n",
       "}\n",
       "\n",
       "// wait until d3js has been loaded\n",
       "require([\"d3\"], function(d3) {\n",
       "    var svg = d3.select(\"#\"+\"jDJpHKwt\"), radius = 6, width = +svg.attr(\"width\"), height = +svg.attr(\"height\");\n",
       "\n",
       "    var color = d3.scaleOrdinal(d3.schemeCategory20);\n",
       "\n",
       "    var graph = {\"links\": [{\"source\": \"n_2\", \"target\": \"requirements.txt\", \"color\": \"#999999\", \"width\": 0.5, \"weight\": 0.6923076923076923}, {\"source\": \"n_2\", \"target\": \"__init__.py\", \"color\": \"#999999\", \"width\": 0.5, \"weight\": 1.0}, {\"source\": \"n_2\", \"target\": \"TUTORIAL.ipynb\", \"color\": \"#999999\", \"width\": 0.5, \"weight\": 0.7142857142857143}, {\"source\": \"n_2\", \"target\": \"README.md\", \"color\": \"#999999\", \"width\": 0.5, \"weight\": 0.6428571428571429}, {\"source\": \"n_2\", \"target\": \"visualisation.py\", \"color\": \"#999999\", \"width\": 0.5, \"weight\": 1.0}, {\"source\": \"n_2\", \"target\": \"extraction.py\", \"color\": \"#999999\", \"width\": 0.5, \"weight\": 0.9253731343283582}, {\"source\": \"n_2\", \"target\": \"git2net.py\", \"color\": \"#999999\", \"width\": 0.5, \"weight\": 1.0}, {\"source\": \"n_2\", \"target\": \"test_functions.py\", \"color\": \"#999999\", \"width\": 0.5, \"weight\": 1.0}, {\"source\": \"n_2\", \"target\": \"command_line.py\", \"color\": \"#999999\", \"width\": 0.5, \"weight\": 0.9}, {\"source\": \"n_2\", \"target\": \"setup.py\", \"color\": \"#999999\", \"width\": 0.5, \"weight\": 1.0}, {\"source\": \"n_6\", \"target\": \"TUTORIAL.ipynb\", \"color\": \"#999999\", \"width\": 0.5, \"weight\": 1.0}, {\"source\": \"n_5\", \"target\": \"extraction.py\", \"color\": \"#999999\", \"width\": 0.5, \"weight\": 1.0}, {\"source\": \"n_1\", \"target\": \"command_line.py\", \"color\": \"#999999\", \"width\": 0.5, \"weight\": 1.0}, {\"source\": \"n_2\", \"target\": \"disambiguation.py\", \"color\": \"#999999\", \"width\": 0.5, \"weight\": 0.7142857142857143}, {\"source\": \"n_2\", \"target\": \"pyproject.toml\", \"color\": \"#999999\", \"width\": 0.5, \"weight\": 1.0}, {\"source\": \"n_2\", \"target\": \"setup.cfg\", \"color\": \"#999999\", \"width\": 0.5, \"weight\": 1.0}, {\"source\": \"n_0\", \"target\": \"README.md\", \"color\": \"#999999\", \"width\": 0.5, \"weight\": 0.45454545454545453}, {\"source\": \"n_0\", \"target\": \"requirements.txt\", \"color\": \"#999999\", \"width\": 0.5, \"weight\": 0.36363636363636365}, {\"source\": \"n_0\", \"target\": \"TUTORIAL.ipynb\", \"color\": \"#999999\", \"width\": 0.5, \"weight\": 0.18181818181818182}, {\"source\": \"n_2\", \"target\": \"test_repo_1.zip\", \"color\": \"#999999\", \"width\": 0.5, \"weight\": 1.0}, {\"source\": \"n_2\", \"target\": \"python-app.yml\", \"color\": \"#999999\", \"width\": 0.5, \"weight\": 1.0}, {\"source\": \"n_2\", \"target\": \"python-publish.yml\", \"color\": \"#999999\", \"width\": 0.5, \"weight\": 1.0}, {\"source\": \"n_2\", \"target\": \"Makefile\", \"color\": \"#999999\", \"width\": 0.5, \"weight\": 1.0}, {\"source\": \"n_2\", \"target\": \"make.bat\", \"color\": \"#999999\", \"width\": 0.5, \"weight\": 1.0}, {\"source\": \"n_2\", \"target\": \"conf.py\", \"color\": \"#999999\", \"width\": 0.5, \"weight\": 1.0}, {\"source\": \"n_2\", \"target\": \"git2net.rst\", \"color\": \"#999999\", \"width\": 0.5, \"weight\": 1.0}, {\"source\": \"n_2\", \"target\": \"index.rst\", \"color\": \"#999999\", \"width\": 0.5, \"weight\": 1.0}, {\"source\": \"n_2\", \"target\": \"getting_started.rst\", \"color\": \"#999999\", \"width\": 0.5, \"weight\": 1.0}, {\"source\": \"n_2\", \"target\": \"modules.rst\", \"color\": \"#999999\", \"width\": 0.5, \"weight\": 1.0}, {\"source\": \"n_2\", \"target\": \".gitignore\", \"color\": \"#999999\", \"width\": 0.5, \"weight\": 1.0}, {\"source\": \"n_2\", \"target\": \"index.html\", \"color\": \"#999999\", \"width\": 0.5, \"weight\": 1.0}, {\"source\": \"n_2\", \"target\": \"api_reference.rst\", \"color\": \"#999999\", \"width\": 0.5, \"weight\": 1.0}, {\"source\": \"n_2\", \"target\": \"overview_installation.rst\", \"color\": \"#999999\", \"width\": 0.5, \"weight\": 1.0}, {\"source\": \"n_2\", \"target\": \"complexity.py\", \"color\": \"#999999\", \"width\": 0.5, \"weight\": 1.0}, {\"source\": \"n_9\", \"target\": \"extraction.py\", \"color\": \"#999999\", \"width\": 0.5, \"weight\": 1.0}, {\"source\": \"n_8\", \"target\": \"extraction.py\", \"color\": \"#999999\", \"width\": 0.5, \"weight\": 1.0}, {\"source\": \"n_7\", \"target\": \"extraction.py\", \"color\": \"#999999\", \"width\": 0.5, \"weight\": 0.5}, {\"source\": \"n_7\", \"target\": \"disambiguation.py\", \"color\": \"#999999\", \"width\": 0.5, \"weight\": 0.5}], \"nodes\": [{\"id\": \"n_2\", \"text\": \"n_2\", \"color\": \"#73D2DE\", \"size\": 5.0}, {\"id\": \"requirements.txt\", \"text\": \"requirements.txt\", \"color\": \"#2E5EAA\", \"size\": 5.0}, {\"id\": \"__init__.py\", \"text\": \"__init__.py\", \"color\": \"#2E5EAA\", \"size\": 5.0}, {\"id\": \"TUTORIAL.ipynb\", \"text\": \"TUTORIAL.ipynb\", \"color\": \"#2E5EAA\", \"size\": 5.0}, {\"id\": \"README.md\", \"text\": \"README.md\", \"color\": \"#2E5EAA\", \"size\": 5.0}, {\"id\": \"visualisation.py\", \"text\": \"visualisation.py\", \"color\": \"#2E5EAA\", \"size\": 5.0}, {\"id\": \"extraction.py\", \"text\": \"extraction.py\", \"color\": \"#2E5EAA\", \"size\": 5.0}, {\"id\": \"git2net.py\", \"text\": \"git2net.py\", \"color\": \"#2E5EAA\", \"size\": 5.0}, {\"id\": \"test_functions.py\", \"text\": \"test_functions.py\", \"color\": \"#2E5EAA\", \"size\": 5.0}, {\"id\": \"command_line.py\", \"text\": \"command_line.py\", \"color\": \"#2E5EAA\", \"size\": 5.0}, {\"id\": \"setup.py\", \"text\": \"setup.py\", \"color\": \"#2E5EAA\", \"size\": 5.0}, {\"id\": \"n_6\", \"text\": \"n_6\", \"color\": \"#73D2DE\", \"size\": 5.0}, {\"id\": \"n_5\", \"text\": \"n_5\", \"color\": \"#73D2DE\", \"size\": 5.0}, {\"id\": \"n_1\", \"text\": \"n_1\", \"color\": \"#73D2DE\", \"size\": 5.0}, {\"id\": \"disambiguation.py\", \"text\": \"disambiguation.py\", \"color\": \"#2E5EAA\", \"size\": 5.0}, {\"id\": \"pyproject.toml\", \"text\": \"pyproject.toml\", \"color\": \"#2E5EAA\", \"size\": 5.0}, {\"id\": \"setup.cfg\", \"text\": \"setup.cfg\", \"color\": \"#2E5EAA\", \"size\": 5.0}, {\"id\": \"n_0\", \"text\": \"n_0\", \"color\": \"#73D2DE\", \"size\": 5.0}, {\"id\": \"test_repo_1.zip\", \"text\": \"test_repo_1.zip\", \"color\": \"#2E5EAA\", \"size\": 5.0}, {\"id\": \"python-app.yml\", \"text\": \"python-app.yml\", \"color\": \"#2E5EAA\", \"size\": 5.0}, {\"id\": \"python-publish.yml\", \"text\": \"python-publish.yml\", \"color\": \"#2E5EAA\", \"size\": 5.0}, {\"id\": \"Makefile\", \"text\": \"Makefile\", \"color\": \"#2E5EAA\", \"size\": 5.0}, {\"id\": \"make.bat\", \"text\": \"make.bat\", \"color\": \"#2E5EAA\", \"size\": 5.0}, {\"id\": \"conf.py\", \"text\": \"conf.py\", \"color\": \"#2E5EAA\", \"size\": 5.0}, {\"id\": \"git2net.rst\", \"text\": \"git2net.rst\", \"color\": \"#2E5EAA\", \"size\": 5.0}, {\"id\": \"index.rst\", \"text\": \"index.rst\", \"color\": \"#2E5EAA\", \"size\": 5.0}, {\"id\": \"getting_started.rst\", \"text\": \"getting_started.rst\", \"color\": \"#2E5EAA\", \"size\": 5.0}, {\"id\": \"modules.rst\", \"text\": \"modules.rst\", \"color\": \"#2E5EAA\", \"size\": 5.0}, {\"id\": \".gitignore\", \"text\": \".gitignore\", \"color\": \"#2E5EAA\", \"size\": 5.0}, {\"id\": \"index.html\", \"text\": \"index.html\", \"color\": \"#2E5EAA\", \"size\": 5.0}, {\"id\": \"api_reference.rst\", \"text\": \"api_reference.rst\", \"color\": \"#2E5EAA\", \"size\": 5.0}, {\"id\": \"overview_installation.rst\", \"text\": \"overview_installation.rst\", \"color\": \"#2E5EAA\", \"size\": 5.0}, {\"id\": \"complexity.py\", \"text\": \"complexity.py\", \"color\": \"#2E5EAA\", \"size\": 5.0}, {\"id\": \"n_9\", \"text\": \"n_9\", \"color\": \"#73D2DE\", \"size\": 5.0}, {\"id\": \"n_8\", \"text\": \"n_8\", \"color\": \"#73D2DE\", \"size\": 5.0}, {\"id\": \"n_7\", \"text\": \"n_7\", \"color\": \"#73D2DE\", \"size\": 5.0}]};\n",
       "    var directed = true;\n",
       "\n",
       "    var simulation = d3.forceSimulation()        \n",
       "       .force(\"link\", d3.forceLink().id(function(d) { return d.id; }).strength(function(d){return d.weight;}))\n",
       "        .force(\"charge\", d3.forceManyBody().strength(-20).distanceMax(400))\n",
       "       .force(\"repelForce\", d3.forceManyBody().strength(-200).distanceMax(100))\n",
       "       .force(\"center\", d3.forceCenter(400 / 2, 400 / 2))\n",
       "       .alphaTarget(0.0);\n",
       "\n",
       "    svg.append(\"defs\").selectAll(\"marker\")\n",
       "        .data([\"end\"])\n",
       "    .enter().append(\"marker\")\n",
       "        .attr(\"id\", String)\n",
       "        .attr(\"viewBox\", \"0 -5 20 20\")\n",
       "        .attr(\"refX\", 34)\n",
       "        .attr(\"refY\", 0)\n",
       "        .attr(\"markerWidth\", 15)\n",
       "        .attr(\"markerHeight\", 15)\n",
       "        .attr(\"orient\", \"auto\")\n",
       "    .append(\"path\")\n",
       "        // draws a filled path (triangle) between three points\n",
       "        .attr(\"d\", \"M0,-5 L20,0 L0,5 z\")\n",
       "        .attr(\"fill\", '#999')\n",
       "        .attr(\"stroke\", 'none');\n",
       "\n",
       "    var g = svg.append(\"g\")\n",
       "        .attr(\"class\", \"everything\");\n",
       "\n",
       "    var link = g.append(\"g\")\n",
       "        .attr(\"class\", \"links_jDJpHKwt\")\n",
       "        .selectAll(\"line\")\n",
       "        .data(graph.links)\n",
       "        .enter().append(\"line\")\n",
       "        .attr(\"stroke-width\", function(d) { return d.width; })\n",
       "        .attr(\"stroke\", function(d) { return d.color; } );\n",
       "\n",
       "    if (directed)\n",
       "        link.attr(\"marker-end\", \"url(#end)\");\n",
       "\n",
       "    var node_g = g.append(\"g\")\n",
       "        .attr(\"class\", \"nodes_jDJpHKwt\")\n",
       "        .selectAll(\"circle\")\n",
       "        .data(graph.nodes)\n",
       "        .enter()\n",
       "        .append(\"g\"); \n",
       "\n",
       "    var node = node_g.append(\"circle\")\n",
       "        .attr('id', function(d) { return d.id; })\n",
       "        .attr(\"r\", function(d) { return d.size; })\n",
       "        .attr(\"fill\", function(d) { return d.color; })\n",
       "        .call(d3.drag()\n",
       "            .on(\"start\", dragstarted)\n",
       "            .on(\"drag\", dragged)\n",
       "            .on(\"end\", dragended));\n",
       "\n",
       "    var text = node_g.append(\"text\")\n",
       "    .attr(\"x\", [0, -10][0])\n",
       "    .attr(\"y\", [0, -10][1]+3)\n",
       "    .attr(\"id\", function(d) {return d.id; })\n",
       "    .attr(\"class\", \"label_jDJpHKwt\")\n",
       "    .text(function(d) { return d.id; });\n",
       "\n",
       "    node.append(\"title\")\n",
       "        .text(function(d) { return d.text; });\n",
       "\n",
       "    var zoom_handler = d3.zoom()\n",
       "        .on(\"zoom\", zoom_actions);\n",
       "    zoom_handler(svg);\n",
       "\n",
       "    // attach event handler for svg export\n",
       "    d3.select('#jDJpHKwt_svg_txt').on(\"click\", save_svg);\n",
       "\n",
       "    simulation\n",
       "        .nodes(graph.nodes)\n",
       "        .on(\"tick\", ticked);\n",
       "\n",
       "    simulation.force(\"link\")\n",
       "        .links(graph.links);\n",
       "\n",
       "    function ticked() {\n",
       "        link.attr(\"x1\", function(d) { return d.source.x; })\n",
       "            .attr(\"y1\", function(d) { return d.source.y; })\n",
       "            .attr(\"x2\", function(d) { return d.target.x; })\n",
       "            .attr(\"y2\", function(d) { return d.target.y; });\n",
       "\n",
       "         text.attr(\"transform\", transform);\n",
       "\n",
       "\n",
       "        text.attr(\"cx\", function(d) { return d.x; })\n",
       "            .attr(\"cy\", function(d) { return d.y; });\n",
       "\n",
       "        node.attr(\"cx\", function(d) { return d.x; })\n",
       "            .attr(\"cy\", function(d) { return d.y; });\n",
       "    }\n",
       "\n",
       "    function transform(d) {\n",
       "        return \"translate(\" + d.x + \",\" + d.y + \")\";\n",
       "    }\n",
       "\n",
       "    function dragstarted(d) {\n",
       "    if (!d3.event.active) simulation.alphaTarget(0.3).restart();\n",
       "    d.fx = d.x;\n",
       "    d.fy = d.y;\n",
       "    }\n",
       "\n",
       "    function zoom_actions(){\n",
       "        g.attr(\"transform\", d3.event.transform)\n",
       "    }    \n",
       "\n",
       "    function dragged(d) {\n",
       "    d.fx = d3.event.x;\n",
       "    d.fy = d3.event.y;\n",
       "    }\n",
       "\n",
       "    function dragended(d) {\n",
       "    if (!d3.event.active) simulation.alphaTarget(0);\n",
       "    d.fx = null;\n",
       "    d.fy = null;\n",
       "    }\n",
       "\n",
       "    function to_svg() {\n",
       "        // Returns a SVG representation of the current state of the visualisation\n",
       "\t    var svg  = document.getElementById('jDJpHKwt');\n",
       "\t    var xml = (new XMLSerializer).serializeToString(svg);\n",
       "        return xml;\n",
       "    }\n",
       "\n",
       "    function save_svg() {\n",
       "        var svg  = document.getElementById('jDJpHKwt');\n",
       "        var xml = (new XMLSerializer).serializeToString(svg);        \n",
       "        var blob = new Blob([xml], {type: 'text/xml'});\n",
       "        if(window.navigator.msSaveOrOpenBlob) {\n",
       "            window.navigator.msSaveBlob(blob, 'network.svg');\n",
       "        }\n",
       "        else{\n",
       "            var elem = window.document.createElement('a');\n",
       "            elem.href = window.URL.createObjectURL(blob);\n",
       "            elem.download = 'network.svg';\n",
       "            document.body.appendChild(elem);\n",
       "            elem.click();\n",
       "            document.body.removeChild(elem);\n",
       "        }\n",
       "    }\n",
       "});\n",
       "</script>"
      ],
      "text/plain": [
       "<IPython.core.display.HTML object>"
      ]
     },
     "metadata": {},
     "output_type": "display_data"
    }
   ],
   "source": [
    "from datetime import datetime\n",
    "time_from = datetime(2019, 12, 30)\n",
    "t, node_info, edge_info = git2net.get_bipartite_network(db_filename, time_from=time_from)\n",
    "n = pp.Network.from_temporal_network(t)\n",
    "colour_map = {'author': '#73D2DE', 'file': '#2E5EAA'}\n",
    "node_color = {node: colour_map[node_info['class'][node]] for node in n.nodes}\n",
    "pp.visualisation.plot(n, node_color=node_color)"
   ]
  }
 ],
 "metadata": {
  "kernelspec": {
   "display_name": "Python 3 (ipykernel)",
   "language": "python",
   "name": "python3"
  },
  "language_info": {
   "codemirror_mode": {
    "name": "ipython",
    "version": 3
   },
   "file_extension": ".py",
   "mimetype": "text/x-python",
   "name": "python",
   "nbconvert_exporter": "python",
   "pygments_lexer": "ipython3",
   "version": "3.11.3"
  }
 },
 "nbformat": 4,
 "nbformat_minor": 2
}
